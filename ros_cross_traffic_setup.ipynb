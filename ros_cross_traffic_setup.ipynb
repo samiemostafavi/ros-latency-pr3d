{
  "cells": [
    {
      "cell_type": "markdown",
      "metadata": {
        "id": "view-in-github",
        "colab_type": "text"
      },
      "source": [
        "<a href=\"https://colab.research.google.com/github/samiemostafavi/ros-latency-pr3d/blob/main/ros_cross_traffic_setup.ipynb\" target=\"_parent\"><img src=\"https://colab.research.google.com/assets/colab-badge.svg\" alt=\"Open In Colab\"/></a>"
      ]
    },
    {
      "cell_type": "markdown",
      "metadata": {
        "id": "W9YICZf_mJBy"
      },
      "source": [
        "Login to Chameleon and download openrc.sh file from [here](https://testbed.expeca.proj.kth.se/project/api_access/openrc/). Upload it here next to this notebook and continue.\n",
        "\n",
        "In the next cell, we setup the authentication method to be able to use Openstack clients."
      ]
    },
    {
      "cell_type": "code",
      "execution_count": 1,
      "metadata": {
        "colab": {
          "base_uri": "https://localhost:8080/"
        },
        "id": "KLT-J26lJ5ae",
        "outputId": "97968dfd-8c40-46a1-9f66-edd4809fa03f"
      },
      "outputs": [
        {
          "name": "stdout",
          "output_type": "stream",
          "text": [
            "enter your expeca password:··········\n"
          ]
        }
      ],
      "source": [
        "import os, re\n",
        "from getpass import getpass\n",
        "\n",
        "with open('bryan-project-openrc.sh', 'r') as f:\n",
        "    script_content = f.read()\n",
        "    pattern = r'export\\s+(\\w+)\\s*=\\s*(\"[^\"]+\"|[^\"\\n]+)'\n",
        "    matches = re.findall(pattern, script_content)\n",
        "\n",
        "    for name, value in matches:\n",
        "        os.environ[name] = value.strip('\"')\n",
        "\n",
        "password = getpass('enter your expeca password:')\n",
        "os.environ['OS_PASSWORD'] = password"
      ]
    },
    {
      "cell_type": "markdown",
      "metadata": {
        "id": "5bXlipy4m1bs"
      },
      "source": [
        "Install required packages and dependencies. Ignore the warnings."
      ]
    },
    {
      "cell_type": "code",
      "execution_count": 2,
      "metadata": {
        "colab": {
          "base_uri": "https://localhost:8080/"
        },
        "id": "3uZ_rN5iFlhp",
        "outputId": "48e6a86f-fea1-4e25-8241-97439e0c0d26"
      },
      "outputs": [
        {
          "output_type": "stream",
          "name": "stdout",
          "text": [
            "\u001b[?25l   \u001b[90m━━━━━━━━━━━━━━━━━━━━━━━━━━━━━━━━━━━━━━━━\u001b[0m \u001b[32m0.0/1.6 MB\u001b[0m \u001b[31m?\u001b[0m eta \u001b[36m-:--:--\u001b[0m\r\u001b[2K   \u001b[91m━━━━━━━━━━━━━━━━━━━━━━━━━━━━━━━━━━━━━━━\u001b[0m\u001b[91m╸\u001b[0m \u001b[32m1.6/1.6 MB\u001b[0m \u001b[31m60.7 MB/s\u001b[0m eta \u001b[36m0:00:01\u001b[0m\r\u001b[2K   \u001b[90m━━━━━━━━━━━━━━━━━━━━━━━━━━━━━━━━━━━━━━━━\u001b[0m \u001b[32m1.6/1.6 MB\u001b[0m \u001b[31m32.5 MB/s\u001b[0m eta \u001b[36m0:00:00\u001b[0m\n",
            "\u001b[?25h  Preparing metadata (setup.py) ... \u001b[?25l\u001b[?25hdone\n",
            "  Preparing metadata (setup.py) ... \u001b[?25l\u001b[?25hdone\n",
            "\u001b[2K   \u001b[90m━━━━━━━━━━━━━━━━━━━━━━━━━━━━━━━━━━━━━━━━\u001b[0m \u001b[32m59.4/59.4 kB\u001b[0m \u001b[31m4.3 MB/s\u001b[0m eta \u001b[36m0:00:00\u001b[0m\n",
            "\u001b[2K   \u001b[90m━━━━━━━━━━━━━━━━━━━━━━━━━━━━━━━━━━━━━━━━\u001b[0m \u001b[32m227.3/227.3 kB\u001b[0m \u001b[31m16.6 MB/s\u001b[0m eta \u001b[36m0:00:00\u001b[0m\n",
            "\u001b[2K   \u001b[90m━━━━━━━━━━━━━━━━━━━━━━━━━━━━━━━━━━━━━━━━\u001b[0m \u001b[32m66.6/66.6 kB\u001b[0m \u001b[31m5.4 MB/s\u001b[0m eta \u001b[36m0:00:00\u001b[0m\n",
            "\u001b[2K   \u001b[90m━━━━━━━━━━━━━━━━━━━━━━━━━━━━━━━━━━━━━━━━\u001b[0m \u001b[32m341.6/341.6 kB\u001b[0m \u001b[31m24.3 MB/s\u001b[0m eta \u001b[36m0:00:00\u001b[0m\n",
            "\u001b[2K   \u001b[90m━━━━━━━━━━━━━━━━━━━━━━━━━━━━━━━━━━━━━━━━\u001b[0m \u001b[32m61.6/61.6 kB\u001b[0m \u001b[31m5.3 MB/s\u001b[0m eta \u001b[36m0:00:00\u001b[0m\n",
            "\u001b[2K   \u001b[90m━━━━━━━━━━━━━━━━━━━━━━━━━━━━━━━━━━━━━━━━\u001b[0m \u001b[32m1.8/1.8 MB\u001b[0m \u001b[31m27.5 MB/s\u001b[0m eta \u001b[36m0:00:00\u001b[0m\n",
            "\u001b[2K   \u001b[90m━━━━━━━━━━━━━━━━━━━━━━━━━━━━━━━━━━━━━━━━\u001b[0m \u001b[32m256.2/256.2 kB\u001b[0m \u001b[31m19.2 MB/s\u001b[0m eta \u001b[36m0:00:00\u001b[0m\n",
            "\u001b[2K   \u001b[90m━━━━━━━━━━━━━━━━━━━━━━━━━━━━━━━━━━━━━━━━\u001b[0m \u001b[32m207.0/207.0 kB\u001b[0m \u001b[31m17.2 MB/s\u001b[0m eta \u001b[36m0:00:00\u001b[0m\n",
            "\u001b[2K   \u001b[90m━━━━━━━━━━━━━━━━━━━━━━━━━━━━━━━━━━━━━━━━\u001b[0m \u001b[32m241.0/241.0 kB\u001b[0m \u001b[31m18.7 MB/s\u001b[0m eta \u001b[36m0:00:00\u001b[0m\n",
            "\u001b[2K   \u001b[90m━━━━━━━━━━━━━━━━━━━━━━━━━━━━━━━━━━━━━━━━\u001b[0m \u001b[32m517.9/517.9 kB\u001b[0m \u001b[31m27.2 MB/s\u001b[0m eta \u001b[36m0:00:00\u001b[0m\n",
            "\u001b[2K   \u001b[90m━━━━━━━━━━━━━━━━━━━━━━━━━━━━━━━━━━━━━━━━\u001b[0m \u001b[32m295.7/295.7 kB\u001b[0m \u001b[31m18.6 MB/s\u001b[0m eta \u001b[36m0:00:00\u001b[0m\n",
            "\u001b[2K   \u001b[90m━━━━━━━━━━━━━━━━━━━━━━━━━━━━━━━━━━━━━━━━\u001b[0m \u001b[32m336.3/336.3 kB\u001b[0m \u001b[31m21.3 MB/s\u001b[0m eta \u001b[36m0:00:00\u001b[0m\n",
            "\u001b[2K   \u001b[90m━━━━━━━━━━━━━━━━━━━━━━━━━━━━━━━━━━━━━━━━\u001b[0m \u001b[32m155.0/155.0 kB\u001b[0m \u001b[31m12.7 MB/s\u001b[0m eta \u001b[36m0:00:00\u001b[0m\n",
            "\u001b[2K   \u001b[90m━━━━━━━━━━━━━━━━━━━━━━━━━━━━━━━━━━━━━━━━\u001b[0m \u001b[32m278.6/278.6 kB\u001b[0m \u001b[31m17.0 MB/s\u001b[0m eta \u001b[36m0:00:00\u001b[0m\n",
            "\u001b[2K   \u001b[90m━━━━━━━━━━━━━━━━━━━━━━━━━━━━━━━━━━━━━━━━\u001b[0m \u001b[32m80.9/80.9 kB\u001b[0m \u001b[31m6.6 MB/s\u001b[0m eta \u001b[36m0:00:00\u001b[0m\n",
            "\u001b[2K   \u001b[90m━━━━━━━━━━━━━━━━━━━━━━━━━━━━━━━━━━━━━━━━\u001b[0m \u001b[32m147.8/147.8 kB\u001b[0m \u001b[31m10.6 MB/s\u001b[0m eta \u001b[36m0:00:00\u001b[0m\n",
            "\u001b[2K   \u001b[90m━━━━━━━━━━━━━━━━━━━━━━━━━━━━━━━━━━━━━━━━\u001b[0m \u001b[32m62.9/62.9 kB\u001b[0m \u001b[31m4.5 MB/s\u001b[0m eta \u001b[36m0:00:00\u001b[0m\n",
            "\u001b[2K   \u001b[90m━━━━━━━━━━━━━━━━━━━━━━━━━━━━━━━━━━━━━━━━\u001b[0m \u001b[32m160.3/160.3 kB\u001b[0m \u001b[31m10.6 MB/s\u001b[0m eta \u001b[36m0:00:00\u001b[0m\n",
            "\u001b[2K   \u001b[90m━━━━━━━━━━━━━━━━━━━━━━━━━━━━━━━━━━━━━━━━\u001b[0m \u001b[32m2.3/2.3 MB\u001b[0m \u001b[31m48.0 MB/s\u001b[0m eta \u001b[36m0:00:00\u001b[0m\n",
            "\u001b[2K   \u001b[90m━━━━━━━━━━━━━━━━━━━━━━━━━━━━━━━━━━━━━━━━\u001b[0m \u001b[32m89.3/89.3 kB\u001b[0m \u001b[31m7.4 MB/s\u001b[0m eta \u001b[36m0:00:00\u001b[0m\n",
            "\u001b[2K   \u001b[90m━━━━━━━━━━━━━━━━━━━━━━━━━━━━━━━━━━━━━━━━\u001b[0m \u001b[32m131.8/131.8 kB\u001b[0m \u001b[31m10.4 MB/s\u001b[0m eta \u001b[36m0:00:00\u001b[0m\n",
            "\u001b[2K   \u001b[90m━━━━━━━━━━━━━━━━━━━━━━━━━━━━━━━━━━━━━━━━\u001b[0m \u001b[32m46.8/46.8 kB\u001b[0m \u001b[31m3.6 MB/s\u001b[0m eta \u001b[36m0:00:00\u001b[0m\n",
            "\u001b[2K   \u001b[90m━━━━━━━━━━━━━━━━━━━━━━━━━━━━━━━━━━━━━━━━\u001b[0m \u001b[32m73.9/73.9 kB\u001b[0m \u001b[31m5.9 MB/s\u001b[0m eta \u001b[36m0:00:00\u001b[0m\n",
            "\u001b[2K   \u001b[90m━━━━━━━━━━━━━━━━━━━━━━━━━━━━━━━━━━━━━━━━\u001b[0m \u001b[32m134.5/134.5 kB\u001b[0m \u001b[31m10.5 MB/s\u001b[0m eta \u001b[36m0:00:00\u001b[0m\n",
            "\u001b[2K   \u001b[90m━━━━━━━━━━━━━━━━━━━━━━━━━━━━━━━━━━━━━━━━\u001b[0m \u001b[32m856.7/856.7 kB\u001b[0m \u001b[31m34.7 MB/s\u001b[0m eta \u001b[36m0:00:00\u001b[0m\n",
            "\u001b[2K   \u001b[90m━━━━━━━━━━━━━━━━━━━━━━━━━━━━━━━━━━━━━━━━\u001b[0m \u001b[32m397.2/397.2 kB\u001b[0m \u001b[31m25.5 MB/s\u001b[0m eta \u001b[36m0:00:00\u001b[0m\n",
            "\u001b[2K   \u001b[90m━━━━━━━━━━━━━━━━━━━━━━━━━━━━━━━━━━━━━━━━\u001b[0m \u001b[32m1.1/1.1 MB\u001b[0m \u001b[31m38.5 MB/s\u001b[0m eta \u001b[36m0:00:00\u001b[0m\n",
            "\u001b[2K   \u001b[90m━━━━━━━━━━━━━━━━━━━━━━━━━━━━━━━━━━━━━━━━\u001b[0m \u001b[32m49.5/49.5 kB\u001b[0m \u001b[31m3.9 MB/s\u001b[0m eta \u001b[36m0:00:00\u001b[0m\n",
            "\u001b[2K   \u001b[90m━━━━━━━━━━━━━━━━━━━━━━━━━━━━━━━━━━━━━━━━\u001b[0m \u001b[32m53.6/53.6 kB\u001b[0m \u001b[31m4.0 MB/s\u001b[0m eta \u001b[36m0:00:00\u001b[0m\n",
            "\u001b[2K   \u001b[90m━━━━━━━━━━━━━━━━━━━━━━━━━━━━━━━━━━━━━━━━\u001b[0m \u001b[32m152.8/152.8 kB\u001b[0m \u001b[31m10.7 MB/s\u001b[0m eta \u001b[36m0:00:00\u001b[0m\n",
            "\u001b[?25h  Building wheel for python-chi (setup.py) ... \u001b[?25l\u001b[?25hdone\n",
            "  Building wheel for python-blazarclient (setup.py) ... \u001b[?25l\u001b[?25hdone\n"
          ]
        }
      ],
      "source": [
        "!pip uninstall -q -y moviepy\n",
        "!pip install -q jedi\n",
        "!pip install -q git+https://github.com/KTH-EXPECA/python-chi"
      ]
    },
    {
      "cell_type": "markdown",
      "metadata": {
        "id": "VkDR3RsFpKSv"
      },
      "source": [
        "Import packages"
      ]
    },
    {
      "cell_type": "code",
      "execution_count": 3,
      "metadata": {
        "id": "gWqW34Pc7YJp"
      },
      "outputs": [],
      "source": [
        "import json\n",
        "from loguru import logger\n",
        "import chi.network, chi.container\n",
        "from chi.expeca import reserve, list_reservations, unreserve_byid, get_container_status, wait_until_container_removed, show_reservation_byname, get_available_publicips, get_segment_ids, get_worker_interfaces"
      ]
    },
    {
      "cell_type": "markdown",
      "metadata": {
        "id": "Rd4EsDjdqRFU"
      },
      "source": [
        "In the next cell, we reserve the required equipment and resources to form an end to end experiment setup. We reserve EP5G network."
      ]
    },
    {
      "cell_type": "code",
      "execution_count": 6,
      "metadata": {
        "colab": {
          "base_uri": "https://localhost:8080/"
        },
        "id": "1pauMnGZ8KSP",
        "outputId": "ee2117ee-ce3d-42c5-ecef-3dd1e4886905"
      },
      "outputs": [
        {
          "output_type": "stream",
          "name": "stderr",
          "text": [
            "\u001b[32m2025-02-20 10:46:15.728\u001b[0m | \u001b[1mINFO    \u001b[0m | \u001b[36mchi.expeca\u001b[0m:\u001b[36mreserve\u001b[0m:\u001b[36m243\u001b[0m - \u001b[1mreserving ep5g\u001b[0m\n",
            "\u001b[32m2025-02-20 10:46:18.515\u001b[0m | \u001b[1mINFO    \u001b[0m | \u001b[36mchi.expeca\u001b[0m:\u001b[36mwait_until_lease_status\u001b[0m:\u001b[36m138\u001b[0m - \u001b[1mwaiting 120 seconds for ep5g-lease with id 82dbd038-b461-4fab-aeab-74e0b0827036 to become \"ACTIVE\"\u001b[0m\n",
            "\u001b[32m2025-02-20 10:46:23.669\u001b[0m | \u001b[1mINFO    \u001b[0m | \u001b[36mchi.expeca\u001b[0m:\u001b[36mwait_until_lease_status\u001b[0m:\u001b[36m145\u001b[0m - \u001b[1mlease ep5g-lease with id 82dbd038-b461-4fab-aeab-74e0b0827036 is PENDING.\u001b[0m\n",
            "\u001b[32m2025-02-20 10:46:28.822\u001b[0m | \u001b[1mINFO    \u001b[0m | \u001b[36mchi.expeca\u001b[0m:\u001b[36mwait_until_lease_status\u001b[0m:\u001b[36m145\u001b[0m - \u001b[1mlease ep5g-lease with id 82dbd038-b461-4fab-aeab-74e0b0827036 is PENDING.\u001b[0m\n",
            "\u001b[32m2025-02-20 10:46:33.971\u001b[0m | \u001b[1mINFO    \u001b[0m | \u001b[36mchi.expeca\u001b[0m:\u001b[36mwait_until_lease_status\u001b[0m:\u001b[36m145\u001b[0m - \u001b[1mlease ep5g-lease with id 82dbd038-b461-4fab-aeab-74e0b0827036 is PENDING.\u001b[0m\n",
            "\u001b[32m2025-02-20 10:46:39.129\u001b[0m | \u001b[1mINFO    \u001b[0m | \u001b[36mchi.expeca\u001b[0m:\u001b[36mwait_until_lease_status\u001b[0m:\u001b[36m145\u001b[0m - \u001b[1mlease ep5g-lease with id 82dbd038-b461-4fab-aeab-74e0b0827036 is PENDING.\u001b[0m\n",
            "\u001b[32m2025-02-20 10:46:44.267\u001b[0m | \u001b[1mINFO    \u001b[0m | \u001b[36mchi.expeca\u001b[0m:\u001b[36mwait_until_lease_status\u001b[0m:\u001b[36m145\u001b[0m - \u001b[1mlease ep5g-lease with id 82dbd038-b461-4fab-aeab-74e0b0827036 is PENDING.\u001b[0m\n",
            "\u001b[32m2025-02-20 10:46:49.426\u001b[0m | \u001b[1mINFO    \u001b[0m | \u001b[36mchi.expeca\u001b[0m:\u001b[36mwait_until_lease_status\u001b[0m:\u001b[36m145\u001b[0m - \u001b[1mlease ep5g-lease with id 82dbd038-b461-4fab-aeab-74e0b0827036 is PENDING.\u001b[0m\n",
            "\u001b[32m2025-02-20 10:46:54.558\u001b[0m | \u001b[1mINFO    \u001b[0m | \u001b[36mchi.expeca\u001b[0m:\u001b[36mwait_until_lease_status\u001b[0m:\u001b[36m145\u001b[0m - \u001b[1mlease ep5g-lease with id 82dbd038-b461-4fab-aeab-74e0b0827036 is PENDING.\u001b[0m\n",
            "\u001b[32m2025-02-20 10:46:59.705\u001b[0m | \u001b[1mINFO    \u001b[0m | \u001b[36mchi.expeca\u001b[0m:\u001b[36mwait_until_lease_status\u001b[0m:\u001b[36m145\u001b[0m - \u001b[1mlease ep5g-lease with id 82dbd038-b461-4fab-aeab-74e0b0827036 is PENDING.\u001b[0m\n",
            "\u001b[32m2025-02-20 10:47:04.837\u001b[0m | \u001b[1mINFO    \u001b[0m | \u001b[36mchi.expeca\u001b[0m:\u001b[36mwait_until_lease_status\u001b[0m:\u001b[36m145\u001b[0m - \u001b[1mlease ep5g-lease with id 82dbd038-b461-4fab-aeab-74e0b0827036 is STARTING.\u001b[0m\n",
            "\u001b[32m2025-02-20 10:47:09.987\u001b[0m | \u001b[1mINFO    \u001b[0m | \u001b[36mchi.expeca\u001b[0m:\u001b[36mwait_until_lease_status\u001b[0m:\u001b[36m145\u001b[0m - \u001b[1mlease ep5g-lease with id 82dbd038-b461-4fab-aeab-74e0b0827036 is STARTING.\u001b[0m\n",
            "\u001b[32m2025-02-20 10:47:15.136\u001b[0m | \u001b[1mINFO    \u001b[0m | \u001b[36mchi.expeca\u001b[0m:\u001b[36mwait_until_lease_status\u001b[0m:\u001b[36m145\u001b[0m - \u001b[1mlease ep5g-lease with id 82dbd038-b461-4fab-aeab-74e0b0827036 is ERROR.\u001b[0m\n",
            "\u001b[32m2025-02-20 10:47:15.138\u001b[0m | \u001b[33m\u001b[1mWARNING \u001b[0m | \u001b[36mchi.expeca\u001b[0m:\u001b[36mtry_to_create_lease\u001b[0m:\u001b[36m290\u001b[0m - \u001b[33m\u001b[1mep5g reservation failed. msg: unknown\u001b[0m\n",
            "\u001b[32m2025-02-20 10:47:15.139\u001b[0m | \u001b[1mINFO    \u001b[0m | \u001b[36mchi.expeca\u001b[0m:\u001b[36mremove_lease\u001b[0m:\u001b[36m160\u001b[0m - \u001b[1mRemoving ep5g-lease reservation with id 82dbd038-b461-4fab-aeab-74e0b0827036.\u001b[0m\n",
            "\u001b[32m2025-02-20 10:47:16.252\u001b[0m | \u001b[1mINFO    \u001b[0m | \u001b[36mchi.expeca\u001b[0m:\u001b[36mwait_until_lease_status\u001b[0m:\u001b[36m138\u001b[0m - \u001b[1mwaiting 120 seconds for ep5g-lease with id 82dbd038-b461-4fab-aeab-74e0b0827036 to become \"None\"\u001b[0m\n",
            "\u001b[32m2025-02-20 10:47:21.409\u001b[0m | \u001b[1mINFO    \u001b[0m | \u001b[36mchi.expeca\u001b[0m:\u001b[36mwait_until_lease_status\u001b[0m:\u001b[36m145\u001b[0m - \u001b[1mlease ep5g-lease with id 82dbd038-b461-4fab-aeab-74e0b0827036 is None.\u001b[0m\n",
            "\u001b[32m2025-02-20 10:47:21.410\u001b[0m | \u001b[32m\u001b[1mSUCCESS \u001b[0m | \u001b[36mchi.expeca\u001b[0m:\u001b[36mtry_to_remove\u001b[0m:\u001b[36m171\u001b[0m - \u001b[32m\u001b[1mdone\u001b[0m\n",
            "\u001b[32m2025-02-20 10:47:21.412\u001b[0m | \u001b[1mINFO    \u001b[0m | \u001b[36mchi.expeca\u001b[0m:\u001b[36mreserve\u001b[0m:\u001b[36m304\u001b[0m - \u001b[1mretrying to reserve ep5g. 2 retry(s) left.\u001b[0m\n",
            "\u001b[32m2025-02-20 10:47:21.412\u001b[0m | \u001b[1mINFO    \u001b[0m | \u001b[36mchi.expeca\u001b[0m:\u001b[36mreserve\u001b[0m:\u001b[36m305\u001b[0m - \u001b[1mwaiting 5 seconds for ep5g to retry reserving it.\u001b[0m\n",
            "\u001b[32m2025-02-20 10:47:28.951\u001b[0m | \u001b[1mINFO    \u001b[0m | \u001b[36mchi.expeca\u001b[0m:\u001b[36mwait_until_lease_status\u001b[0m:\u001b[36m138\u001b[0m - \u001b[1mwaiting 120 seconds for ep5g-lease with id 594e761f-845a-4d5b-bca6-e2fe2e685372 to become \"ACTIVE\"\u001b[0m\n",
            "\u001b[32m2025-02-20 10:47:34.117\u001b[0m | \u001b[1mINFO    \u001b[0m | \u001b[36mchi.expeca\u001b[0m:\u001b[36mwait_until_lease_status\u001b[0m:\u001b[36m145\u001b[0m - \u001b[1mlease ep5g-lease with id 594e761f-845a-4d5b-bca6-e2fe2e685372 is PENDING.\u001b[0m\n",
            "\u001b[32m2025-02-20 10:47:39.258\u001b[0m | \u001b[1mINFO    \u001b[0m | \u001b[36mchi.expeca\u001b[0m:\u001b[36mwait_until_lease_status\u001b[0m:\u001b[36m145\u001b[0m - \u001b[1mlease ep5g-lease with id 594e761f-845a-4d5b-bca6-e2fe2e685372 is STARTING.\u001b[0m\n",
            "\u001b[32m2025-02-20 10:47:44.404\u001b[0m | \u001b[1mINFO    \u001b[0m | \u001b[36mchi.expeca\u001b[0m:\u001b[36mwait_until_lease_status\u001b[0m:\u001b[36m145\u001b[0m - \u001b[1mlease ep5g-lease with id 594e761f-845a-4d5b-bca6-e2fe2e685372 is STARTING.\u001b[0m\n",
            "\u001b[32m2025-02-20 10:47:49.561\u001b[0m | \u001b[1mINFO    \u001b[0m | \u001b[36mchi.expeca\u001b[0m:\u001b[36mwait_until_lease_status\u001b[0m:\u001b[36m145\u001b[0m - \u001b[1mlease ep5g-lease with id 594e761f-845a-4d5b-bca6-e2fe2e685372 is STARTING.\u001b[0m\n",
            "\u001b[32m2025-02-20 10:47:54.719\u001b[0m | \u001b[1mINFO    \u001b[0m | \u001b[36mchi.expeca\u001b[0m:\u001b[36mwait_until_lease_status\u001b[0m:\u001b[36m145\u001b[0m - \u001b[1mlease ep5g-lease with id 594e761f-845a-4d5b-bca6-e2fe2e685372 is STARTING.\u001b[0m\n",
            "\u001b[32m2025-02-20 10:47:59.871\u001b[0m | \u001b[1mINFO    \u001b[0m | \u001b[36mchi.expeca\u001b[0m:\u001b[36mwait_until_lease_status\u001b[0m:\u001b[36m145\u001b[0m - \u001b[1mlease ep5g-lease with id 594e761f-845a-4d5b-bca6-e2fe2e685372 is ACTIVE.\u001b[0m\n",
            "\u001b[32m2025-02-20 10:47:59.872\u001b[0m | \u001b[32m\u001b[1mSUCCESS \u001b[0m | \u001b[36mchi.expeca\u001b[0m:\u001b[36mtry_to_create_lease\u001b[0m:\u001b[36m285\u001b[0m - \u001b[32m\u001b[1mdone\u001b[0m\n"
          ]
        },
        {
          "output_type": "stream",
          "name": "stdout",
          "text": [
            "[\n",
            "    {\n",
            "        \"name\": \"ep5g-lease\",\n",
            "        \"id\": \"594e761f-845a-4d5b-bca6-e2fe2e685372\",\n",
            "        \"reservation_id\": \"ed2f4280-9e42-4d71-af7e-459388779970\",\n",
            "        \"status\": \"ACTIVE\",\n",
            "        \"end_date\": \"2025-02-27T10:46:00.000000\"\n",
            "    }\n",
            "]\n"
          ]
        }
      ],
      "source": [
        "# ep5g reservation\n",
        "ep5g_lease = show_reservation_byname(\"ep5g-lease\")\n",
        "segment_ids = get_segment_ids('ep5g')\n",
        "if not ep5g_lease:\n",
        "    ep5g_lease = reserve(\n",
        "        { \"type\":\"network\", \"name\": \"ep5g\", \"net_name\": \"ep5g-vip\", \"segment_id\": segment_ids['rj45'], \"duration\": { \"days\":7, \"hours\":0 } }\n",
        "    )\n",
        "\n",
        "\n",
        "leaseslist = list_reservations(brief=True)\n",
        "print(json.dumps(leaseslist,indent=4))"
      ]
    },
    {
      "cell_type": "markdown",
      "metadata": {
        "id": "pw1BdmaW5tGa"
      },
      "source": [
        "In the following section we setup the networking equipment for ep5g, edge-net, Telenor Edge, and Internet (refer to [here](https://kth-expeca.gitbook.io/testbedconfig/enroll/enroll-network-segments/ep5g) for more info)."
      ]
    },
    {
      "cell_type": "code",
      "execution_count": 7,
      "metadata": {
        "colab": {
          "base_uri": "https://localhost:8080/"
        },
        "id": "OWxQ0wt65sGV",
        "outputId": "1267b32e-9e36-46ae-d047-9a70377d12a7"
      },
      "outputs": [
        {
          "output_type": "stream",
          "name": "stderr",
          "text": [
            "\u001b[32m2025-02-20 10:48:06.720\u001b[0m | \u001b[32m\u001b[1mSUCCESS \u001b[0m | \u001b[36m__main__\u001b[0m:\u001b[36m<cell line: 0>\u001b[0m:\u001b[36m4\u001b[0m - \u001b[32m\u001b[1medge-net is created.\u001b[0m\n",
            "\u001b[32m2025-02-20 10:48:09.222\u001b[0m | \u001b[32m\u001b[1mSUCCESS \u001b[0m | \u001b[36m__main__\u001b[0m:\u001b[36m<cell line: 0>\u001b[0m:\u001b[36m8\u001b[0m - \u001b[32m\u001b[1mep5g-vip-router router is created.\u001b[0m\n",
            "\u001b[32m2025-02-20 10:48:09.223\u001b[0m | \u001b[1mINFO    \u001b[0m | \u001b[36m__main__\u001b[0m:\u001b[36m<cell line: 0>\u001b[0m:\u001b[36m9\u001b[0m - \u001b[1m{\n",
            "    \"id\": \"caa606b5-0318-4b93-8d11-12f513e1dc65\",\n",
            "    \"name\": \"ep5g-vip-router\",\n",
            "    \"tenant_id\": \"c47f3ed65941413fbc6087028aff5ee2\",\n",
            "    \"admin_state_up\": true,\n",
            "    \"status\": \"ACTIVE\",\n",
            "    \"external_gateway_info\": {\n",
            "        \"network_id\": \"717b5f2b-069e-4868-a24d-91a4ae3ad002\",\n",
            "        \"external_fixed_ips\": [\n",
            "            {\n",
            "                \"subnet_id\": \"53d03ffd-0d49-4f9a-88a3-a30d69fe4827\",\n",
            "                \"ip_address\": \"130.237.11.102\"\n",
            "            }\n",
            "        ],\n",
            "        \"enable_snat\": true\n",
            "    },\n",
            "    \"description\": \"\",\n",
            "    \"availability_zones\": [],\n",
            "    \"availability_zone_hints\": [],\n",
            "    \"routes\": [],\n",
            "    \"flavor_id\": null,\n",
            "    \"tags\": [],\n",
            "    \"created_at\": \"2025-02-20T10:48:07Z\",\n",
            "    \"updated_at\": \"2025-02-20T10:48:08Z\",\n",
            "    \"revision_number\": 3,\n",
            "    \"project_id\": \"c47f3ed65941413fbc6087028aff5ee2\"\n",
            "}\u001b[0m\n",
            "\u001b[32m2025-02-20 10:48:13.249\u001b[0m | \u001b[32m\u001b[1mSUCCESS \u001b[0m | \u001b[36m__main__\u001b[0m:\u001b[36m<cell line: 0>\u001b[0m:\u001b[36m14\u001b[0m - \u001b[32m\u001b[1mAn interface on ep5g-vip-net is added to the router\u001b[0m\n",
            "\u001b[32m2025-02-20 10:48:16.122\u001b[0m | \u001b[32m\u001b[1mSUCCESS \u001b[0m | \u001b[36m__main__\u001b[0m:\u001b[36m<cell line: 0>\u001b[0m:\u001b[36m19\u001b[0m - \u001b[32m\u001b[1mAn interface on edge-net is added to the router\u001b[0m\n",
            "\u001b[32m2025-02-20 10:48:17.793\u001b[0m | \u001b[32m\u001b[1mSUCCESS \u001b[0m | \u001b[36m__main__\u001b[0m:\u001b[36m<cell line: 0>\u001b[0m:\u001b[36m23\u001b[0m - \u001b[32m\u001b[1mthe ep5g route added to the router\u001b[0m\n"
          ]
        }
      ],
      "source": [
        "# create edge-net\n",
        "edgenet = chi.network.create_network(\"edge-net\")\n",
        "chi.network.create_subnet(\"edge-net-subnet\",edgenet[\"id\"],\"10.70.70.0/24\",gateway_ip=None,enable_dhcp=False)\n",
        "logger.success(\"edge-net is created.\")\n",
        "\n",
        "# create ep5g-vip-router\n",
        "router = chi.network.create_router(\"ep5g-vip-router\", \"public\")\n",
        "logger.success(\"ep5g-vip-router router is created.\")\n",
        "logger.info(f\"{json.dumps(router,indent=4)}\")\n",
        "\n",
        "# connect ep5g-vip-net to ep5g-vip-router\n",
        "ep5gnet = chi.network.get_network(\"ep5g-vip-net\")\n",
        "portadd = chi.network.add_subnet_to_router(router[\"id\"],ep5gnet[\"subnets\"][0])\n",
        "logger.success(\"An interface on ep5g-vip-net is added to the router\")\n",
        "\n",
        "# connect edge-net to ep5g-vip-router\n",
        "edgenet = chi.network.get_network(\"edge-net\")\n",
        "portadd = chi.network.add_subnet_to_router(router[\"id\"],edgenet[\"subnets\"][0])\n",
        "logger.success(\"An interface on edge-net is added to the router\")\n",
        "\n",
        "# add ep5g route to ep5g-vip-router\n",
        "routeadd = chi.network.add_route_to_router(router[\"id\"],\"172.16.0.0/16\",\"10.30.111.10\")\n",
        "logger.success(\"the ep5g route added to the router\")"
      ]
    },
    {
      "cell_type": "code",
      "source": [
        "# worker reservation\n",
        "worker_name = \"worker-06\"\n",
        "worker_lease = show_reservation_byname(worker_name + \"-lease\")\n",
        "if not worker_lease:\n",
        "    worker_lease = reserve(\n",
        "        { \"type\":\"device\", \"name\":worker_name, \"duration\": { \"days\":7, \"hours\":0 } }\n",
        "    )\n",
        "worker_reservation_id = worker_lease[\"reservations\"][0][\"id\"]\n",
        "\n",
        "# worker reservation\n",
        "worker_name = \"worker-07\"\n",
        "worker_lease = show_reservation_byname(worker_name + \"-lease\")\n",
        "if not worker_lease:\n",
        "    worker_lease = reserve(\n",
        "        { \"type\":\"device\", \"name\":worker_name, \"duration\": { \"days\":7, \"hours\":0 } }\n",
        "    )\n",
        "worker_reservation_id = worker_lease[\"reservations\"][0][\"id\"]\n",
        "\n",
        "# worker reservation\n",
        "worker_name = \"worker-08\"\n",
        "worker_lease = show_reservation_byname(worker_name + \"-lease\")\n",
        "if not worker_lease:\n",
        "    worker_lease = reserve(\n",
        "        { \"type\":\"device\", \"name\":worker_name, \"duration\": { \"days\":7, \"hours\":0 } }\n",
        "    )\n",
        "worker_reservation_id = worker_lease[\"reservations\"][0][\"id\"]\n",
        "\n",
        "# worker reservation\n",
        "worker_name = \"worker-09\"\n",
        "worker_lease = show_reservation_byname(worker_name + \"-lease\")\n",
        "if not worker_lease:\n",
        "    worker_lease = reserve(\n",
        "        { \"type\":\"device\", \"name\":worker_name, \"duration\": { \"days\":7, \"hours\":0 } }\n",
        "    )\n",
        "worker_reservation_id = worker_lease[\"reservations\"][0][\"id\"]"
      ],
      "metadata": {
        "colab": {
          "base_uri": "https://localhost:8080/"
        },
        "id": "5lmFW_eU1OoF",
        "outputId": "7a5e8164-8f9e-4979-e459-8f83aedc16a3"
      },
      "execution_count": 8,
      "outputs": [
        {
          "output_type": "stream",
          "name": "stderr",
          "text": [
            "\u001b[32m2025-02-20 10:48:18.185\u001b[0m | \u001b[1mINFO    \u001b[0m | \u001b[36mchi.expeca\u001b[0m:\u001b[36mreserve\u001b[0m:\u001b[36m243\u001b[0m - \u001b[1mreserving worker-06\u001b[0m\n",
            "\u001b[32m2025-02-20 10:48:20.622\u001b[0m | \u001b[1mINFO    \u001b[0m | \u001b[36mchi.expeca\u001b[0m:\u001b[36mwait_until_lease_status\u001b[0m:\u001b[36m138\u001b[0m - \u001b[1mwaiting 120 seconds for worker-06-lease with id 3938909a-4875-4242-ac7d-26f07167a101 to become \"ACTIVE\"\u001b[0m\n",
            "\u001b[32m2025-02-20 10:48:25.785\u001b[0m | \u001b[1mINFO    \u001b[0m | \u001b[36mchi.expeca\u001b[0m:\u001b[36mwait_until_lease_status\u001b[0m:\u001b[36m145\u001b[0m - \u001b[1mlease worker-06-lease with id 3938909a-4875-4242-ac7d-26f07167a101 is PENDING.\u001b[0m\n",
            "\u001b[32m2025-02-20 10:48:30.928\u001b[0m | \u001b[1mINFO    \u001b[0m | \u001b[36mchi.expeca\u001b[0m:\u001b[36mwait_until_lease_status\u001b[0m:\u001b[36m145\u001b[0m - \u001b[1mlease worker-06-lease with id 3938909a-4875-4242-ac7d-26f07167a101 is PENDING.\u001b[0m\n",
            "\u001b[32m2025-02-20 10:48:36.070\u001b[0m | \u001b[1mINFO    \u001b[0m | \u001b[36mchi.expeca\u001b[0m:\u001b[36mwait_until_lease_status\u001b[0m:\u001b[36m145\u001b[0m - \u001b[1mlease worker-06-lease with id 3938909a-4875-4242-ac7d-26f07167a101 is PENDING.\u001b[0m\n",
            "\u001b[32m2025-02-20 10:48:41.220\u001b[0m | \u001b[1mINFO    \u001b[0m | \u001b[36mchi.expeca\u001b[0m:\u001b[36mwait_until_lease_status\u001b[0m:\u001b[36m145\u001b[0m - \u001b[1mlease worker-06-lease with id 3938909a-4875-4242-ac7d-26f07167a101 is PENDING.\u001b[0m\n",
            "\u001b[32m2025-02-20 10:48:46.359\u001b[0m | \u001b[1mINFO    \u001b[0m | \u001b[36mchi.expeca\u001b[0m:\u001b[36mwait_until_lease_status\u001b[0m:\u001b[36m145\u001b[0m - \u001b[1mlease worker-06-lease with id 3938909a-4875-4242-ac7d-26f07167a101 is PENDING.\u001b[0m\n",
            "\u001b[32m2025-02-20 10:48:51.503\u001b[0m | \u001b[1mINFO    \u001b[0m | \u001b[36mchi.expeca\u001b[0m:\u001b[36mwait_until_lease_status\u001b[0m:\u001b[36m145\u001b[0m - \u001b[1mlease worker-06-lease with id 3938909a-4875-4242-ac7d-26f07167a101 is PENDING.\u001b[0m\n",
            "\u001b[32m2025-02-20 10:48:56.656\u001b[0m | \u001b[1mINFO    \u001b[0m | \u001b[36mchi.expeca\u001b[0m:\u001b[36mwait_until_lease_status\u001b[0m:\u001b[36m145\u001b[0m - \u001b[1mlease worker-06-lease with id 3938909a-4875-4242-ac7d-26f07167a101 is PENDING.\u001b[0m\n",
            "\u001b[32m2025-02-20 10:49:01.799\u001b[0m | \u001b[1mINFO    \u001b[0m | \u001b[36mchi.expeca\u001b[0m:\u001b[36mwait_until_lease_status\u001b[0m:\u001b[36m145\u001b[0m - \u001b[1mlease worker-06-lease with id 3938909a-4875-4242-ac7d-26f07167a101 is PENDING.\u001b[0m\n",
            "\u001b[32m2025-02-20 10:49:06.945\u001b[0m | \u001b[1mINFO    \u001b[0m | \u001b[36mchi.expeca\u001b[0m:\u001b[36mwait_until_lease_status\u001b[0m:\u001b[36m145\u001b[0m - \u001b[1mlease worker-06-lease with id 3938909a-4875-4242-ac7d-26f07167a101 is ACTIVE.\u001b[0m\n",
            "\u001b[32m2025-02-20 10:49:06.946\u001b[0m | \u001b[32m\u001b[1mSUCCESS \u001b[0m | \u001b[36mchi.expeca\u001b[0m:\u001b[36mtry_to_create_lease\u001b[0m:\u001b[36m285\u001b[0m - \u001b[32m\u001b[1mdone\u001b[0m\n",
            "\u001b[32m2025-02-20 10:49:07.080\u001b[0m | \u001b[1mINFO    \u001b[0m | \u001b[36mchi.expeca\u001b[0m:\u001b[36mreserve\u001b[0m:\u001b[36m243\u001b[0m - \u001b[1mreserving worker-07\u001b[0m\n",
            "\u001b[32m2025-02-20 10:49:09.610\u001b[0m | \u001b[1mINFO    \u001b[0m | \u001b[36mchi.expeca\u001b[0m:\u001b[36mwait_until_lease_status\u001b[0m:\u001b[36m138\u001b[0m - \u001b[1mwaiting 120 seconds for worker-07-lease with id a2160a5a-a791-45fc-a241-74c825231f6b to become \"ACTIVE\"\u001b[0m\n",
            "\u001b[32m2025-02-20 10:49:14.765\u001b[0m | \u001b[1mINFO    \u001b[0m | \u001b[36mchi.expeca\u001b[0m:\u001b[36mwait_until_lease_status\u001b[0m:\u001b[36m145\u001b[0m - \u001b[1mlease worker-07-lease with id a2160a5a-a791-45fc-a241-74c825231f6b is PENDING.\u001b[0m\n",
            "\u001b[32m2025-02-20 10:49:19.920\u001b[0m | \u001b[1mINFO    \u001b[0m | \u001b[36mchi.expeca\u001b[0m:\u001b[36mwait_until_lease_status\u001b[0m:\u001b[36m145\u001b[0m - \u001b[1mlease worker-07-lease with id a2160a5a-a791-45fc-a241-74c825231f6b is PENDING.\u001b[0m\n",
            "\u001b[32m2025-02-20 10:49:25.089\u001b[0m | \u001b[1mINFO    \u001b[0m | \u001b[36mchi.expeca\u001b[0m:\u001b[36mwait_until_lease_status\u001b[0m:\u001b[36m145\u001b[0m - \u001b[1mlease worker-07-lease with id a2160a5a-a791-45fc-a241-74c825231f6b is PENDING.\u001b[0m\n",
            "\u001b[32m2025-02-20 10:49:30.344\u001b[0m | \u001b[1mINFO    \u001b[0m | \u001b[36mchi.expeca\u001b[0m:\u001b[36mwait_until_lease_status\u001b[0m:\u001b[36m145\u001b[0m - \u001b[1mlease worker-07-lease with id a2160a5a-a791-45fc-a241-74c825231f6b is PENDING.\u001b[0m\n",
            "\u001b[32m2025-02-20 10:49:35.502\u001b[0m | \u001b[1mINFO    \u001b[0m | \u001b[36mchi.expeca\u001b[0m:\u001b[36mwait_until_lease_status\u001b[0m:\u001b[36m145\u001b[0m - \u001b[1mlease worker-07-lease with id a2160a5a-a791-45fc-a241-74c825231f6b is PENDING.\u001b[0m\n",
            "\u001b[32m2025-02-20 10:49:40.659\u001b[0m | \u001b[1mINFO    \u001b[0m | \u001b[36mchi.expeca\u001b[0m:\u001b[36mwait_until_lease_status\u001b[0m:\u001b[36m145\u001b[0m - \u001b[1mlease worker-07-lease with id a2160a5a-a791-45fc-a241-74c825231f6b is PENDING.\u001b[0m\n",
            "\u001b[32m2025-02-20 10:49:45.834\u001b[0m | \u001b[1mINFO    \u001b[0m | \u001b[36mchi.expeca\u001b[0m:\u001b[36mwait_until_lease_status\u001b[0m:\u001b[36m145\u001b[0m - \u001b[1mlease worker-07-lease with id a2160a5a-a791-45fc-a241-74c825231f6b is PENDING.\u001b[0m\n",
            "\u001b[32m2025-02-20 10:49:50.985\u001b[0m | \u001b[1mINFO    \u001b[0m | \u001b[36mchi.expeca\u001b[0m:\u001b[36mwait_until_lease_status\u001b[0m:\u001b[36m145\u001b[0m - \u001b[1mlease worker-07-lease with id a2160a5a-a791-45fc-a241-74c825231f6b is PENDING.\u001b[0m\n",
            "\u001b[32m2025-02-20 10:49:56.151\u001b[0m | \u001b[1mINFO    \u001b[0m | \u001b[36mchi.expeca\u001b[0m:\u001b[36mwait_until_lease_status\u001b[0m:\u001b[36m145\u001b[0m - \u001b[1mlease worker-07-lease with id a2160a5a-a791-45fc-a241-74c825231f6b is PENDING.\u001b[0m\n",
            "\u001b[32m2025-02-20 10:50:01.308\u001b[0m | \u001b[1mINFO    \u001b[0m | \u001b[36mchi.expeca\u001b[0m:\u001b[36mwait_until_lease_status\u001b[0m:\u001b[36m145\u001b[0m - \u001b[1mlease worker-07-lease with id a2160a5a-a791-45fc-a241-74c825231f6b is PENDING.\u001b[0m\n",
            "\u001b[32m2025-02-20 10:50:06.444\u001b[0m | \u001b[1mINFO    \u001b[0m | \u001b[36mchi.expeca\u001b[0m:\u001b[36mwait_until_lease_status\u001b[0m:\u001b[36m145\u001b[0m - \u001b[1mlease worker-07-lease with id a2160a5a-a791-45fc-a241-74c825231f6b is ACTIVE.\u001b[0m\n",
            "\u001b[32m2025-02-20 10:50:06.445\u001b[0m | \u001b[32m\u001b[1mSUCCESS \u001b[0m | \u001b[36mchi.expeca\u001b[0m:\u001b[36mtry_to_create_lease\u001b[0m:\u001b[36m285\u001b[0m - \u001b[32m\u001b[1mdone\u001b[0m\n",
            "\u001b[32m2025-02-20 10:50:06.583\u001b[0m | \u001b[1mINFO    \u001b[0m | \u001b[36mchi.expeca\u001b[0m:\u001b[36mreserve\u001b[0m:\u001b[36m243\u001b[0m - \u001b[1mreserving worker-08\u001b[0m\n",
            "\u001b[32m2025-02-20 10:50:08.811\u001b[0m | \u001b[1mINFO    \u001b[0m | \u001b[36mchi.expeca\u001b[0m:\u001b[36mwait_until_lease_status\u001b[0m:\u001b[36m138\u001b[0m - \u001b[1mwaiting 120 seconds for worker-08-lease with id 265d70af-777a-45ff-92eb-72e4b032eaec to become \"ACTIVE\"\u001b[0m\n",
            "\u001b[32m2025-02-20 10:50:13.959\u001b[0m | \u001b[1mINFO    \u001b[0m | \u001b[36mchi.expeca\u001b[0m:\u001b[36mwait_until_lease_status\u001b[0m:\u001b[36m145\u001b[0m - \u001b[1mlease worker-08-lease with id 265d70af-777a-45ff-92eb-72e4b032eaec is PENDING.\u001b[0m\n",
            "\u001b[32m2025-02-20 10:50:19.122\u001b[0m | \u001b[1mINFO    \u001b[0m | \u001b[36mchi.expeca\u001b[0m:\u001b[36mwait_until_lease_status\u001b[0m:\u001b[36m145\u001b[0m - \u001b[1mlease worker-08-lease with id 265d70af-777a-45ff-92eb-72e4b032eaec is PENDING.\u001b[0m\n",
            "\u001b[32m2025-02-20 10:50:24.281\u001b[0m | \u001b[1mINFO    \u001b[0m | \u001b[36mchi.expeca\u001b[0m:\u001b[36mwait_until_lease_status\u001b[0m:\u001b[36m145\u001b[0m - \u001b[1mlease worker-08-lease with id 265d70af-777a-45ff-92eb-72e4b032eaec is PENDING.\u001b[0m\n",
            "\u001b[32m2025-02-20 10:50:29.452\u001b[0m | \u001b[1mINFO    \u001b[0m | \u001b[36mchi.expeca\u001b[0m:\u001b[36mwait_until_lease_status\u001b[0m:\u001b[36m145\u001b[0m - \u001b[1mlease worker-08-lease with id 265d70af-777a-45ff-92eb-72e4b032eaec is PENDING.\u001b[0m\n",
            "\u001b[32m2025-02-20 10:50:34.607\u001b[0m | \u001b[1mINFO    \u001b[0m | \u001b[36mchi.expeca\u001b[0m:\u001b[36mwait_until_lease_status\u001b[0m:\u001b[36m145\u001b[0m - \u001b[1mlease worker-08-lease with id 265d70af-777a-45ff-92eb-72e4b032eaec is PENDING.\u001b[0m\n",
            "\u001b[32m2025-02-20 10:50:39.754\u001b[0m | \u001b[1mINFO    \u001b[0m | \u001b[36mchi.expeca\u001b[0m:\u001b[36mwait_until_lease_status\u001b[0m:\u001b[36m145\u001b[0m - \u001b[1mlease worker-08-lease with id 265d70af-777a-45ff-92eb-72e4b032eaec is PENDING.\u001b[0m\n",
            "\u001b[32m2025-02-20 10:50:44.909\u001b[0m | \u001b[1mINFO    \u001b[0m | \u001b[36mchi.expeca\u001b[0m:\u001b[36mwait_until_lease_status\u001b[0m:\u001b[36m145\u001b[0m - \u001b[1mlease worker-08-lease with id 265d70af-777a-45ff-92eb-72e4b032eaec is PENDING.\u001b[0m\n",
            "\u001b[32m2025-02-20 10:50:50.086\u001b[0m | \u001b[1mINFO    \u001b[0m | \u001b[36mchi.expeca\u001b[0m:\u001b[36mwait_until_lease_status\u001b[0m:\u001b[36m145\u001b[0m - \u001b[1mlease worker-08-lease with id 265d70af-777a-45ff-92eb-72e4b032eaec is PENDING.\u001b[0m\n",
            "\u001b[32m2025-02-20 10:50:55.235\u001b[0m | \u001b[1mINFO    \u001b[0m | \u001b[36mchi.expeca\u001b[0m:\u001b[36mwait_until_lease_status\u001b[0m:\u001b[36m145\u001b[0m - \u001b[1mlease worker-08-lease with id 265d70af-777a-45ff-92eb-72e4b032eaec is PENDING.\u001b[0m\n",
            "\u001b[32m2025-02-20 10:51:00.394\u001b[0m | \u001b[1mINFO    \u001b[0m | \u001b[36mchi.expeca\u001b[0m:\u001b[36mwait_until_lease_status\u001b[0m:\u001b[36m145\u001b[0m - \u001b[1mlease worker-08-lease with id 265d70af-777a-45ff-92eb-72e4b032eaec is PENDING.\u001b[0m\n",
            "\u001b[32m2025-02-20 10:51:05.539\u001b[0m | \u001b[1mINFO    \u001b[0m | \u001b[36mchi.expeca\u001b[0m:\u001b[36mwait_until_lease_status\u001b[0m:\u001b[36m145\u001b[0m - \u001b[1mlease worker-08-lease with id 265d70af-777a-45ff-92eb-72e4b032eaec is PENDING.\u001b[0m\n",
            "\u001b[32m2025-02-20 10:51:10.710\u001b[0m | \u001b[1mINFO    \u001b[0m | \u001b[36mchi.expeca\u001b[0m:\u001b[36mwait_until_lease_status\u001b[0m:\u001b[36m145\u001b[0m - \u001b[1mlease worker-08-lease with id 265d70af-777a-45ff-92eb-72e4b032eaec is ACTIVE.\u001b[0m\n",
            "\u001b[32m2025-02-20 10:51:10.711\u001b[0m | \u001b[32m\u001b[1mSUCCESS \u001b[0m | \u001b[36mchi.expeca\u001b[0m:\u001b[36mtry_to_create_lease\u001b[0m:\u001b[36m285\u001b[0m - \u001b[32m\u001b[1mdone\u001b[0m\n",
            "\u001b[32m2025-02-20 10:51:10.874\u001b[0m | \u001b[1mINFO    \u001b[0m | \u001b[36mchi.expeca\u001b[0m:\u001b[36mreserve\u001b[0m:\u001b[36m243\u001b[0m - \u001b[1mreserving worker-09\u001b[0m\n",
            "\u001b[32m2025-02-20 10:51:13.384\u001b[0m | \u001b[1mINFO    \u001b[0m | \u001b[36mchi.expeca\u001b[0m:\u001b[36mwait_until_lease_status\u001b[0m:\u001b[36m138\u001b[0m - \u001b[1mwaiting 120 seconds for worker-09-lease with id b1a54823-05f7-4a84-a531-bf6f81ddd7af to become \"ACTIVE\"\u001b[0m\n",
            "\u001b[32m2025-02-20 10:51:18.544\u001b[0m | \u001b[1mINFO    \u001b[0m | \u001b[36mchi.expeca\u001b[0m:\u001b[36mwait_until_lease_status\u001b[0m:\u001b[36m145\u001b[0m - \u001b[1mlease worker-09-lease with id b1a54823-05f7-4a84-a531-bf6f81ddd7af is PENDING.\u001b[0m\n",
            "\u001b[32m2025-02-20 10:51:23.707\u001b[0m | \u001b[1mINFO    \u001b[0m | \u001b[36mchi.expeca\u001b[0m:\u001b[36mwait_until_lease_status\u001b[0m:\u001b[36m145\u001b[0m - \u001b[1mlease worker-09-lease with id b1a54823-05f7-4a84-a531-bf6f81ddd7af is PENDING.\u001b[0m\n",
            "\u001b[32m2025-02-20 10:51:28.868\u001b[0m | \u001b[1mINFO    \u001b[0m | \u001b[36mchi.expeca\u001b[0m:\u001b[36mwait_until_lease_status\u001b[0m:\u001b[36m145\u001b[0m - \u001b[1mlease worker-09-lease with id b1a54823-05f7-4a84-a531-bf6f81ddd7af is PENDING.\u001b[0m\n",
            "\u001b[32m2025-02-20 10:51:34.038\u001b[0m | \u001b[1mINFO    \u001b[0m | \u001b[36mchi.expeca\u001b[0m:\u001b[36mwait_until_lease_status\u001b[0m:\u001b[36m145\u001b[0m - \u001b[1mlease worker-09-lease with id b1a54823-05f7-4a84-a531-bf6f81ddd7af is PENDING.\u001b[0m\n",
            "\u001b[32m2025-02-20 10:51:39.193\u001b[0m | \u001b[1mINFO    \u001b[0m | \u001b[36mchi.expeca\u001b[0m:\u001b[36mwait_until_lease_status\u001b[0m:\u001b[36m145\u001b[0m - \u001b[1mlease worker-09-lease with id b1a54823-05f7-4a84-a531-bf6f81ddd7af is PENDING.\u001b[0m\n",
            "\u001b[32m2025-02-20 10:51:44.364\u001b[0m | \u001b[1mINFO    \u001b[0m | \u001b[36mchi.expeca\u001b[0m:\u001b[36mwait_until_lease_status\u001b[0m:\u001b[36m145\u001b[0m - \u001b[1mlease worker-09-lease with id b1a54823-05f7-4a84-a531-bf6f81ddd7af is PENDING.\u001b[0m\n",
            "\u001b[32m2025-02-20 10:51:49.514\u001b[0m | \u001b[1mINFO    \u001b[0m | \u001b[36mchi.expeca\u001b[0m:\u001b[36mwait_until_lease_status\u001b[0m:\u001b[36m145\u001b[0m - \u001b[1mlease worker-09-lease with id b1a54823-05f7-4a84-a531-bf6f81ddd7af is PENDING.\u001b[0m\n",
            "\u001b[32m2025-02-20 10:51:54.676\u001b[0m | \u001b[1mINFO    \u001b[0m | \u001b[36mchi.expeca\u001b[0m:\u001b[36mwait_until_lease_status\u001b[0m:\u001b[36m145\u001b[0m - \u001b[1mlease worker-09-lease with id b1a54823-05f7-4a84-a531-bf6f81ddd7af is PENDING.\u001b[0m\n",
            "\u001b[32m2025-02-20 10:51:59.849\u001b[0m | \u001b[1mINFO    \u001b[0m | \u001b[36mchi.expeca\u001b[0m:\u001b[36mwait_until_lease_status\u001b[0m:\u001b[36m145\u001b[0m - \u001b[1mlease worker-09-lease with id b1a54823-05f7-4a84-a531-bf6f81ddd7af is PENDING.\u001b[0m\n",
            "\u001b[32m2025-02-20 10:52:04.999\u001b[0m | \u001b[1mINFO    \u001b[0m | \u001b[36mchi.expeca\u001b[0m:\u001b[36mwait_until_lease_status\u001b[0m:\u001b[36m145\u001b[0m - \u001b[1mlease worker-09-lease with id b1a54823-05f7-4a84-a531-bf6f81ddd7af is PENDING.\u001b[0m\n",
            "\u001b[32m2025-02-20 10:52:10.157\u001b[0m | \u001b[1mINFO    \u001b[0m | \u001b[36mchi.expeca\u001b[0m:\u001b[36mwait_until_lease_status\u001b[0m:\u001b[36m145\u001b[0m - \u001b[1mlease worker-09-lease with id b1a54823-05f7-4a84-a531-bf6f81ddd7af is ACTIVE.\u001b[0m\n",
            "\u001b[32m2025-02-20 10:52:10.158\u001b[0m | \u001b[32m\u001b[1mSUCCESS \u001b[0m | \u001b[36mchi.expeca\u001b[0m:\u001b[36mtry_to_create_lease\u001b[0m:\u001b[36m285\u001b[0m - \u001b[32m\u001b[1mdone\u001b[0m\n"
          ]
        }
      ]
    },
    {
      "cell_type": "code",
      "source": [
        "# advantech router reservation\n",
        "adv_name = \"adv-02\"\n",
        "segment_ids = get_segment_ids(adv_name)\n",
        "adv_lease = show_reservation_byname(adv_name + \"-lease\")\n",
        "if not adv_lease:\n",
        "    adv_lease = reserve(\n",
        "        { \"type\":\"network\", \"name\": adv_name, \"net_name\": adv_name, \"segment_id\": segment_ids['rj45'], \"duration\": { \"days\":7, \"hours\":0 } }\n",
        "    )\n",
        "\n",
        "# advantech router reservation\n",
        "adv_name = \"adv-03\"\n",
        "segment_ids = get_segment_ids(adv_name)\n",
        "adv_lease = show_reservation_byname(adv_name + \"-lease\")\n",
        "if not adv_lease:\n",
        "    adv_lease = reserve(\n",
        "        { \"type\":\"network\", \"name\": adv_name, \"net_name\": adv_name, \"segment_id\": segment_ids['rj45'], \"duration\": { \"days\":7, \"hours\":0 } }\n",
        "    )\n",
        "\n",
        "# advantech router reservation\n",
        "adv_name = \"adv-04\"\n",
        "segment_ids = get_segment_ids(adv_name)\n",
        "adv_lease = show_reservation_byname(adv_name + \"-lease\")\n",
        "if not adv_lease:\n",
        "    adv_lease = reserve(\n",
        "        { \"type\":\"network\", \"name\": adv_name, \"net_name\": adv_name, \"segment_id\": segment_ids['rj45'], \"duration\": { \"days\":7, \"hours\":0 } }\n",
        "    )\n",
        "\n",
        "# advantech router reservation\n",
        "adv_name = \"adv-05\"\n",
        "segment_ids = get_segment_ids(adv_name)\n",
        "adv_lease = show_reservation_byname(adv_name + \"-lease\")\n",
        "if not adv_lease:\n",
        "    adv_lease = reserve(\n",
        "        { \"type\":\"network\", \"name\": adv_name, \"net_name\": adv_name, \"segment_id\": segment_ids['rj45'], \"duration\": { \"days\":7, \"hours\":0 } }\n",
        "    )\n",
        "\n",
        "# advantech router reservation\n",
        "adv_name = \"adv-06\"\n",
        "segment_ids = get_segment_ids(adv_name)\n",
        "adv_lease = show_reservation_byname(adv_name + \"-lease\")\n",
        "if not adv_lease:\n",
        "    adv_lease = reserve(\n",
        "        { \"type\":\"network\", \"name\": adv_name, \"net_name\": adv_name, \"segment_id\": segment_ids['rj45'], \"duration\": { \"days\":7, \"hours\":0 } }\n",
        "    )\n",
        "\n",
        "# advantech router reservation\n",
        "adv_name = \"adv-07\"\n",
        "segment_ids = get_segment_ids(adv_name)\n",
        "adv_lease = show_reservation_byname(adv_name + \"-lease\")\n",
        "if not adv_lease:\n",
        "    adv_lease = reserve(\n",
        "        { \"type\":\"network\", \"name\": adv_name, \"net_name\": adv_name, \"segment_id\": segment_ids['rj45'], \"duration\": { \"days\":7, \"hours\":0 } }\n",
        "    )"
      ],
      "metadata": {
        "colab": {
          "base_uri": "https://localhost:8080/"
        },
        "id": "hXhJv1sN1V0t",
        "outputId": "a2db477f-614c-4244-ff17-2c92ab23d9dc"
      },
      "execution_count": 9,
      "outputs": [
        {
          "output_type": "stream",
          "name": "stderr",
          "text": [
            "\u001b[32m2025-02-20 10:52:19.362\u001b[0m | \u001b[1mINFO    \u001b[0m | \u001b[36mchi.expeca\u001b[0m:\u001b[36mreserve\u001b[0m:\u001b[36m243\u001b[0m - \u001b[1mreserving adv-02\u001b[0m\n",
            "\u001b[32m2025-02-20 10:52:21.915\u001b[0m | \u001b[1mINFO    \u001b[0m | \u001b[36mchi.expeca\u001b[0m:\u001b[36mwait_until_lease_status\u001b[0m:\u001b[36m138\u001b[0m - \u001b[1mwaiting 120 seconds for adv-02-lease with id 3d82c4d0-3897-4734-ba7a-e54be33a960e to become \"ACTIVE\"\u001b[0m\n",
            "\u001b[32m2025-02-20 10:52:27.055\u001b[0m | \u001b[1mINFO    \u001b[0m | \u001b[36mchi.expeca\u001b[0m:\u001b[36mwait_until_lease_status\u001b[0m:\u001b[36m145\u001b[0m - \u001b[1mlease adv-02-lease with id 3d82c4d0-3897-4734-ba7a-e54be33a960e is PENDING.\u001b[0m\n",
            "\u001b[32m2025-02-20 10:52:32.215\u001b[0m | \u001b[1mINFO    \u001b[0m | \u001b[36mchi.expeca\u001b[0m:\u001b[36mwait_until_lease_status\u001b[0m:\u001b[36m145\u001b[0m - \u001b[1mlease adv-02-lease with id 3d82c4d0-3897-4734-ba7a-e54be33a960e is PENDING.\u001b[0m\n",
            "\u001b[32m2025-02-20 10:52:37.373\u001b[0m | \u001b[1mINFO    \u001b[0m | \u001b[36mchi.expeca\u001b[0m:\u001b[36mwait_until_lease_status\u001b[0m:\u001b[36m145\u001b[0m - \u001b[1mlease adv-02-lease with id 3d82c4d0-3897-4734-ba7a-e54be33a960e is PENDING.\u001b[0m\n",
            "\u001b[32m2025-02-20 10:52:42.536\u001b[0m | \u001b[1mINFO    \u001b[0m | \u001b[36mchi.expeca\u001b[0m:\u001b[36mwait_until_lease_status\u001b[0m:\u001b[36m145\u001b[0m - \u001b[1mlease adv-02-lease with id 3d82c4d0-3897-4734-ba7a-e54be33a960e is PENDING.\u001b[0m\n",
            "\u001b[32m2025-02-20 10:52:47.690\u001b[0m | \u001b[1mINFO    \u001b[0m | \u001b[36mchi.expeca\u001b[0m:\u001b[36mwait_until_lease_status\u001b[0m:\u001b[36m145\u001b[0m - \u001b[1mlease adv-02-lease with id 3d82c4d0-3897-4734-ba7a-e54be33a960e is PENDING.\u001b[0m\n",
            "\u001b[32m2025-02-20 10:52:52.867\u001b[0m | \u001b[1mINFO    \u001b[0m | \u001b[36mchi.expeca\u001b[0m:\u001b[36mwait_until_lease_status\u001b[0m:\u001b[36m145\u001b[0m - \u001b[1mlease adv-02-lease with id 3d82c4d0-3897-4734-ba7a-e54be33a960e is PENDING.\u001b[0m\n",
            "\u001b[32m2025-02-20 10:52:58.029\u001b[0m | \u001b[1mINFO    \u001b[0m | \u001b[36mchi.expeca\u001b[0m:\u001b[36mwait_until_lease_status\u001b[0m:\u001b[36m145\u001b[0m - \u001b[1mlease adv-02-lease with id 3d82c4d0-3897-4734-ba7a-e54be33a960e is PENDING.\u001b[0m\n",
            "\u001b[32m2025-02-20 10:53:03.208\u001b[0m | \u001b[1mINFO    \u001b[0m | \u001b[36mchi.expeca\u001b[0m:\u001b[36mwait_until_lease_status\u001b[0m:\u001b[36m145\u001b[0m - \u001b[1mlease adv-02-lease with id 3d82c4d0-3897-4734-ba7a-e54be33a960e is PENDING.\u001b[0m\n",
            "\u001b[32m2025-02-20 10:53:08.368\u001b[0m | \u001b[1mINFO    \u001b[0m | \u001b[36mchi.expeca\u001b[0m:\u001b[36mwait_until_lease_status\u001b[0m:\u001b[36m145\u001b[0m - \u001b[1mlease adv-02-lease with id 3d82c4d0-3897-4734-ba7a-e54be33a960e is STARTING.\u001b[0m\n",
            "\u001b[32m2025-02-20 10:53:13.534\u001b[0m | \u001b[1mINFO    \u001b[0m | \u001b[36mchi.expeca\u001b[0m:\u001b[36mwait_until_lease_status\u001b[0m:\u001b[36m145\u001b[0m - \u001b[1mlease adv-02-lease with id 3d82c4d0-3897-4734-ba7a-e54be33a960e is STARTING.\u001b[0m\n",
            "\u001b[32m2025-02-20 10:53:18.690\u001b[0m | \u001b[1mINFO    \u001b[0m | \u001b[36mchi.expeca\u001b[0m:\u001b[36mwait_until_lease_status\u001b[0m:\u001b[36m145\u001b[0m - \u001b[1mlease adv-02-lease with id 3d82c4d0-3897-4734-ba7a-e54be33a960e is STARTING.\u001b[0m\n",
            "\u001b[32m2025-02-20 10:53:23.853\u001b[0m | \u001b[1mINFO    \u001b[0m | \u001b[36mchi.expeca\u001b[0m:\u001b[36mwait_until_lease_status\u001b[0m:\u001b[36m145\u001b[0m - \u001b[1mlease adv-02-lease with id 3d82c4d0-3897-4734-ba7a-e54be33a960e is ACTIVE.\u001b[0m\n",
            "\u001b[32m2025-02-20 10:53:23.855\u001b[0m | \u001b[32m\u001b[1mSUCCESS \u001b[0m | \u001b[36mchi.expeca\u001b[0m:\u001b[36mtry_to_create_lease\u001b[0m:\u001b[36m285\u001b[0m - \u001b[32m\u001b[1mdone\u001b[0m\n",
            "\u001b[32m2025-02-20 10:53:32.743\u001b[0m | \u001b[1mINFO    \u001b[0m | \u001b[36mchi.expeca\u001b[0m:\u001b[36mreserve\u001b[0m:\u001b[36m243\u001b[0m - \u001b[1mreserving adv-03\u001b[0m\n",
            "\u001b[32m2025-02-20 10:53:35.327\u001b[0m | \u001b[1mINFO    \u001b[0m | \u001b[36mchi.expeca\u001b[0m:\u001b[36mwait_until_lease_status\u001b[0m:\u001b[36m138\u001b[0m - \u001b[1mwaiting 120 seconds for adv-03-lease with id 6f7e3549-1ac4-434d-8cf3-554e9116a81e to become \"ACTIVE\"\u001b[0m\n",
            "\u001b[32m2025-02-20 10:53:40.488\u001b[0m | \u001b[1mINFO    \u001b[0m | \u001b[36mchi.expeca\u001b[0m:\u001b[36mwait_until_lease_status\u001b[0m:\u001b[36m145\u001b[0m - \u001b[1mlease adv-03-lease with id 6f7e3549-1ac4-434d-8cf3-554e9116a81e is PENDING.\u001b[0m\n",
            "\u001b[32m2025-02-20 10:53:45.638\u001b[0m | \u001b[1mINFO    \u001b[0m | \u001b[36mchi.expeca\u001b[0m:\u001b[36mwait_until_lease_status\u001b[0m:\u001b[36m145\u001b[0m - \u001b[1mlease adv-03-lease with id 6f7e3549-1ac4-434d-8cf3-554e9116a81e is PENDING.\u001b[0m\n",
            "\u001b[32m2025-02-20 10:53:50.795\u001b[0m | \u001b[1mINFO    \u001b[0m | \u001b[36mchi.expeca\u001b[0m:\u001b[36mwait_until_lease_status\u001b[0m:\u001b[36m145\u001b[0m - \u001b[1mlease adv-03-lease with id 6f7e3549-1ac4-434d-8cf3-554e9116a81e is PENDING.\u001b[0m\n",
            "\u001b[32m2025-02-20 10:53:55.947\u001b[0m | \u001b[1mINFO    \u001b[0m | \u001b[36mchi.expeca\u001b[0m:\u001b[36mwait_until_lease_status\u001b[0m:\u001b[36m145\u001b[0m - \u001b[1mlease adv-03-lease with id 6f7e3549-1ac4-434d-8cf3-554e9116a81e is PENDING.\u001b[0m\n",
            "\u001b[32m2025-02-20 10:54:01.088\u001b[0m | \u001b[1mINFO    \u001b[0m | \u001b[36mchi.expeca\u001b[0m:\u001b[36mwait_until_lease_status\u001b[0m:\u001b[36m145\u001b[0m - \u001b[1mlease adv-03-lease with id 6f7e3549-1ac4-434d-8cf3-554e9116a81e is PENDING.\u001b[0m\n",
            "\u001b[32m2025-02-20 10:54:06.263\u001b[0m | \u001b[1mINFO    \u001b[0m | \u001b[36mchi.expeca\u001b[0m:\u001b[36mwait_until_lease_status\u001b[0m:\u001b[36m145\u001b[0m - \u001b[1mlease adv-03-lease with id 6f7e3549-1ac4-434d-8cf3-554e9116a81e is PENDING.\u001b[0m\n",
            "\u001b[32m2025-02-20 10:54:11.410\u001b[0m | \u001b[1mINFO    \u001b[0m | \u001b[36mchi.expeca\u001b[0m:\u001b[36mwait_until_lease_status\u001b[0m:\u001b[36m145\u001b[0m - \u001b[1mlease adv-03-lease with id 6f7e3549-1ac4-434d-8cf3-554e9116a81e is STARTING.\u001b[0m\n",
            "\u001b[32m2025-02-20 10:54:16.572\u001b[0m | \u001b[1mINFO    \u001b[0m | \u001b[36mchi.expeca\u001b[0m:\u001b[36mwait_until_lease_status\u001b[0m:\u001b[36m145\u001b[0m - \u001b[1mlease adv-03-lease with id 6f7e3549-1ac4-434d-8cf3-554e9116a81e is STARTING.\u001b[0m\n",
            "\u001b[32m2025-02-20 10:54:21.717\u001b[0m | \u001b[1mINFO    \u001b[0m | \u001b[36mchi.expeca\u001b[0m:\u001b[36mwait_until_lease_status\u001b[0m:\u001b[36m145\u001b[0m - \u001b[1mlease adv-03-lease with id 6f7e3549-1ac4-434d-8cf3-554e9116a81e is STARTING.\u001b[0m\n",
            "\u001b[32m2025-02-20 10:54:26.871\u001b[0m | \u001b[1mINFO    \u001b[0m | \u001b[36mchi.expeca\u001b[0m:\u001b[36mwait_until_lease_status\u001b[0m:\u001b[36m145\u001b[0m - \u001b[1mlease adv-03-lease with id 6f7e3549-1ac4-434d-8cf3-554e9116a81e is ACTIVE.\u001b[0m\n",
            "\u001b[32m2025-02-20 10:54:26.871\u001b[0m | \u001b[32m\u001b[1mSUCCESS \u001b[0m | \u001b[36mchi.expeca\u001b[0m:\u001b[36mtry_to_create_lease\u001b[0m:\u001b[36m285\u001b[0m - \u001b[32m\u001b[1mdone\u001b[0m\n",
            "\u001b[32m2025-02-20 10:54:36.325\u001b[0m | \u001b[1mINFO    \u001b[0m | \u001b[36mchi.expeca\u001b[0m:\u001b[36mreserve\u001b[0m:\u001b[36m243\u001b[0m - \u001b[1mreserving adv-04\u001b[0m\n",
            "\u001b[32m2025-02-20 10:54:38.992\u001b[0m | \u001b[1mINFO    \u001b[0m | \u001b[36mchi.expeca\u001b[0m:\u001b[36mwait_until_lease_status\u001b[0m:\u001b[36m138\u001b[0m - \u001b[1mwaiting 120 seconds for adv-04-lease with id 224f2098-70e5-4a78-ac0d-0cbe4bf27282 to become \"ACTIVE\"\u001b[0m\n",
            "\u001b[32m2025-02-20 10:54:44.147\u001b[0m | \u001b[1mINFO    \u001b[0m | \u001b[36mchi.expeca\u001b[0m:\u001b[36mwait_until_lease_status\u001b[0m:\u001b[36m145\u001b[0m - \u001b[1mlease adv-04-lease with id 224f2098-70e5-4a78-ac0d-0cbe4bf27282 is PENDING.\u001b[0m\n",
            "\u001b[32m2025-02-20 10:54:49.313\u001b[0m | \u001b[1mINFO    \u001b[0m | \u001b[36mchi.expeca\u001b[0m:\u001b[36mwait_until_lease_status\u001b[0m:\u001b[36m145\u001b[0m - \u001b[1mlease adv-04-lease with id 224f2098-70e5-4a78-ac0d-0cbe4bf27282 is PENDING.\u001b[0m\n",
            "\u001b[32m2025-02-20 10:54:54.481\u001b[0m | \u001b[1mINFO    \u001b[0m | \u001b[36mchi.expeca\u001b[0m:\u001b[36mwait_until_lease_status\u001b[0m:\u001b[36m145\u001b[0m - \u001b[1mlease adv-04-lease with id 224f2098-70e5-4a78-ac0d-0cbe4bf27282 is PENDING.\u001b[0m\n",
            "\u001b[32m2025-02-20 10:54:59.661\u001b[0m | \u001b[1mINFO    \u001b[0m | \u001b[36mchi.expeca\u001b[0m:\u001b[36mwait_until_lease_status\u001b[0m:\u001b[36m145\u001b[0m - \u001b[1mlease adv-04-lease with id 224f2098-70e5-4a78-ac0d-0cbe4bf27282 is PENDING.\u001b[0m\n",
            "\u001b[32m2025-02-20 10:55:04.818\u001b[0m | \u001b[1mINFO    \u001b[0m | \u001b[36mchi.expeca\u001b[0m:\u001b[36mwait_until_lease_status\u001b[0m:\u001b[36m145\u001b[0m - \u001b[1mlease adv-04-lease with id 224f2098-70e5-4a78-ac0d-0cbe4bf27282 is STARTING.\u001b[0m\n",
            "\u001b[32m2025-02-20 10:55:09.966\u001b[0m | \u001b[1mINFO    \u001b[0m | \u001b[36mchi.expeca\u001b[0m:\u001b[36mwait_until_lease_status\u001b[0m:\u001b[36m145\u001b[0m - \u001b[1mlease adv-04-lease with id 224f2098-70e5-4a78-ac0d-0cbe4bf27282 is STARTING.\u001b[0m\n",
            "\u001b[32m2025-02-20 10:55:15.105\u001b[0m | \u001b[1mINFO    \u001b[0m | \u001b[36mchi.expeca\u001b[0m:\u001b[36mwait_until_lease_status\u001b[0m:\u001b[36m145\u001b[0m - \u001b[1mlease adv-04-lease with id 224f2098-70e5-4a78-ac0d-0cbe4bf27282 is STARTING.\u001b[0m\n",
            "\u001b[32m2025-02-20 10:55:20.278\u001b[0m | \u001b[1mINFO    \u001b[0m | \u001b[36mchi.expeca\u001b[0m:\u001b[36mwait_until_lease_status\u001b[0m:\u001b[36m145\u001b[0m - \u001b[1mlease adv-04-lease with id 224f2098-70e5-4a78-ac0d-0cbe4bf27282 is ACTIVE.\u001b[0m\n",
            "\u001b[32m2025-02-20 10:55:20.279\u001b[0m | \u001b[32m\u001b[1mSUCCESS \u001b[0m | \u001b[36mchi.expeca\u001b[0m:\u001b[36mtry_to_create_lease\u001b[0m:\u001b[36m285\u001b[0m - \u001b[32m\u001b[1mdone\u001b[0m\n",
            "\u001b[32m2025-02-20 10:55:29.237\u001b[0m | \u001b[1mINFO    \u001b[0m | \u001b[36mchi.expeca\u001b[0m:\u001b[36mreserve\u001b[0m:\u001b[36m243\u001b[0m - \u001b[1mreserving adv-05\u001b[0m\n",
            "\u001b[32m2025-02-20 10:55:31.783\u001b[0m | \u001b[1mINFO    \u001b[0m | \u001b[36mchi.expeca\u001b[0m:\u001b[36mwait_until_lease_status\u001b[0m:\u001b[36m138\u001b[0m - \u001b[1mwaiting 120 seconds for adv-05-lease with id daab7e54-ae79-4501-9deb-a17b0de7962f to become \"ACTIVE\"\u001b[0m\n",
            "\u001b[32m2025-02-20 10:55:37.045\u001b[0m | \u001b[1mINFO    \u001b[0m | \u001b[36mchi.expeca\u001b[0m:\u001b[36mwait_until_lease_status\u001b[0m:\u001b[36m145\u001b[0m - \u001b[1mlease adv-05-lease with id daab7e54-ae79-4501-9deb-a17b0de7962f is PENDING.\u001b[0m\n",
            "\u001b[32m2025-02-20 10:55:42.312\u001b[0m | \u001b[1mINFO    \u001b[0m | \u001b[36mchi.expeca\u001b[0m:\u001b[36mwait_until_lease_status\u001b[0m:\u001b[36m145\u001b[0m - \u001b[1mlease adv-05-lease with id daab7e54-ae79-4501-9deb-a17b0de7962f is PENDING.\u001b[0m\n",
            "\u001b[32m2025-02-20 10:55:47.563\u001b[0m | \u001b[1mINFO    \u001b[0m | \u001b[36mchi.expeca\u001b[0m:\u001b[36mwait_until_lease_status\u001b[0m:\u001b[36m145\u001b[0m - \u001b[1mlease adv-05-lease with id daab7e54-ae79-4501-9deb-a17b0de7962f is PENDING.\u001b[0m\n",
            "\u001b[32m2025-02-20 10:55:52.850\u001b[0m | \u001b[1mINFO    \u001b[0m | \u001b[36mchi.expeca\u001b[0m:\u001b[36mwait_until_lease_status\u001b[0m:\u001b[36m145\u001b[0m - \u001b[1mlease adv-05-lease with id daab7e54-ae79-4501-9deb-a17b0de7962f is PENDING.\u001b[0m\n",
            "\u001b[32m2025-02-20 10:55:58.104\u001b[0m | \u001b[1mINFO    \u001b[0m | \u001b[36mchi.expeca\u001b[0m:\u001b[36mwait_until_lease_status\u001b[0m:\u001b[36m145\u001b[0m - \u001b[1mlease adv-05-lease with id daab7e54-ae79-4501-9deb-a17b0de7962f is PENDING.\u001b[0m\n",
            "\u001b[32m2025-02-20 10:56:03.393\u001b[0m | \u001b[1mINFO    \u001b[0m | \u001b[36mchi.expeca\u001b[0m:\u001b[36mwait_until_lease_status\u001b[0m:\u001b[36m145\u001b[0m - \u001b[1mlease adv-05-lease with id daab7e54-ae79-4501-9deb-a17b0de7962f is PENDING.\u001b[0m\n",
            "\u001b[32m2025-02-20 10:56:08.676\u001b[0m | \u001b[1mINFO    \u001b[0m | \u001b[36mchi.expeca\u001b[0m:\u001b[36mwait_until_lease_status\u001b[0m:\u001b[36m145\u001b[0m - \u001b[1mlease adv-05-lease with id daab7e54-ae79-4501-9deb-a17b0de7962f is PENDING.\u001b[0m\n",
            "\u001b[32m2025-02-20 10:56:13.958\u001b[0m | \u001b[1mINFO    \u001b[0m | \u001b[36mchi.expeca\u001b[0m:\u001b[36mwait_until_lease_status\u001b[0m:\u001b[36m145\u001b[0m - \u001b[1mlease adv-05-lease with id daab7e54-ae79-4501-9deb-a17b0de7962f is STARTING.\u001b[0m\n",
            "\u001b[32m2025-02-20 10:56:19.231\u001b[0m | \u001b[1mINFO    \u001b[0m | \u001b[36mchi.expeca\u001b[0m:\u001b[36mwait_until_lease_status\u001b[0m:\u001b[36m145\u001b[0m - \u001b[1mlease adv-05-lease with id daab7e54-ae79-4501-9deb-a17b0de7962f is STARTING.\u001b[0m\n",
            "\u001b[32m2025-02-20 10:56:24.495\u001b[0m | \u001b[1mINFO    \u001b[0m | \u001b[36mchi.expeca\u001b[0m:\u001b[36mwait_until_lease_status\u001b[0m:\u001b[36m145\u001b[0m - \u001b[1mlease adv-05-lease with id daab7e54-ae79-4501-9deb-a17b0de7962f is STARTING.\u001b[0m\n",
            "\u001b[32m2025-02-20 10:56:29.784\u001b[0m | \u001b[1mINFO    \u001b[0m | \u001b[36mchi.expeca\u001b[0m:\u001b[36mwait_until_lease_status\u001b[0m:\u001b[36m145\u001b[0m - \u001b[1mlease adv-05-lease with id daab7e54-ae79-4501-9deb-a17b0de7962f is STARTING.\u001b[0m\n",
            "\u001b[32m2025-02-20 10:56:35.051\u001b[0m | \u001b[1mINFO    \u001b[0m | \u001b[36mchi.expeca\u001b[0m:\u001b[36mwait_until_lease_status\u001b[0m:\u001b[36m145\u001b[0m - \u001b[1mlease adv-05-lease with id daab7e54-ae79-4501-9deb-a17b0de7962f is STARTING.\u001b[0m\n",
            "\u001b[32m2025-02-20 10:56:40.326\u001b[0m | \u001b[1mINFO    \u001b[0m | \u001b[36mchi.expeca\u001b[0m:\u001b[36mwait_until_lease_status\u001b[0m:\u001b[36m145\u001b[0m - \u001b[1mlease adv-05-lease with id daab7e54-ae79-4501-9deb-a17b0de7962f is STARTING.\u001b[0m\n",
            "\u001b[32m2025-02-20 10:56:45.582\u001b[0m | \u001b[1mINFO    \u001b[0m | \u001b[36mchi.expeca\u001b[0m:\u001b[36mwait_until_lease_status\u001b[0m:\u001b[36m145\u001b[0m - \u001b[1mlease adv-05-lease with id daab7e54-ae79-4501-9deb-a17b0de7962f is ACTIVE.\u001b[0m\n",
            "\u001b[32m2025-02-20 10:56:45.583\u001b[0m | \u001b[32m\u001b[1mSUCCESS \u001b[0m | \u001b[36mchi.expeca\u001b[0m:\u001b[36mtry_to_create_lease\u001b[0m:\u001b[36m285\u001b[0m - \u001b[32m\u001b[1mdone\u001b[0m\n",
            "\u001b[32m2025-02-20 10:56:54.885\u001b[0m | \u001b[1mINFO    \u001b[0m | \u001b[36mchi.expeca\u001b[0m:\u001b[36mreserve\u001b[0m:\u001b[36m243\u001b[0m - \u001b[1mreserving adv-06\u001b[0m\n",
            "\u001b[32m2025-02-20 10:56:57.665\u001b[0m | \u001b[1mINFO    \u001b[0m | \u001b[36mchi.expeca\u001b[0m:\u001b[36mwait_until_lease_status\u001b[0m:\u001b[36m138\u001b[0m - \u001b[1mwaiting 120 seconds for adv-06-lease with id 09817adf-f5a6-406e-aa1f-cf15070ee30a to become \"ACTIVE\"\u001b[0m\n",
            "\u001b[32m2025-02-20 10:57:02.921\u001b[0m | \u001b[1mINFO    \u001b[0m | \u001b[36mchi.expeca\u001b[0m:\u001b[36mwait_until_lease_status\u001b[0m:\u001b[36m145\u001b[0m - \u001b[1mlease adv-06-lease with id 09817adf-f5a6-406e-aa1f-cf15070ee30a is PENDING.\u001b[0m\n",
            "\u001b[32m2025-02-20 10:57:08.203\u001b[0m | \u001b[1mINFO    \u001b[0m | \u001b[36mchi.expeca\u001b[0m:\u001b[36mwait_until_lease_status\u001b[0m:\u001b[36m145\u001b[0m - \u001b[1mlease adv-06-lease with id 09817adf-f5a6-406e-aa1f-cf15070ee30a is STARTING.\u001b[0m\n",
            "\u001b[32m2025-02-20 10:57:13.468\u001b[0m | \u001b[1mINFO    \u001b[0m | \u001b[36mchi.expeca\u001b[0m:\u001b[36mwait_until_lease_status\u001b[0m:\u001b[36m145\u001b[0m - \u001b[1mlease adv-06-lease with id 09817adf-f5a6-406e-aa1f-cf15070ee30a is STARTING.\u001b[0m\n",
            "\u001b[32m2025-02-20 10:57:18.733\u001b[0m | \u001b[1mINFO    \u001b[0m | \u001b[36mchi.expeca\u001b[0m:\u001b[36mwait_until_lease_status\u001b[0m:\u001b[36m145\u001b[0m - \u001b[1mlease adv-06-lease with id 09817adf-f5a6-406e-aa1f-cf15070ee30a is STARTING.\u001b[0m\n",
            "\u001b[32m2025-02-20 10:57:24.010\u001b[0m | \u001b[1mINFO    \u001b[0m | \u001b[36mchi.expeca\u001b[0m:\u001b[36mwait_until_lease_status\u001b[0m:\u001b[36m145\u001b[0m - \u001b[1mlease adv-06-lease with id 09817adf-f5a6-406e-aa1f-cf15070ee30a is ACTIVE.\u001b[0m\n",
            "\u001b[32m2025-02-20 10:57:24.011\u001b[0m | \u001b[32m\u001b[1mSUCCESS \u001b[0m | \u001b[36mchi.expeca\u001b[0m:\u001b[36mtry_to_create_lease\u001b[0m:\u001b[36m285\u001b[0m - \u001b[32m\u001b[1mdone\u001b[0m\n",
            "\u001b[32m2025-02-20 10:57:33.629\u001b[0m | \u001b[1mINFO    \u001b[0m | \u001b[36mchi.expeca\u001b[0m:\u001b[36mreserve\u001b[0m:\u001b[36m243\u001b[0m - \u001b[1mreserving adv-07\u001b[0m\n",
            "\u001b[32m2025-02-20 10:57:36.072\u001b[0m | \u001b[1mINFO    \u001b[0m | \u001b[36mchi.expeca\u001b[0m:\u001b[36mwait_until_lease_status\u001b[0m:\u001b[36m138\u001b[0m - \u001b[1mwaiting 120 seconds for adv-07-lease with id 3b2c891c-d334-4da9-b259-f05cb67c1024 to become \"ACTIVE\"\u001b[0m\n",
            "\u001b[32m2025-02-20 10:57:41.351\u001b[0m | \u001b[1mINFO    \u001b[0m | \u001b[36mchi.expeca\u001b[0m:\u001b[36mwait_until_lease_status\u001b[0m:\u001b[36m145\u001b[0m - \u001b[1mlease adv-07-lease with id 3b2c891c-d334-4da9-b259-f05cb67c1024 is PENDING.\u001b[0m\n",
            "\u001b[32m2025-02-20 10:57:46.744\u001b[0m | \u001b[1mINFO    \u001b[0m | \u001b[36mchi.expeca\u001b[0m:\u001b[36mwait_until_lease_status\u001b[0m:\u001b[36m145\u001b[0m - \u001b[1mlease adv-07-lease with id 3b2c891c-d334-4da9-b259-f05cb67c1024 is PENDING.\u001b[0m\n",
            "\u001b[32m2025-02-20 10:57:52.014\u001b[0m | \u001b[1mINFO    \u001b[0m | \u001b[36mchi.expeca\u001b[0m:\u001b[36mwait_until_lease_status\u001b[0m:\u001b[36m145\u001b[0m - \u001b[1mlease adv-07-lease with id 3b2c891c-d334-4da9-b259-f05cb67c1024 is PENDING.\u001b[0m\n",
            "\u001b[32m2025-02-20 10:57:57.288\u001b[0m | \u001b[1mINFO    \u001b[0m | \u001b[36mchi.expeca\u001b[0m:\u001b[36mwait_until_lease_status\u001b[0m:\u001b[36m145\u001b[0m - \u001b[1mlease adv-07-lease with id 3b2c891c-d334-4da9-b259-f05cb67c1024 is PENDING.\u001b[0m\n",
            "\u001b[32m2025-02-20 10:58:02.548\u001b[0m | \u001b[1mINFO    \u001b[0m | \u001b[36mchi.expeca\u001b[0m:\u001b[36mwait_until_lease_status\u001b[0m:\u001b[36m145\u001b[0m - \u001b[1mlease adv-07-lease with id 3b2c891c-d334-4da9-b259-f05cb67c1024 is PENDING.\u001b[0m\n",
            "\u001b[32m2025-02-20 10:58:07.827\u001b[0m | \u001b[1mINFO    \u001b[0m | \u001b[36mchi.expeca\u001b[0m:\u001b[36mwait_until_lease_status\u001b[0m:\u001b[36m145\u001b[0m - \u001b[1mlease adv-07-lease with id 3b2c891c-d334-4da9-b259-f05cb67c1024 is PENDING.\u001b[0m\n",
            "\u001b[32m2025-02-20 10:58:13.103\u001b[0m | \u001b[1mINFO    \u001b[0m | \u001b[36mchi.expeca\u001b[0m:\u001b[36mwait_until_lease_status\u001b[0m:\u001b[36m145\u001b[0m - \u001b[1mlease adv-07-lease with id 3b2c891c-d334-4da9-b259-f05cb67c1024 is STARTING.\u001b[0m\n",
            "\u001b[32m2025-02-20 10:58:18.372\u001b[0m | \u001b[1mINFO    \u001b[0m | \u001b[36mchi.expeca\u001b[0m:\u001b[36mwait_until_lease_status\u001b[0m:\u001b[36m145\u001b[0m - \u001b[1mlease adv-07-lease with id 3b2c891c-d334-4da9-b259-f05cb67c1024 is STARTING.\u001b[0m\n",
            "\u001b[32m2025-02-20 10:58:23.651\u001b[0m | \u001b[1mINFO    \u001b[0m | \u001b[36mchi.expeca\u001b[0m:\u001b[36mwait_until_lease_status\u001b[0m:\u001b[36m145\u001b[0m - \u001b[1mlease adv-07-lease with id 3b2c891c-d334-4da9-b259-f05cb67c1024 is STARTING.\u001b[0m\n",
            "\u001b[32m2025-02-20 10:58:28.914\u001b[0m | \u001b[1mINFO    \u001b[0m | \u001b[36mchi.expeca\u001b[0m:\u001b[36mwait_until_lease_status\u001b[0m:\u001b[36m145\u001b[0m - \u001b[1mlease adv-07-lease with id 3b2c891c-d334-4da9-b259-f05cb67c1024 is ACTIVE.\u001b[0m\n",
            "\u001b[32m2025-02-20 10:58:28.915\u001b[0m | \u001b[32m\u001b[1mSUCCESS \u001b[0m | \u001b[36mchi.expeca\u001b[0m:\u001b[36mtry_to_create_lease\u001b[0m:\u001b[36m285\u001b[0m - \u001b[32m\u001b[1mdone\u001b[0m\n"
          ]
        }
      ]
    },
    {
      "cell_type": "code",
      "source": [
        "# worker reservation\n",
        "worker_name = \"worker-07\"\n",
        "worker_lease = show_reservation_byname(worker_name + \"-lease\")\n",
        "worker_reservation_id = worker_lease[\"reservations\"][0][\"id\"]\n",
        "edgenet = chi.network.get_network(\"edge-net\")\n",
        "container_name = \"ct-server-node\"\n",
        "chi.container.create_container(\n",
        "    name = container_name,\n",
        "    image = \"samiemostafavi/perf-meas\",\n",
        "    reservation_id = worker_reservation_id,\n",
        "    environment = {\"SERVER_DIR\":\"/tmp/\"},\n",
        "    mounts = [],\n",
        "    nets = [\n",
        "        { \"network\" : edgenet['id'] },\n",
        "    ],\n",
        "    labels = {\n",
        "        \"networks.1.interface\":\"ens1\",\n",
        "        \"networks.1.ip\":\"10.70.70.210/24\",\n",
        "        \"networks.1.routes\":\"172.16.0.0/16-10.70.70.1\",\n",
        "    },\n",
        ")\n",
        "chi.container.wait_for_active(container_name)\n",
        "logger.success(f\"created {container_name} container.\")"
      ],
      "metadata": {
        "colab": {
          "base_uri": "https://localhost:8080/"
        },
        "id": "YQNQbmJq95cQ",
        "outputId": "7285af8b-4789-42ee-c320-9ce701d7e9d1"
      },
      "execution_count": 10,
      "outputs": [
        {
          "output_type": "stream",
          "name": "stderr",
          "text": [
            "\u001b[32m2025-02-20 10:59:21.886\u001b[0m | \u001b[32m\u001b[1mSUCCESS \u001b[0m | \u001b[36m__main__\u001b[0m:\u001b[36m<cell line: 0>\u001b[0m:\u001b[36m23\u001b[0m - \u001b[32m\u001b[1mcreated ct-server-node container.\u001b[0m\n"
          ]
        }
      ]
    },
    {
      "cell_type": "code",
      "source": [
        "ports = [\n",
        "    53301,\n",
        "    53302,\n",
        "    53303,\n",
        "    53304,\n",
        "    53305\n",
        "]\n",
        "container_name = \"ct-server-node\"\n",
        "for port in ports:\n",
        "    command = f\"iperf3 -s -p {port}\"\n",
        "    result = chi.container.execute(\n",
        "        container_ref=container_name,\n",
        "        command=\"curl -s -X POST -H \\\"Content-Type: application/json\\\" -d '{\\\"cmd\\\": \\\"\" + command + \"\\\"}' http://localhost:50505/\",\n",
        "    )\n",
        "    logger.info(f\"{result}\")"
      ],
      "metadata": {
        "colab": {
          "base_uri": "https://localhost:8080/"
        },
        "id": "Dww7H0BV-RqD",
        "outputId": "86228b85-29b0-48f0-eca9-65367af2cfc7"
      },
      "execution_count": 11,
      "outputs": [
        {
          "output_type": "stream",
          "name": "stderr",
          "text": [
            "\u001b[32m2025-02-20 10:59:27.273\u001b[0m | \u001b[1mINFO    \u001b[0m | \u001b[36m__main__\u001b[0m:\u001b[36m<cell line: 0>\u001b[0m:\u001b[36m15\u001b[0m - \u001b[1m{'output': 'Command received and started in the background.\\n', 'exit_code': 0, 'exec_id': None, 'proxy_url': None}\u001b[0m\n",
            "\u001b[32m2025-02-20 10:59:27.575\u001b[0m | \u001b[1mINFO    \u001b[0m | \u001b[36m__main__\u001b[0m:\u001b[36m<cell line: 0>\u001b[0m:\u001b[36m15\u001b[0m - \u001b[1m{'output': 'Command received and started in the background.\\n', 'exit_code': 0, 'exec_id': None, 'proxy_url': None}\u001b[0m\n",
            "\u001b[32m2025-02-20 10:59:27.902\u001b[0m | \u001b[1mINFO    \u001b[0m | \u001b[36m__main__\u001b[0m:\u001b[36m<cell line: 0>\u001b[0m:\u001b[36m15\u001b[0m - \u001b[1m{'output': 'Command received and started in the background.\\n', 'exit_code': 0, 'exec_id': None, 'proxy_url': None}\u001b[0m\n",
            "\u001b[32m2025-02-20 10:59:28.236\u001b[0m | \u001b[1mINFO    \u001b[0m | \u001b[36m__main__\u001b[0m:\u001b[36m<cell line: 0>\u001b[0m:\u001b[36m15\u001b[0m - \u001b[1m{'output': 'Command received and started in the background.\\n', 'exit_code': 0, 'exec_id': None, 'proxy_url': None}\u001b[0m\n",
            "\u001b[32m2025-02-20 10:59:28.528\u001b[0m | \u001b[1mINFO    \u001b[0m | \u001b[36m__main__\u001b[0m:\u001b[36m<cell line: 0>\u001b[0m:\u001b[36m15\u001b[0m - \u001b[1m{'output': 'Command received and started in the background.\\n', 'exit_code': 0, 'exec_id': None, 'proxy_url': None}\u001b[0m\n"
          ]
        }
      ]
    },
    {
      "cell_type": "code",
      "source": [
        "advnet = chi.network.get_network(\"adv-02-net\")\n",
        "container_name = \"ct-client-node-01\"\n",
        "chi.container.create_container(\n",
        "    name = container_name,\n",
        "    image = \"samiemostafavi/perf-meas\",\n",
        "    reservation_id = worker_reservation_id,\n",
        "    environment = {\"SERVER_DIR\":\"/tmp/\"},\n",
        "    nets = [\n",
        "        { \"network\" : advnet['id'] },\n",
        "    ],\n",
        "    labels = {\n",
        "        \"networks.1.interface\":\"eno12409\",\n",
        "        \"networks.1.ip\":\"10.42.3.2/24\",\n",
        "        \"networks.1.routes\":\"10.70.70.0/24-10.42.3.1\",\n",
        "    },\n",
        ")\n",
        "chi.container.wait_for_active(container_name)\n",
        "logger.success(f\"created {container_name} container.\")"
      ],
      "metadata": {
        "colab": {
          "base_uri": "https://localhost:8080/"
        },
        "id": "trPanNKl-Zh0",
        "outputId": "29f492ec-8c66-41b4-b1c8-31f90c8a4e52"
      },
      "execution_count": 12,
      "outputs": [
        {
          "output_type": "stream",
          "name": "stderr",
          "text": [
            "\u001b[32m2025-02-20 11:00:58.509\u001b[0m | \u001b[32m\u001b[1mSUCCESS \u001b[0m | \u001b[36m__main__\u001b[0m:\u001b[36m<cell line: 0>\u001b[0m:\u001b[36m18\u001b[0m - \u001b[32m\u001b[1mcreated ct-client-node-01 container.\u001b[0m\n"
          ]
        }
      ]
    },
    {
      "cell_type": "code",
      "source": [
        "advnet = chi.network.get_network(\"adv-03-net\")\n",
        "container_name = \"ct-client-node-02\"\n",
        "chi.container.create_container(\n",
        "    name = container_name,\n",
        "    image = \"samiemostafavi/perf-meas\",\n",
        "    reservation_id = worker_reservation_id,\n",
        "    environment = {\"SERVER_DIR\":\"/tmp/\"},\n",
        "    nets = [\n",
        "        { \"network\" : advnet['id'] },\n",
        "    ],\n",
        "    labels = {\n",
        "        \"networks.1.interface\":\"eno12419\",\n",
        "        \"networks.1.ip\":\"10.42.3.2/24\",\n",
        "        \"networks.1.routes\":\"10.70.70.0/24-10.42.3.1\",\n",
        "    },\n",
        ")\n",
        "chi.container.wait_for_active(container_name)\n",
        "logger.success(f\"created {container_name} container.\")"
      ],
      "metadata": {
        "colab": {
          "base_uri": "https://localhost:8080/"
        },
        "id": "0r1t2cEM-vJX",
        "outputId": "32561fc2-c1c2-4da7-8146-0a61a1139046"
      },
      "execution_count": 13,
      "outputs": [
        {
          "output_type": "stream",
          "name": "stderr",
          "text": [
            "\u001b[32m2025-02-20 11:01:33.105\u001b[0m | \u001b[32m\u001b[1mSUCCESS \u001b[0m | \u001b[36m__main__\u001b[0m:\u001b[36m<cell line: 0>\u001b[0m:\u001b[36m18\u001b[0m - \u001b[32m\u001b[1mcreated ct-client-node-02 container.\u001b[0m\n"
          ]
        }
      ]
    },
    {
      "cell_type": "code",
      "source": [
        "advnet = chi.network.get_network(\"adv-04-net\")\n",
        "container_name = \"ct-client-node-03\"\n",
        "chi.container.create_container(\n",
        "    name = container_name,\n",
        "    image = \"samiemostafavi/perf-meas\",\n",
        "    reservation_id = worker_reservation_id,\n",
        "    environment = {\"SERVER_DIR\":\"/tmp/\"},\n",
        "    nets = [\n",
        "        { \"network\" : advnet['id'] },\n",
        "    ],\n",
        "    labels = {\n",
        "        \"networks.1.interface\":\"eno12429\",\n",
        "        \"networks.1.ip\":\"10.42.3.2/24\",\n",
        "        \"networks.1.routes\":\"10.70.70.0/24-10.42.3.1\",\n",
        "    },\n",
        ")\n",
        "chi.container.wait_for_active(container_name)\n",
        "logger.success(f\"created {container_name} container.\")"
      ],
      "metadata": {
        "colab": {
          "base_uri": "https://localhost:8080/"
        },
        "id": "_2kdUBAh-6Eb",
        "outputId": "27e32f25-8da3-4851-9b83-612a1a7bc5fa"
      },
      "execution_count": 14,
      "outputs": [
        {
          "output_type": "stream",
          "name": "stderr",
          "text": [
            "\u001b[32m2025-02-20 11:02:06.356\u001b[0m | \u001b[32m\u001b[1mSUCCESS \u001b[0m | \u001b[36m__main__\u001b[0m:\u001b[36m<cell line: 0>\u001b[0m:\u001b[36m18\u001b[0m - \u001b[32m\u001b[1mcreated ct-client-node-03 container.\u001b[0m\n"
          ]
        }
      ]
    },
    {
      "cell_type": "code",
      "source": [
        "worker_name = \"worker-08\"\n",
        "worker_lease = show_reservation_byname(worker_name + \"-lease\")\n",
        "worker_reservation_id = worker_lease[\"reservations\"][0][\"id\"]\n",
        "\n",
        "advnet = chi.network.get_network(\"adv-05-net\")\n",
        "container_name = \"ct-client-node-04\"\n",
        "chi.container.create_container(\n",
        "    name = container_name,\n",
        "    image = \"samiemostafavi/perf-meas\",\n",
        "    reservation_id = worker_reservation_id,\n",
        "    environment = {\"SERVER_DIR\":\"/tmp/\"},\n",
        "    nets = [\n",
        "        { \"network\" : advnet['id'] },\n",
        "    ],\n",
        "    labels = {\n",
        "        \"networks.1.interface\":\"ens1\",\n",
        "        \"networks.1.ip\":\"10.42.3.2/24\",\n",
        "        \"networks.1.routes\":\"10.70.70.0/24-10.42.3.1\",\n",
        "    },\n",
        ")\n",
        "chi.container.wait_for_active(container_name)\n",
        "logger.success(f\"created {container_name} container.\")"
      ],
      "metadata": {
        "colab": {
          "base_uri": "https://localhost:8080/"
        },
        "id": "B5l1RJLu_Gjr",
        "outputId": "67fc11fa-f412-4b42-fe17-eeb1723b87a9"
      },
      "execution_count": 15,
      "outputs": [
        {
          "output_type": "stream",
          "name": "stderr",
          "text": [
            "\u001b[32m2025-02-20 11:02:34.719\u001b[0m | \u001b[32m\u001b[1mSUCCESS \u001b[0m | \u001b[36m__main__\u001b[0m:\u001b[36m<cell line: 0>\u001b[0m:\u001b[36m22\u001b[0m - \u001b[32m\u001b[1mcreated ct-client-node-04 container.\u001b[0m\n"
          ]
        }
      ]
    },
    {
      "cell_type": "code",
      "source": [
        "advnet = chi.network.get_network(\"adv-06-net\")\n",
        "container_name = \"ct-client-node-05\"\n",
        "chi.container.create_container(\n",
        "    name = container_name,\n",
        "    image = \"samiemostafavi/perf-meas\",\n",
        "    reservation_id = worker_reservation_id,\n",
        "    environment = {\"SERVER_DIR\":\"/tmp/\"},\n",
        "    nets = [\n",
        "        { \"network\" : advnet['id'] },\n",
        "    ],\n",
        "    labels = {\n",
        "        \"networks.1.interface\":\"eno12409\",\n",
        "        \"networks.1.ip\":\"10.42.3.2/24\",\n",
        "        \"networks.1.routes\":\"10.70.70.0/24-10.42.3.1\",\n",
        "    },\n",
        ")\n",
        "chi.container.wait_for_active(container_name)\n",
        "logger.success(f\"created {container_name} container.\")"
      ],
      "metadata": {
        "colab": {
          "base_uri": "https://localhost:8080/"
        },
        "id": "6_gVuxyQ_UUE",
        "outputId": "9f00ea84-d6f1-427f-b53d-ad09017a5757"
      },
      "execution_count": 16,
      "outputs": [
        {
          "output_type": "stream",
          "name": "stderr",
          "text": [
            "\u001b[32m2025-02-20 11:02:56.424\u001b[0m | \u001b[32m\u001b[1mSUCCESS \u001b[0m | \u001b[36m__main__\u001b[0m:\u001b[36m<cell line: 0>\u001b[0m:\u001b[36m18\u001b[0m - \u001b[32m\u001b[1mcreated ct-client-node-05 container.\u001b[0m\n"
          ]
        }
      ]
    },
    {
      "cell_type": "code",
      "source": [
        "worker_name = \"worker-06\"\n",
        "worker_lease = show_reservation_byname(worker_name + \"-lease\")\n",
        "worker_reservation_id = worker_lease[\"reservations\"][0][\"id\"]\n",
        "\n",
        "publicnet = chi.network.get_network(\"serverpublic\")\n",
        "edgenet = chi.network.get_network(\"edge-net\")\n",
        "container_name = \"ros-latency-server-node\"\n",
        "chi.container.create_container(\n",
        "    name = container_name,\n",
        "    image = \"bryandony/ros:melodic-voxblox-edge-expeca\",\n",
        "    reservation_id = worker_reservation_id,\n",
        "    environment = {\n",
        "        \"DNS_IP\":\"8.8.8.8\",\n",
        "        \"GATEWAY_IP\":\"130.237.11.97\",\n",
        "        \"PASS\":\"expeca\"\n",
        "    },\n",
        "    mounts = [],\n",
        "    nets = [\n",
        "        { \"network\" : publicnet['id'] },\n",
        "        { \"network\" : edgenet['id'] },\n",
        "    ],\n",
        "    labels = {\n",
        "        \"networks.1.interface\":\"ens1f1\",\n",
        "        \"networks.1.ip\":\"130.237.11.122/27\",\n",
        "        \"networks.1.gateway\":\"130.237.11.97\",\n",
        "        \"networks.2.interface\":\"eno12399np0\",\n",
        "        \"networks.2.ip\":\"10.70.70.211/24\",\n",
        "        \"networks.2.routes\":\"172.16.0.0/16-10.70.70.1\",\n",
        "        \"capabilities.privileged\":\"true\",\n",
        "    },\n",
        ")\n",
        "chi.container.wait_for_active(container_name)\n",
        "logger.success(f\"created {container_name} container.\")"
      ],
      "metadata": {
        "colab": {
          "base_uri": "https://localhost:8080/"
        },
        "id": "eLT8rYMK_iEE",
        "outputId": "c8642d4c-be7a-4266-d963-d43f68828035"
      },
      "execution_count": 17,
      "outputs": [
        {
          "output_type": "stream",
          "name": "stderr",
          "text": [
            "\u001b[32m2025-02-20 11:04:09.370\u001b[0m | \u001b[32m\u001b[1mSUCCESS \u001b[0m | \u001b[36m__main__\u001b[0m:\u001b[36m<cell line: 0>\u001b[0m:\u001b[36m33\u001b[0m - \u001b[32m\u001b[1mcreated ros-latency-server-node container.\u001b[0m\n"
          ]
        }
      ]
    },
    {
      "cell_type": "code",
      "source": [
        "worker_name = \"worker-09\"\n",
        "worker_lease = show_reservation_byname(worker_name + \"-lease\")\n",
        "worker_reservation_id = worker_lease[\"reservations\"][0][\"id\"]\n",
        "publicnet = chi.network.get_network(\"serverpublic\")\n",
        "advnet = chi.network.get_network(\"adv-07-net\")\n",
        "name = \"ros-latency-client-node\"\n",
        "chi.container.create_container(\n",
        "    name = name,\n",
        "    image = \"bryandony/ros:melodic-voxblox-edge-expeca\",\n",
        "    reservation_id = worker_reservation_id,\n",
        "    environment = {\"SERVER_DIR\":\"/tmp/\"},\n",
        "    nets = [\n",
        "        { \"network\" : publicnet['id'] },\n",
        "        { \"network\" : advnet['id'] },\n",
        "    ],\n",
        "    labels = {\n",
        "        \"networks.1.interface\":\"ens1\",\n",
        "        \"networks.1.ip\":\"130.237.11.123/27\",\n",
        "        \"networks.1.gateway\":\"130.237.11.97\",\n",
        "        \"networks.2.interface\":\"eno12409\",\n",
        "        \"networks.2.ip\":\"10.42.3.2/24\",\n",
        "        \"networks.2.routes\":\"10.70.70.0/24-10.42.3.1\",\n",
        "        \"capabilities.privileged\":\"true\",\n",
        "    },\n",
        ")\n",
        "chi.container.wait_for_active(name)\n",
        "logger.success(f\"created {name} container.\")"
      ],
      "metadata": {
        "colab": {
          "base_uri": "https://localhost:8080/"
        },
        "id": "spVstzJJABmZ",
        "outputId": "6d31637a-694e-4697-bc50-64ca7665655d"
      },
      "execution_count": 18,
      "outputs": [
        {
          "output_type": "stream",
          "name": "stderr",
          "text": [
            "\u001b[32m2025-02-20 11:04:44.366\u001b[0m | \u001b[32m\u001b[1mSUCCESS \u001b[0m | \u001b[36m__main__\u001b[0m:\u001b[36m<cell line: 0>\u001b[0m:\u001b[36m27\u001b[0m - \u001b[32m\u001b[1mcreated ros-latency-client-node container.\u001b[0m\n"
          ]
        }
      ]
    },
    {
      "cell_type": "code",
      "source": [
        "ports = [\n",
        "    53301,\n",
        "    53302,\n",
        "    53303,\n",
        "    53304,\n",
        "    53305\n",
        "]\n",
        "nodes_names = [\n",
        "    \"ct-client-node-01\",\n",
        "    \"ct-client-node-02\",\n",
        "    \"ct-client-node-03\",\n",
        "    \"ct-client-node-04\",\n",
        "    \"ct-client-node-05\"\n",
        "]\n",
        "\n",
        "for container_name,port in zip(nodes_names,ports):\n",
        "    command = f\"iperf3 -c 10.70.70.210 -p {port} -b 5M -t 30\"\n",
        "    result = chi.container.execute(\n",
        "        container_ref=container_name,\n",
        "        command=\"curl -s -X POST -H \\\"Content-Type: application/json\\\" -d '{\\\"cmd\\\": \\\"\" + command + \"\\\"}' http://localhost:50505/\",\n",
        "    )\n",
        "    logger.info(f\"{result}\")"
      ],
      "metadata": {
        "id": "ghL2nmmuCIVa"
      },
      "execution_count": null,
      "outputs": []
    }
  ],
  "metadata": {
    "colab": {
      "provenance": [],
      "include_colab_link": true
    },
    "kernelspec": {
      "display_name": "Python 3",
      "name": "python3"
    },
    "language_info": {
      "name": "python"
    }
  },
  "nbformat": 4,
  "nbformat_minor": 0
}