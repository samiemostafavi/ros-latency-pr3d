{
  "cells": [
    {
      "cell_type": "markdown",
      "metadata": {
        "id": "view-in-github",
        "colab_type": "text"
      },
      "source": [
        "<a href=\"https://colab.research.google.com/github/samiemostafavi/ros-latency-pr3d/blob/main/ros_cross_traffic_setup.ipynb\" target=\"_parent\"><img src=\"https://colab.research.google.com/assets/colab-badge.svg\" alt=\"Open In Colab\"/></a>"
      ]
    },
    {
      "cell_type": "markdown",
      "metadata": {
        "id": "W9YICZf_mJBy"
      },
      "source": [
        "Login to Chameleon and download openrc.sh file from [here](https://testbed.expeca.proj.kth.se/project/api_access/openrc/). Upload it here next to this notebook and continue.\n",
        "\n",
        "In the next cell, we setup the authentication method to be able to use Openstack clients."
      ]
    },
    {
      "cell_type": "code",
      "execution_count": null,
      "metadata": {
        "colab": {
          "base_uri": "https://localhost:8080/"
        },
        "id": "KLT-J26lJ5ae",
        "outputId": "3c4169d7-13a7-42ab-d857-119e623fb4c4"
      },
      "outputs": [
        {
          "name": "stdout",
          "output_type": "stream",
          "text": [
            "enter your expeca password:··········\n"
          ]
        }
      ],
      "source": [
        "import os, re\n",
        "from getpass import getpass\n",
        "\n",
        "with open('bryan-project-openrc.sh', 'r') as f:\n",
        "    script_content = f.read()\n",
        "    pattern = r'export\\s+(\\w+)\\s*=\\s*(\"[^\"]+\"|[^\"\\n]+)'\n",
        "    matches = re.findall(pattern, script_content)\n",
        "\n",
        "    for name, value in matches:\n",
        "        os.environ[name] = value.strip('\"')\n",
        "\n",
        "password = getpass('enter your expeca password:')\n",
        "os.environ['OS_PASSWORD'] = password"
      ]
    },
    {
      "cell_type": "markdown",
      "metadata": {
        "id": "5bXlipy4m1bs"
      },
      "source": [
        "Install required packages and dependencies. Ignore the warnings."
      ]
    },
    {
      "cell_type": "code",
      "execution_count": null,
      "metadata": {
        "colab": {
          "base_uri": "https://localhost:8080/"
        },
        "id": "3uZ_rN5iFlhp",
        "outputId": "eeb47ef7-01db-489c-bd62-be7f6b94e981"
      },
      "outputs": [
        {
          "output_type": "stream",
          "name": "stdout",
          "text": [
            "\u001b[?25l   \u001b[90m━━━━━━━━━━━━━━━━━━━━━━━━━━━━━━━━━━━━━━━━\u001b[0m \u001b[32m0.0/1.6 MB\u001b[0m \u001b[31m?\u001b[0m eta \u001b[36m-:--:--\u001b[0m\r\u001b[2K   \u001b[91m━━━━━━━━━\u001b[0m\u001b[91m╸\u001b[0m\u001b[90m━━━━━━━━━━━━━━━━━━━━━━━━━━━━━━\u001b[0m \u001b[32m0.4/1.6 MB\u001b[0m \u001b[31m11.5 MB/s\u001b[0m eta \u001b[36m0:00:01\u001b[0m\r\u001b[2K   \u001b[91m━━━━━━━━━━━━━━━━━━━━━━━━━━━━━━━━━━━━━━━\u001b[0m\u001b[91m╸\u001b[0m \u001b[32m1.6/1.6 MB\u001b[0m \u001b[31m27.0 MB/s\u001b[0m eta \u001b[36m0:00:01\u001b[0m\r\u001b[2K   \u001b[90m━━━━━━━━━━━━━━━━━━━━━━━━━━━━━━━━━━━━━━━━\u001b[0m \u001b[32m1.6/1.6 MB\u001b[0m \u001b[31m20.2 MB/s\u001b[0m eta \u001b[36m0:00:00\u001b[0m\n",
            "\u001b[?25h  Preparing metadata (setup.py) ... \u001b[?25l\u001b[?25hdone\n",
            "  Preparing metadata (setup.py) ... \u001b[?25l\u001b[?25hdone\n",
            "\u001b[33mWARNING: Retrying (Retry(total=4, connect=None, read=None, redirect=None, status=None)) after connection broken by 'ProtocolError('Connection aborted.', RemoteDisconnected('Remote end closed connection without response'))': /simple/rfc3986/\u001b[0m\u001b[33m\n",
            "\u001b[2K   \u001b[90m━━━━━━━━━━━━━━━━━━━━━━━━━━━━━━━━━━━━━━━━\u001b[0m \u001b[32m59.4/59.4 kB\u001b[0m \u001b[31m2.5 MB/s\u001b[0m eta \u001b[36m0:00:00\u001b[0m\n",
            "\u001b[2K   \u001b[90m━━━━━━━━━━━━━━━━━━━━━━━━━━━━━━━━━━━━━━━━\u001b[0m \u001b[32m227.1/227.1 kB\u001b[0m \u001b[31m9.6 MB/s\u001b[0m eta \u001b[36m0:00:00\u001b[0m\n",
            "\u001b[2K   \u001b[90m━━━━━━━━━━━━━━━━━━━━━━━━━━━━━━━━━━━━━━━━\u001b[0m \u001b[32m66.6/66.6 kB\u001b[0m \u001b[31m4.1 MB/s\u001b[0m eta \u001b[36m0:00:00\u001b[0m\n",
            "\u001b[2K   \u001b[90m━━━━━━━━━━━━━━━━━━━━━━━━━━━━━━━━━━━━━━━━\u001b[0m \u001b[32m341.6/341.6 kB\u001b[0m \u001b[31m14.2 MB/s\u001b[0m eta \u001b[36m0:00:00\u001b[0m\n",
            "\u001b[2K   \u001b[90m━━━━━━━━━━━━━━━━━━━━━━━━━━━━━━━━━━━━━━━━\u001b[0m \u001b[32m61.6/61.6 kB\u001b[0m \u001b[31m4.1 MB/s\u001b[0m eta \u001b[36m0:00:00\u001b[0m\n",
            "\u001b[2K   \u001b[90m━━━━━━━━━━━━━━━━━━━━━━━━━━━━━━━━━━━━━━━━\u001b[0m \u001b[32m1.8/1.8 MB\u001b[0m \u001b[31m47.5 MB/s\u001b[0m eta \u001b[36m0:00:00\u001b[0m\n",
            "\u001b[2K   \u001b[90m━━━━━━━━━━━━━━━━━━━━━━━━━━━━━━━━━━━━━━━━\u001b[0m \u001b[32m256.2/256.2 kB\u001b[0m \u001b[31m15.1 MB/s\u001b[0m eta \u001b[36m0:00:00\u001b[0m\n",
            "\u001b[2K   \u001b[90m━━━━━━━━━━━━━━━━━━━━━━━━━━━━━━━━━━━━━━━━\u001b[0m \u001b[32m207.0/207.0 kB\u001b[0m \u001b[31m12.3 MB/s\u001b[0m eta \u001b[36m0:00:00\u001b[0m\n",
            "\u001b[2K   \u001b[90m━━━━━━━━━━━━━━━━━━━━━━━━━━━━━━━━━━━━━━━━\u001b[0m \u001b[32m241.0/241.0 kB\u001b[0m \u001b[31m14.2 MB/s\u001b[0m eta \u001b[36m0:00:00\u001b[0m\n",
            "\u001b[2K   \u001b[90m━━━━━━━━━━━━━━━━━━━━━━━━━━━━━━━━━━━━━━━━\u001b[0m \u001b[32m517.9/517.9 kB\u001b[0m \u001b[31m24.2 MB/s\u001b[0m eta \u001b[36m0:00:00\u001b[0m\n",
            "\u001b[2K   \u001b[90m━━━━━━━━━━━━━━━━━━━━━━━━━━━━━━━━━━━━━━━━\u001b[0m \u001b[32m295.7/295.7 kB\u001b[0m \u001b[31m18.1 MB/s\u001b[0m eta \u001b[36m0:00:00\u001b[0m\n",
            "\u001b[2K   \u001b[90m━━━━━━━━━━━━━━━━━━━━━━━━━━━━━━━━━━━━━━━━\u001b[0m \u001b[32m336.3/336.3 kB\u001b[0m \u001b[31m19.2 MB/s\u001b[0m eta \u001b[36m0:00:00\u001b[0m\n",
            "\u001b[2K   \u001b[90m━━━━━━━━━━━━━━━━━━━━━━━━━━━━━━━━━━━━━━━━\u001b[0m \u001b[32m155.0/155.0 kB\u001b[0m \u001b[31m9.7 MB/s\u001b[0m eta \u001b[36m0:00:00\u001b[0m\n",
            "\u001b[2K   \u001b[90m━━━━━━━━━━━━━━━━━━━━━━━━━━━━━━━━━━━━━━━━\u001b[0m \u001b[32m278.6/278.6 kB\u001b[0m \u001b[31m17.4 MB/s\u001b[0m eta \u001b[36m0:00:00\u001b[0m\n",
            "\u001b[2K   \u001b[90m━━━━━━━━━━━━━━━━━━━━━━━━━━━━━━━━━━━━━━━━\u001b[0m \u001b[32m80.9/80.9 kB\u001b[0m \u001b[31m5.4 MB/s\u001b[0m eta \u001b[36m0:00:00\u001b[0m\n",
            "\u001b[2K   \u001b[90m━━━━━━━━━━━━━━━━━━━━━━━━━━━━━━━━━━━━━━━━\u001b[0m \u001b[32m147.8/147.8 kB\u001b[0m \u001b[31m10.4 MB/s\u001b[0m eta \u001b[36m0:00:00\u001b[0m\n",
            "\u001b[2K   \u001b[90m━━━━━━━━━━━━━━━━━━━━━━━━━━━━━━━━━━━━━━━━\u001b[0m \u001b[32m62.9/62.9 kB\u001b[0m \u001b[31m4.2 MB/s\u001b[0m eta \u001b[36m0:00:00\u001b[0m\n",
            "\u001b[2K   \u001b[90m━━━━━━━━━━━━━━━━━━━━━━━━━━━━━━━━━━━━━━━━\u001b[0m \u001b[32m160.3/160.3 kB\u001b[0m \u001b[31m10.9 MB/s\u001b[0m eta \u001b[36m0:00:00\u001b[0m\n",
            "\u001b[2K   \u001b[90m━━━━━━━━━━━━━━━━━━━━━━━━━━━━━━━━━━━━━━━━\u001b[0m \u001b[32m2.3/2.3 MB\u001b[0m \u001b[31m69.0 MB/s\u001b[0m eta \u001b[36m0:00:00\u001b[0m\n",
            "\u001b[2K   \u001b[90m━━━━━━━━━━━━━━━━━━━━━━━━━━━━━━━━━━━━━━━━\u001b[0m \u001b[32m89.3/89.3 kB\u001b[0m \u001b[31m5.9 MB/s\u001b[0m eta \u001b[36m0:00:00\u001b[0m\n",
            "\u001b[2K   \u001b[90m━━━━━━━━━━━━━━━━━━━━━━━━━━━━━━━━━━━━━━━━\u001b[0m \u001b[32m131.8/131.8 kB\u001b[0m \u001b[31m8.3 MB/s\u001b[0m eta \u001b[36m0:00:00\u001b[0m\n",
            "\u001b[2K   \u001b[90m━━━━━━━━━━━━━━━━━━━━━━━━━━━━━━━━━━━━━━━━\u001b[0m \u001b[32m46.8/46.8 kB\u001b[0m \u001b[31m3.0 MB/s\u001b[0m eta \u001b[36m0:00:00\u001b[0m\n",
            "\u001b[2K   \u001b[90m━━━━━━━━━━━━━━━━━━━━━━━━━━━━━━━━━━━━━━━━\u001b[0m \u001b[32m73.9/73.9 kB\u001b[0m \u001b[31m4.9 MB/s\u001b[0m eta \u001b[36m0:00:00\u001b[0m\n",
            "\u001b[2K   \u001b[90m━━━━━━━━━━━━━━━━━━━━━━━━━━━━━━━━━━━━━━━━\u001b[0m \u001b[32m132.9/132.9 kB\u001b[0m \u001b[31m9.0 MB/s\u001b[0m eta \u001b[36m0:00:00\u001b[0m\n",
            "\u001b[2K   \u001b[90m━━━━━━━━━━━━━━━━━━━━━━━━━━━━━━━━━━━━━━━━\u001b[0m \u001b[32m856.7/856.7 kB\u001b[0m \u001b[31m40.9 MB/s\u001b[0m eta \u001b[36m0:00:00\u001b[0m\n",
            "\u001b[2K   \u001b[90m━━━━━━━━━━━━━━━━━━━━━━━━━━━━━━━━━━━━━━━━\u001b[0m \u001b[32m397.2/397.2 kB\u001b[0m \u001b[31m23.1 MB/s\u001b[0m eta \u001b[36m0:00:00\u001b[0m\n",
            "\u001b[2K   \u001b[90m━━━━━━━━━━━━━━━━━━━━━━━━━━━━━━━━━━━━━━━━\u001b[0m \u001b[32m1.1/1.1 MB\u001b[0m \u001b[31m46.1 MB/s\u001b[0m eta \u001b[36m0:00:00\u001b[0m\n",
            "\u001b[2K   \u001b[90m━━━━━━━━━━━━━━━━━━━━━━━━━━━━━━━━━━━━━━━━\u001b[0m \u001b[32m49.5/49.5 kB\u001b[0m \u001b[31m3.2 MB/s\u001b[0m eta \u001b[36m0:00:00\u001b[0m\n",
            "\u001b[2K   \u001b[90m━━━━━━━━━━━━━━━━━━━━━━━━━━━━━━━━━━━━━━━━\u001b[0m \u001b[32m53.6/53.6 kB\u001b[0m \u001b[31m3.1 MB/s\u001b[0m eta \u001b[36m0:00:00\u001b[0m\n",
            "\u001b[2K   \u001b[90m━━━━━━━━━━━━━━━━━━━━━━━━━━━━━━━━━━━━━━━━\u001b[0m \u001b[32m152.8/152.8 kB\u001b[0m \u001b[31m9.7 MB/s\u001b[0m eta \u001b[36m0:00:00\u001b[0m\n",
            "\u001b[?25h  Building wheel for python-chi (setup.py) ... \u001b[?25l\u001b[?25hdone\n",
            "  Building wheel for python-blazarclient (setup.py) ... \u001b[?25l\u001b[?25hdone\n"
          ]
        }
      ],
      "source": [
        "!pip uninstall -q -y moviepy\n",
        "!pip install -q jedi\n",
        "!pip install -q git+https://github.com/KTH-EXPECA/python-chi"
      ]
    },
    {
      "cell_type": "markdown",
      "metadata": {
        "id": "VkDR3RsFpKSv"
      },
      "source": [
        "Import packages"
      ]
    },
    {
      "cell_type": "code",
      "execution_count": null,
      "metadata": {
        "id": "gWqW34Pc7YJp"
      },
      "outputs": [],
      "source": [
        "import json\n",
        "from loguru import logger\n",
        "import chi.network, chi.container\n",
        "from chi.expeca import reserve, list_reservations, unreserve_byid, get_container_status, wait_until_container_removed, show_reservation_byname, get_available_publicips, get_segment_ids, get_worker_interfaces"
      ]
    },
    {
      "cell_type": "markdown",
      "metadata": {
        "id": "Rd4EsDjdqRFU"
      },
      "source": [
        "In the next cell, we reserve the required equipment and resources to form an end to end experiment setup. We reserve EP5G network."
      ]
    },
    {
      "cell_type": "code",
      "execution_count": null,
      "metadata": {
        "colab": {
          "base_uri": "https://localhost:8080/"
        },
        "id": "1pauMnGZ8KSP",
        "outputId": "5bc9e657-0f2e-4056-bf14-d67f27a42e68"
      },
      "outputs": [
        {
          "output_type": "stream",
          "name": "stderr",
          "text": [
            "\u001b[32m2025-01-30 15:26:48.216\u001b[0m | \u001b[1mINFO    \u001b[0m | \u001b[36mchi.expeca\u001b[0m:\u001b[36mreserve\u001b[0m:\u001b[36m243\u001b[0m - \u001b[1mreserving ep5g\u001b[0m\n",
            "\u001b[32m2025-01-30 15:26:50.818\u001b[0m | \u001b[1mINFO    \u001b[0m | \u001b[36mchi.expeca\u001b[0m:\u001b[36mwait_until_lease_status\u001b[0m:\u001b[36m138\u001b[0m - \u001b[1mwaiting 120 seconds for ep5g-lease with id 148d3f5e-39cf-4d2a-902c-d5a71f682fad to become \"ACTIVE\"\u001b[0m\n",
            "\u001b[32m2025-01-30 15:26:55.978\u001b[0m | \u001b[1mINFO    \u001b[0m | \u001b[36mchi.expeca\u001b[0m:\u001b[36mwait_until_lease_status\u001b[0m:\u001b[36m145\u001b[0m - \u001b[1mlease ep5g-lease with id 148d3f5e-39cf-4d2a-902c-d5a71f682fad is PENDING.\u001b[0m\n",
            "\u001b[32m2025-01-30 15:27:01.130\u001b[0m | \u001b[1mINFO    \u001b[0m | \u001b[36mchi.expeca\u001b[0m:\u001b[36mwait_until_lease_status\u001b[0m:\u001b[36m145\u001b[0m - \u001b[1mlease ep5g-lease with id 148d3f5e-39cf-4d2a-902c-d5a71f682fad is PENDING.\u001b[0m\n",
            "\u001b[32m2025-01-30 15:27:06.286\u001b[0m | \u001b[1mINFO    \u001b[0m | \u001b[36mchi.expeca\u001b[0m:\u001b[36mwait_until_lease_status\u001b[0m:\u001b[36m145\u001b[0m - \u001b[1mlease ep5g-lease with id 148d3f5e-39cf-4d2a-902c-d5a71f682fad is STARTING.\u001b[0m\n",
            "\u001b[32m2025-01-30 15:27:11.446\u001b[0m | \u001b[1mINFO    \u001b[0m | \u001b[36mchi.expeca\u001b[0m:\u001b[36mwait_until_lease_status\u001b[0m:\u001b[36m145\u001b[0m - \u001b[1mlease ep5g-lease with id 148d3f5e-39cf-4d2a-902c-d5a71f682fad is STARTING.\u001b[0m\n",
            "\u001b[32m2025-01-30 15:27:16.593\u001b[0m | \u001b[1mINFO    \u001b[0m | \u001b[36mchi.expeca\u001b[0m:\u001b[36mwait_until_lease_status\u001b[0m:\u001b[36m145\u001b[0m - \u001b[1mlease ep5g-lease with id 148d3f5e-39cf-4d2a-902c-d5a71f682fad is ERROR.\u001b[0m\n",
            "\u001b[32m2025-01-30 15:27:16.595\u001b[0m | \u001b[33m\u001b[1mWARNING \u001b[0m | \u001b[36mchi.expeca\u001b[0m:\u001b[36mtry_to_create_lease\u001b[0m:\u001b[36m290\u001b[0m - \u001b[33m\u001b[1mep5g reservation failed. msg: unknown\u001b[0m\n",
            "\u001b[32m2025-01-30 15:27:16.597\u001b[0m | \u001b[1mINFO    \u001b[0m | \u001b[36mchi.expeca\u001b[0m:\u001b[36mremove_lease\u001b[0m:\u001b[36m160\u001b[0m - \u001b[1mRemoving ep5g-lease reservation with id 148d3f5e-39cf-4d2a-902c-d5a71f682fad.\u001b[0m\n",
            "\u001b[32m2025-01-30 15:27:17.838\u001b[0m | \u001b[1mINFO    \u001b[0m | \u001b[36mchi.expeca\u001b[0m:\u001b[36mwait_until_lease_status\u001b[0m:\u001b[36m138\u001b[0m - \u001b[1mwaiting 120 seconds for ep5g-lease with id 148d3f5e-39cf-4d2a-902c-d5a71f682fad to become \"None\"\u001b[0m\n",
            "\u001b[32m2025-01-30 15:27:22.994\u001b[0m | \u001b[1mINFO    \u001b[0m | \u001b[36mchi.expeca\u001b[0m:\u001b[36mwait_until_lease_status\u001b[0m:\u001b[36m145\u001b[0m - \u001b[1mlease ep5g-lease with id 148d3f5e-39cf-4d2a-902c-d5a71f682fad is None.\u001b[0m\n",
            "\u001b[32m2025-01-30 15:27:22.995\u001b[0m | \u001b[32m\u001b[1mSUCCESS \u001b[0m | \u001b[36mchi.expeca\u001b[0m:\u001b[36mtry_to_remove\u001b[0m:\u001b[36m171\u001b[0m - \u001b[32m\u001b[1mdone\u001b[0m\n",
            "\u001b[32m2025-01-30 15:27:22.997\u001b[0m | \u001b[1mINFO    \u001b[0m | \u001b[36mchi.expeca\u001b[0m:\u001b[36mreserve\u001b[0m:\u001b[36m304\u001b[0m - \u001b[1mretrying to reserve ep5g. 2 retry(s) left.\u001b[0m\n",
            "\u001b[32m2025-01-30 15:27:22.998\u001b[0m | \u001b[1mINFO    \u001b[0m | \u001b[36mchi.expeca\u001b[0m:\u001b[36mreserve\u001b[0m:\u001b[36m305\u001b[0m - \u001b[1mwaiting 5 seconds for ep5g to retry reserving it.\u001b[0m\n",
            "\u001b[32m2025-01-30 15:27:30.392\u001b[0m | \u001b[1mINFO    \u001b[0m | \u001b[36mchi.expeca\u001b[0m:\u001b[36mwait_until_lease_status\u001b[0m:\u001b[36m138\u001b[0m - \u001b[1mwaiting 120 seconds for ep5g-lease with id 2bb82db1-bd83-4285-b6a6-bedceef24c35 to become \"ACTIVE\"\u001b[0m\n",
            "\u001b[32m2025-01-30 15:27:35.553\u001b[0m | \u001b[1mINFO    \u001b[0m | \u001b[36mchi.expeca\u001b[0m:\u001b[36mwait_until_lease_status\u001b[0m:\u001b[36m145\u001b[0m - \u001b[1mlease ep5g-lease with id 2bb82db1-bd83-4285-b6a6-bedceef24c35 is STARTING.\u001b[0m\n",
            "\u001b[32m2025-01-30 15:27:40.704\u001b[0m | \u001b[1mINFO    \u001b[0m | \u001b[36mchi.expeca\u001b[0m:\u001b[36mwait_until_lease_status\u001b[0m:\u001b[36m145\u001b[0m - \u001b[1mlease ep5g-lease with id 2bb82db1-bd83-4285-b6a6-bedceef24c35 is STARTING.\u001b[0m\n",
            "\u001b[32m2025-01-30 15:27:45.866\u001b[0m | \u001b[1mINFO    \u001b[0m | \u001b[36mchi.expeca\u001b[0m:\u001b[36mwait_until_lease_status\u001b[0m:\u001b[36m145\u001b[0m - \u001b[1mlease ep5g-lease with id 2bb82db1-bd83-4285-b6a6-bedceef24c35 is STARTING.\u001b[0m\n",
            "\u001b[32m2025-01-30 15:27:51.005\u001b[0m | \u001b[1mINFO    \u001b[0m | \u001b[36mchi.expeca\u001b[0m:\u001b[36mwait_until_lease_status\u001b[0m:\u001b[36m145\u001b[0m - \u001b[1mlease ep5g-lease with id 2bb82db1-bd83-4285-b6a6-bedceef24c35 is STARTING.\u001b[0m\n",
            "\u001b[32m2025-01-30 15:27:56.166\u001b[0m | \u001b[1mINFO    \u001b[0m | \u001b[36mchi.expeca\u001b[0m:\u001b[36mwait_until_lease_status\u001b[0m:\u001b[36m145\u001b[0m - \u001b[1mlease ep5g-lease with id 2bb82db1-bd83-4285-b6a6-bedceef24c35 is ACTIVE.\u001b[0m\n",
            "\u001b[32m2025-01-30 15:27:56.168\u001b[0m | \u001b[32m\u001b[1mSUCCESS \u001b[0m | \u001b[36mchi.expeca\u001b[0m:\u001b[36mtry_to_create_lease\u001b[0m:\u001b[36m285\u001b[0m - \u001b[32m\u001b[1mdone\u001b[0m\n"
          ]
        },
        {
          "output_type": "stream",
          "name": "stdout",
          "text": [
            "[\n",
            "    {\n",
            "        \"name\": \"ep5g-lease\",\n",
            "        \"id\": \"2bb82db1-bd83-4285-b6a6-bedceef24c35\",\n",
            "        \"reservation_id\": \"e79859ae-31fd-4b3e-b647-542e2f0ef879\",\n",
            "        \"status\": \"ACTIVE\",\n",
            "        \"end_date\": \"2025-02-06T15:26:00.000000\"\n",
            "    }\n",
            "]\n"
          ]
        }
      ],
      "source": [
        "# ep5g reservation\n",
        "ep5g_lease = show_reservation_byname(\"ep5g-lease\")\n",
        "segment_ids = get_segment_ids('ep5g')\n",
        "if not ep5g_lease:\n",
        "    ep5g_lease = reserve(\n",
        "        { \"type\":\"network\", \"name\": \"ep5g\", \"net_name\": \"ep5g-vip\", \"segment_id\": segment_ids['rj45'], \"duration\": { \"days\":7, \"hours\":0 } }\n",
        "    )\n",
        "\n",
        "\n",
        "leaseslist = list_reservations(brief=True)\n",
        "print(json.dumps(leaseslist,indent=4))"
      ]
    },
    {
      "cell_type": "markdown",
      "metadata": {
        "id": "pw1BdmaW5tGa"
      },
      "source": [
        "In the following section we setup the networking equipment for ep5g, edge-net, Telenor Edge, and Internet (refer to [here](https://kth-expeca.gitbook.io/testbedconfig/enroll/enroll-network-segments/ep5g) for more info)."
      ]
    },
    {
      "cell_type": "code",
      "execution_count": null,
      "metadata": {
        "colab": {
          "base_uri": "https://localhost:8080/"
        },
        "id": "OWxQ0wt65sGV",
        "outputId": "3eb34a32-6dd2-4b6b-ac5b-3e3cb119d903"
      },
      "outputs": [
        {
          "output_type": "stream",
          "name": "stderr",
          "text": [
            "\u001b[32m2025-01-30 15:28:55.883\u001b[0m | \u001b[32m\u001b[1mSUCCESS \u001b[0m | \u001b[36m__main__\u001b[0m:\u001b[36m<cell line: 0>\u001b[0m:\u001b[36m4\u001b[0m - \u001b[32m\u001b[1medge-net is created.\u001b[0m\n",
            "\u001b[32m2025-01-30 15:28:58.865\u001b[0m | \u001b[32m\u001b[1mSUCCESS \u001b[0m | \u001b[36m__main__\u001b[0m:\u001b[36m<cell line: 0>\u001b[0m:\u001b[36m8\u001b[0m - \u001b[32m\u001b[1mep5g-vip-router router is created.\u001b[0m\n",
            "\u001b[32m2025-01-30 15:28:58.867\u001b[0m | \u001b[1mINFO    \u001b[0m | \u001b[36m__main__\u001b[0m:\u001b[36m<cell line: 0>\u001b[0m:\u001b[36m9\u001b[0m - \u001b[1m{\n",
            "    \"id\": \"fe89d065-2ff4-44f7-bea1-f4c0f2d1e478\",\n",
            "    \"name\": \"ep5g-vip-router\",\n",
            "    \"tenant_id\": \"c47f3ed65941413fbc6087028aff5ee2\",\n",
            "    \"admin_state_up\": true,\n",
            "    \"status\": \"ACTIVE\",\n",
            "    \"external_gateway_info\": {\n",
            "        \"network_id\": \"717b5f2b-069e-4868-a24d-91a4ae3ad002\",\n",
            "        \"external_fixed_ips\": [\n",
            "            {\n",
            "                \"subnet_id\": \"53d03ffd-0d49-4f9a-88a3-a30d69fe4827\",\n",
            "                \"ip_address\": \"130.237.11.109\"\n",
            "            }\n",
            "        ],\n",
            "        \"enable_snat\": true\n",
            "    },\n",
            "    \"description\": \"\",\n",
            "    \"availability_zones\": [],\n",
            "    \"availability_zone_hints\": [],\n",
            "    \"routes\": [],\n",
            "    \"flavor_id\": null,\n",
            "    \"tags\": [],\n",
            "    \"created_at\": \"2025-01-30T15:28:56Z\",\n",
            "    \"updated_at\": \"2025-01-30T15:28:57Z\",\n",
            "    \"revision_number\": 3,\n",
            "    \"project_id\": \"c47f3ed65941413fbc6087028aff5ee2\"\n",
            "}\u001b[0m\n",
            "\u001b[32m2025-01-30 15:29:01.833\u001b[0m | \u001b[32m\u001b[1mSUCCESS \u001b[0m | \u001b[36m__main__\u001b[0m:\u001b[36m<cell line: 0>\u001b[0m:\u001b[36m14\u001b[0m - \u001b[32m\u001b[1mAn interface on ep5g-vip-net is added to the router\u001b[0m\n",
            "\u001b[32m2025-01-30 15:29:05.524\u001b[0m | \u001b[32m\u001b[1mSUCCESS \u001b[0m | \u001b[36m__main__\u001b[0m:\u001b[36m<cell line: 0>\u001b[0m:\u001b[36m19\u001b[0m - \u001b[32m\u001b[1mAn interface on edge-net is added to the router\u001b[0m\n",
            "\u001b[32m2025-01-30 15:29:06.688\u001b[0m | \u001b[32m\u001b[1mSUCCESS \u001b[0m | \u001b[36m__main__\u001b[0m:\u001b[36m<cell line: 0>\u001b[0m:\u001b[36m23\u001b[0m - \u001b[32m\u001b[1mthe ep5g route added to the router\u001b[0m\n"
          ]
        }
      ],
      "source": [
        "# create edge-net\n",
        "edgenet = chi.network.create_network(\"edge-net\")\n",
        "chi.network.create_subnet(\"edge-net-subnet\",edgenet[\"id\"],\"10.70.70.0/24\",gateway_ip=None,enable_dhcp=False)\n",
        "logger.success(\"edge-net is created.\")\n",
        "\n",
        "# create ep5g-vip-router\n",
        "router = chi.network.create_router(\"ep5g-vip-router\", \"public\")\n",
        "logger.success(\"ep5g-vip-router router is created.\")\n",
        "logger.info(f\"{json.dumps(router,indent=4)}\")\n",
        "\n",
        "# connect ep5g-vip-net to ep5g-vip-router\n",
        "ep5gnet = chi.network.get_network(\"ep5g-vip-net\")\n",
        "portadd = chi.network.add_subnet_to_router(router[\"id\"],ep5gnet[\"subnets\"][0])\n",
        "logger.success(\"An interface on ep5g-vip-net is added to the router\")\n",
        "\n",
        "# connect edge-net to ep5g-vip-router\n",
        "edgenet = chi.network.get_network(\"edge-net\")\n",
        "portadd = chi.network.add_subnet_to_router(router[\"id\"],edgenet[\"subnets\"][0])\n",
        "logger.success(\"An interface on edge-net is added to the router\")\n",
        "\n",
        "# add ep5g route to ep5g-vip-router\n",
        "routeadd = chi.network.add_route_to_router(router[\"id\"],\"172.16.0.0/16\",\"10.30.111.10\")\n",
        "logger.success(\"the ep5g route added to the router\")"
      ]
    },
    {
      "cell_type": "code",
      "source": [
        "# worker reservation\n",
        "worker_name = \"worker-06\"\n",
        "worker_lease = show_reservation_byname(worker_name + \"-lease\")\n",
        "if not worker_lease:\n",
        "    worker_lease = reserve(\n",
        "        { \"type\":\"device\", \"name\":worker_name, \"duration\": { \"days\":7, \"hours\":0 } }\n",
        "    )\n",
        "worker_reservation_id = worker_lease[\"reservations\"][0][\"id\"]\n",
        "\n",
        "# worker reservation\n",
        "worker_name = \"worker-07\"\n",
        "worker_lease = show_reservation_byname(worker_name + \"-lease\")\n",
        "if not worker_lease:\n",
        "    worker_lease = reserve(\n",
        "        { \"type\":\"device\", \"name\":worker_name, \"duration\": { \"days\":7, \"hours\":0 } }\n",
        "    )\n",
        "worker_reservation_id = worker_lease[\"reservations\"][0][\"id\"]\n",
        "\n",
        "# worker reservation\n",
        "worker_name = \"worker-08\"\n",
        "worker_lease = show_reservation_byname(worker_name + \"-lease\")\n",
        "if not worker_lease:\n",
        "    worker_lease = reserve(\n",
        "        { \"type\":\"device\", \"name\":worker_name, \"duration\": { \"days\":7, \"hours\":0 } }\n",
        "    )\n",
        "worker_reservation_id = worker_lease[\"reservations\"][0][\"id\"]\n",
        "\n",
        "# worker reservation\n",
        "worker_name = \"worker-09\"\n",
        "worker_lease = show_reservation_byname(worker_name + \"-lease\")\n",
        "if not worker_lease:\n",
        "    worker_lease = reserve(\n",
        "        { \"type\":\"device\", \"name\":worker_name, \"duration\": { \"days\":7, \"hours\":0 } }\n",
        "    )\n",
        "worker_reservation_id = worker_lease[\"reservations\"][0][\"id\"]"
      ],
      "metadata": {
        "colab": {
          "base_uri": "https://localhost:8080/"
        },
        "id": "5lmFW_eU1OoF",
        "outputId": "cfe99641-26cc-4077-fa77-6e4309c19b9a"
      },
      "execution_count": null,
      "outputs": [
        {
          "output_type": "stream",
          "name": "stderr",
          "text": [
            "\u001b[32m2025-01-30 15:30:43.780\u001b[0m | \u001b[1mINFO    \u001b[0m | \u001b[36mchi.expeca\u001b[0m:\u001b[36mreserve\u001b[0m:\u001b[36m243\u001b[0m - \u001b[1mreserving worker-06\u001b[0m\n",
            "\u001b[32m2025-01-30 15:30:46.067\u001b[0m | \u001b[1mINFO    \u001b[0m | \u001b[36mchi.expeca\u001b[0m:\u001b[36mwait_until_lease_status\u001b[0m:\u001b[36m138\u001b[0m - \u001b[1mwaiting 120 seconds for worker-06-lease with id acc133c3-25e0-43ca-aeba-82787520cbb5 to become \"ACTIVE\"\u001b[0m\n",
            "\u001b[32m2025-01-30 15:30:51.209\u001b[0m | \u001b[1mINFO    \u001b[0m | \u001b[36mchi.expeca\u001b[0m:\u001b[36mwait_until_lease_status\u001b[0m:\u001b[36m145\u001b[0m - \u001b[1mlease worker-06-lease with id acc133c3-25e0-43ca-aeba-82787520cbb5 is PENDING.\u001b[0m\n",
            "\u001b[32m2025-01-30 15:30:56.373\u001b[0m | \u001b[1mINFO    \u001b[0m | \u001b[36mchi.expeca\u001b[0m:\u001b[36mwait_until_lease_status\u001b[0m:\u001b[36m145\u001b[0m - \u001b[1mlease worker-06-lease with id acc133c3-25e0-43ca-aeba-82787520cbb5 is PENDING.\u001b[0m\n",
            "\u001b[32m2025-01-30 15:31:01.532\u001b[0m | \u001b[1mINFO    \u001b[0m | \u001b[36mchi.expeca\u001b[0m:\u001b[36mwait_until_lease_status\u001b[0m:\u001b[36m145\u001b[0m - \u001b[1mlease worker-06-lease with id acc133c3-25e0-43ca-aeba-82787520cbb5 is PENDING.\u001b[0m\n",
            "\u001b[32m2025-01-30 15:31:06.686\u001b[0m | \u001b[1mINFO    \u001b[0m | \u001b[36mchi.expeca\u001b[0m:\u001b[36mwait_until_lease_status\u001b[0m:\u001b[36m145\u001b[0m - \u001b[1mlease worker-06-lease with id acc133c3-25e0-43ca-aeba-82787520cbb5 is ACTIVE.\u001b[0m\n",
            "\u001b[32m2025-01-30 15:31:06.688\u001b[0m | \u001b[32m\u001b[1mSUCCESS \u001b[0m | \u001b[36mchi.expeca\u001b[0m:\u001b[36mtry_to_create_lease\u001b[0m:\u001b[36m285\u001b[0m - \u001b[32m\u001b[1mdone\u001b[0m\n",
            "\u001b[32m2025-01-30 15:31:06.856\u001b[0m | \u001b[1mINFO    \u001b[0m | \u001b[36mchi.expeca\u001b[0m:\u001b[36mreserve\u001b[0m:\u001b[36m243\u001b[0m - \u001b[1mreserving worker-07\u001b[0m\n",
            "\u001b[32m2025-01-30 15:31:09.153\u001b[0m | \u001b[1mINFO    \u001b[0m | \u001b[36mchi.expeca\u001b[0m:\u001b[36mwait_until_lease_status\u001b[0m:\u001b[36m138\u001b[0m - \u001b[1mwaiting 120 seconds for worker-07-lease with id 24c1e518-3b34-447e-aa66-565a2e7d2f5a to become \"ACTIVE\"\u001b[0m\n",
            "\u001b[32m2025-01-30 15:31:14.298\u001b[0m | \u001b[1mINFO    \u001b[0m | \u001b[36mchi.expeca\u001b[0m:\u001b[36mwait_until_lease_status\u001b[0m:\u001b[36m145\u001b[0m - \u001b[1mlease worker-07-lease with id 24c1e518-3b34-447e-aa66-565a2e7d2f5a is PENDING.\u001b[0m\n",
            "\u001b[32m2025-01-30 15:31:19.460\u001b[0m | \u001b[1mINFO    \u001b[0m | \u001b[36mchi.expeca\u001b[0m:\u001b[36mwait_until_lease_status\u001b[0m:\u001b[36m145\u001b[0m - \u001b[1mlease worker-07-lease with id 24c1e518-3b34-447e-aa66-565a2e7d2f5a is PENDING.\u001b[0m\n",
            "\u001b[32m2025-01-30 15:31:24.618\u001b[0m | \u001b[1mINFO    \u001b[0m | \u001b[36mchi.expeca\u001b[0m:\u001b[36mwait_until_lease_status\u001b[0m:\u001b[36m145\u001b[0m - \u001b[1mlease worker-07-lease with id 24c1e518-3b34-447e-aa66-565a2e7d2f5a is PENDING.\u001b[0m\n",
            "\u001b[32m2025-01-30 15:31:29.772\u001b[0m | \u001b[1mINFO    \u001b[0m | \u001b[36mchi.expeca\u001b[0m:\u001b[36mwait_until_lease_status\u001b[0m:\u001b[36m145\u001b[0m - \u001b[1mlease worker-07-lease with id 24c1e518-3b34-447e-aa66-565a2e7d2f5a is PENDING.\u001b[0m\n",
            "\u001b[32m2025-01-30 15:31:34.936\u001b[0m | \u001b[1mINFO    \u001b[0m | \u001b[36mchi.expeca\u001b[0m:\u001b[36mwait_until_lease_status\u001b[0m:\u001b[36m145\u001b[0m - \u001b[1mlease worker-07-lease with id 24c1e518-3b34-447e-aa66-565a2e7d2f5a is PENDING.\u001b[0m\n",
            "\u001b[32m2025-01-30 15:31:40.292\u001b[0m | \u001b[1mINFO    \u001b[0m | \u001b[36mchi.expeca\u001b[0m:\u001b[36mwait_until_lease_status\u001b[0m:\u001b[36m145\u001b[0m - \u001b[1mlease worker-07-lease with id 24c1e518-3b34-447e-aa66-565a2e7d2f5a is PENDING.\u001b[0m\n",
            "\u001b[32m2025-01-30 15:31:45.447\u001b[0m | \u001b[1mINFO    \u001b[0m | \u001b[36mchi.expeca\u001b[0m:\u001b[36mwait_until_lease_status\u001b[0m:\u001b[36m145\u001b[0m - \u001b[1mlease worker-07-lease with id 24c1e518-3b34-447e-aa66-565a2e7d2f5a is PENDING.\u001b[0m\n",
            "\u001b[32m2025-01-30 15:31:50.619\u001b[0m | \u001b[1mINFO    \u001b[0m | \u001b[36mchi.expeca\u001b[0m:\u001b[36mwait_until_lease_status\u001b[0m:\u001b[36m145\u001b[0m - \u001b[1mlease worker-07-lease with id 24c1e518-3b34-447e-aa66-565a2e7d2f5a is PENDING.\u001b[0m\n",
            "\u001b[32m2025-01-30 15:31:55.777\u001b[0m | \u001b[1mINFO    \u001b[0m | \u001b[36mchi.expeca\u001b[0m:\u001b[36mwait_until_lease_status\u001b[0m:\u001b[36m145\u001b[0m - \u001b[1mlease worker-07-lease with id 24c1e518-3b34-447e-aa66-565a2e7d2f5a is PENDING.\u001b[0m\n",
            "\u001b[32m2025-01-30 15:32:00.934\u001b[0m | \u001b[1mINFO    \u001b[0m | \u001b[36mchi.expeca\u001b[0m:\u001b[36mwait_until_lease_status\u001b[0m:\u001b[36m145\u001b[0m - \u001b[1mlease worker-07-lease with id 24c1e518-3b34-447e-aa66-565a2e7d2f5a is PENDING.\u001b[0m\n",
            "\u001b[32m2025-01-30 15:32:06.104\u001b[0m | \u001b[1mINFO    \u001b[0m | \u001b[36mchi.expeca\u001b[0m:\u001b[36mwait_until_lease_status\u001b[0m:\u001b[36m145\u001b[0m - \u001b[1mlease worker-07-lease with id 24c1e518-3b34-447e-aa66-565a2e7d2f5a is ACTIVE.\u001b[0m\n",
            "\u001b[32m2025-01-30 15:32:06.105\u001b[0m | \u001b[32m\u001b[1mSUCCESS \u001b[0m | \u001b[36mchi.expeca\u001b[0m:\u001b[36mtry_to_create_lease\u001b[0m:\u001b[36m285\u001b[0m - \u001b[32m\u001b[1mdone\u001b[0m\n",
            "\u001b[32m2025-01-30 15:32:06.276\u001b[0m | \u001b[1mINFO    \u001b[0m | \u001b[36mchi.expeca\u001b[0m:\u001b[36mreserve\u001b[0m:\u001b[36m243\u001b[0m - \u001b[1mreserving worker-08\u001b[0m\n",
            "\u001b[32m2025-01-30 15:32:08.893\u001b[0m | \u001b[1mINFO    \u001b[0m | \u001b[36mchi.expeca\u001b[0m:\u001b[36mwait_until_lease_status\u001b[0m:\u001b[36m138\u001b[0m - \u001b[1mwaiting 120 seconds for worker-08-lease with id 98ad3e59-4048-4409-a7f6-7422b12b5f94 to become \"ACTIVE\"\u001b[0m\n",
            "\u001b[32m2025-01-30 15:32:14.059\u001b[0m | \u001b[1mINFO    \u001b[0m | \u001b[36mchi.expeca\u001b[0m:\u001b[36mwait_until_lease_status\u001b[0m:\u001b[36m145\u001b[0m - \u001b[1mlease worker-08-lease with id 98ad3e59-4048-4409-a7f6-7422b12b5f94 is PENDING.\u001b[0m\n",
            "\u001b[32m2025-01-30 15:32:19.221\u001b[0m | \u001b[1mINFO    \u001b[0m | \u001b[36mchi.expeca\u001b[0m:\u001b[36mwait_until_lease_status\u001b[0m:\u001b[36m145\u001b[0m - \u001b[1mlease worker-08-lease with id 98ad3e59-4048-4409-a7f6-7422b12b5f94 is PENDING.\u001b[0m\n",
            "\u001b[32m2025-01-30 15:32:24.384\u001b[0m | \u001b[1mINFO    \u001b[0m | \u001b[36mchi.expeca\u001b[0m:\u001b[36mwait_until_lease_status\u001b[0m:\u001b[36m145\u001b[0m - \u001b[1mlease worker-08-lease with id 98ad3e59-4048-4409-a7f6-7422b12b5f94 is PENDING.\u001b[0m\n",
            "\u001b[32m2025-01-30 15:32:29.548\u001b[0m | \u001b[1mINFO    \u001b[0m | \u001b[36mchi.expeca\u001b[0m:\u001b[36mwait_until_lease_status\u001b[0m:\u001b[36m145\u001b[0m - \u001b[1mlease worker-08-lease with id 98ad3e59-4048-4409-a7f6-7422b12b5f94 is PENDING.\u001b[0m\n",
            "\u001b[32m2025-01-30 15:32:34.729\u001b[0m | \u001b[1mINFO    \u001b[0m | \u001b[36mchi.expeca\u001b[0m:\u001b[36mwait_until_lease_status\u001b[0m:\u001b[36m145\u001b[0m - \u001b[1mlease worker-08-lease with id 98ad3e59-4048-4409-a7f6-7422b12b5f94 is PENDING.\u001b[0m\n",
            "\u001b[32m2025-01-30 15:32:39.871\u001b[0m | \u001b[1mINFO    \u001b[0m | \u001b[36mchi.expeca\u001b[0m:\u001b[36mwait_until_lease_status\u001b[0m:\u001b[36m145\u001b[0m - \u001b[1mlease worker-08-lease with id 98ad3e59-4048-4409-a7f6-7422b12b5f94 is PENDING.\u001b[0m\n",
            "\u001b[32m2025-01-30 15:32:45.015\u001b[0m | \u001b[1mINFO    \u001b[0m | \u001b[36mchi.expeca\u001b[0m:\u001b[36mwait_until_lease_status\u001b[0m:\u001b[36m145\u001b[0m - \u001b[1mlease worker-08-lease with id 98ad3e59-4048-4409-a7f6-7422b12b5f94 is PENDING.\u001b[0m\n",
            "\u001b[32m2025-01-30 15:32:50.179\u001b[0m | \u001b[1mINFO    \u001b[0m | \u001b[36mchi.expeca\u001b[0m:\u001b[36mwait_until_lease_status\u001b[0m:\u001b[36m145\u001b[0m - \u001b[1mlease worker-08-lease with id 98ad3e59-4048-4409-a7f6-7422b12b5f94 is PENDING.\u001b[0m\n",
            "\u001b[32m2025-01-30 15:32:55.341\u001b[0m | \u001b[1mINFO    \u001b[0m | \u001b[36mchi.expeca\u001b[0m:\u001b[36mwait_until_lease_status\u001b[0m:\u001b[36m145\u001b[0m - \u001b[1mlease worker-08-lease with id 98ad3e59-4048-4409-a7f6-7422b12b5f94 is PENDING.\u001b[0m\n",
            "\u001b[32m2025-01-30 15:33:00.518\u001b[0m | \u001b[1mINFO    \u001b[0m | \u001b[36mchi.expeca\u001b[0m:\u001b[36mwait_until_lease_status\u001b[0m:\u001b[36m145\u001b[0m - \u001b[1mlease worker-08-lease with id 98ad3e59-4048-4409-a7f6-7422b12b5f94 is PENDING.\u001b[0m\n",
            "\u001b[32m2025-01-30 15:33:05.682\u001b[0m | \u001b[1mINFO    \u001b[0m | \u001b[36mchi.expeca\u001b[0m:\u001b[36mwait_until_lease_status\u001b[0m:\u001b[36m145\u001b[0m - \u001b[1mlease worker-08-lease with id 98ad3e59-4048-4409-a7f6-7422b12b5f94 is ACTIVE.\u001b[0m\n",
            "\u001b[32m2025-01-30 15:33:05.684\u001b[0m | \u001b[32m\u001b[1mSUCCESS \u001b[0m | \u001b[36mchi.expeca\u001b[0m:\u001b[36mtry_to_create_lease\u001b[0m:\u001b[36m285\u001b[0m - \u001b[32m\u001b[1mdone\u001b[0m\n",
            "\u001b[32m2025-01-30 15:33:05.834\u001b[0m | \u001b[1mINFO    \u001b[0m | \u001b[36mchi.expeca\u001b[0m:\u001b[36mreserve\u001b[0m:\u001b[36m243\u001b[0m - \u001b[1mreserving worker-09\u001b[0m\n",
            "\u001b[32m2025-01-30 15:33:08.276\u001b[0m | \u001b[1mINFO    \u001b[0m | \u001b[36mchi.expeca\u001b[0m:\u001b[36mwait_until_lease_status\u001b[0m:\u001b[36m138\u001b[0m - \u001b[1mwaiting 120 seconds for worker-09-lease with id ab202042-74cc-4381-83d8-237f64902b6d to become \"ACTIVE\"\u001b[0m\n",
            "\u001b[32m2025-01-30 15:33:13.432\u001b[0m | \u001b[1mINFO    \u001b[0m | \u001b[36mchi.expeca\u001b[0m:\u001b[36mwait_until_lease_status\u001b[0m:\u001b[36m145\u001b[0m - \u001b[1mlease worker-09-lease with id ab202042-74cc-4381-83d8-237f64902b6d is PENDING.\u001b[0m\n",
            "\u001b[32m2025-01-30 15:33:18.601\u001b[0m | \u001b[1mINFO    \u001b[0m | \u001b[36mchi.expeca\u001b[0m:\u001b[36mwait_until_lease_status\u001b[0m:\u001b[36m145\u001b[0m - \u001b[1mlease worker-09-lease with id ab202042-74cc-4381-83d8-237f64902b6d is PENDING.\u001b[0m\n",
            "\u001b[32m2025-01-30 15:33:23.750\u001b[0m | \u001b[1mINFO    \u001b[0m | \u001b[36mchi.expeca\u001b[0m:\u001b[36mwait_until_lease_status\u001b[0m:\u001b[36m145\u001b[0m - \u001b[1mlease worker-09-lease with id ab202042-74cc-4381-83d8-237f64902b6d is PENDING.\u001b[0m\n",
            "\u001b[32m2025-01-30 15:33:28.915\u001b[0m | \u001b[1mINFO    \u001b[0m | \u001b[36mchi.expeca\u001b[0m:\u001b[36mwait_until_lease_status\u001b[0m:\u001b[36m145\u001b[0m - \u001b[1mlease worker-09-lease with id ab202042-74cc-4381-83d8-237f64902b6d is PENDING.\u001b[0m\n",
            "\u001b[32m2025-01-30 15:33:34.062\u001b[0m | \u001b[1mINFO    \u001b[0m | \u001b[36mchi.expeca\u001b[0m:\u001b[36mwait_until_lease_status\u001b[0m:\u001b[36m145\u001b[0m - \u001b[1mlease worker-09-lease with id ab202042-74cc-4381-83d8-237f64902b6d is PENDING.\u001b[0m\n",
            "\u001b[32m2025-01-30 15:33:39.225\u001b[0m | \u001b[1mINFO    \u001b[0m | \u001b[36mchi.expeca\u001b[0m:\u001b[36mwait_until_lease_status\u001b[0m:\u001b[36m145\u001b[0m - \u001b[1mlease worker-09-lease with id ab202042-74cc-4381-83d8-237f64902b6d is PENDING.\u001b[0m\n",
            "\u001b[32m2025-01-30 15:33:44.371\u001b[0m | \u001b[1mINFO    \u001b[0m | \u001b[36mchi.expeca\u001b[0m:\u001b[36mwait_until_lease_status\u001b[0m:\u001b[36m145\u001b[0m - \u001b[1mlease worker-09-lease with id ab202042-74cc-4381-83d8-237f64902b6d is PENDING.\u001b[0m\n",
            "\u001b[32m2025-01-30 15:33:49.537\u001b[0m | \u001b[1mINFO    \u001b[0m | \u001b[36mchi.expeca\u001b[0m:\u001b[36mwait_until_lease_status\u001b[0m:\u001b[36m145\u001b[0m - \u001b[1mlease worker-09-lease with id ab202042-74cc-4381-83d8-237f64902b6d is PENDING.\u001b[0m\n",
            "\u001b[32m2025-01-30 15:33:54.685\u001b[0m | \u001b[1mINFO    \u001b[0m | \u001b[36mchi.expeca\u001b[0m:\u001b[36mwait_until_lease_status\u001b[0m:\u001b[36m145\u001b[0m - \u001b[1mlease worker-09-lease with id ab202042-74cc-4381-83d8-237f64902b6d is PENDING.\u001b[0m\n",
            "\u001b[32m2025-01-30 15:33:59.847\u001b[0m | \u001b[1mINFO    \u001b[0m | \u001b[36mchi.expeca\u001b[0m:\u001b[36mwait_until_lease_status\u001b[0m:\u001b[36m145\u001b[0m - \u001b[1mlease worker-09-lease with id ab202042-74cc-4381-83d8-237f64902b6d is PENDING.\u001b[0m\n",
            "\u001b[32m2025-01-30 15:34:04.997\u001b[0m | \u001b[1mINFO    \u001b[0m | \u001b[36mchi.expeca\u001b[0m:\u001b[36mwait_until_lease_status\u001b[0m:\u001b[36m145\u001b[0m - \u001b[1mlease worker-09-lease with id ab202042-74cc-4381-83d8-237f64902b6d is ACTIVE.\u001b[0m\n",
            "\u001b[32m2025-01-30 15:34:04.999\u001b[0m | \u001b[32m\u001b[1mSUCCESS \u001b[0m | \u001b[36mchi.expeca\u001b[0m:\u001b[36mtry_to_create_lease\u001b[0m:\u001b[36m285\u001b[0m - \u001b[32m\u001b[1mdone\u001b[0m\n"
          ]
        }
      ]
    },
    {
      "cell_type": "code",
      "source": [
        "# advantech router reservation\n",
        "adv_name = \"adv-02\"\n",
        "segment_ids = get_segment_ids(adv_name)\n",
        "adv_lease = show_reservation_byname(adv_name + \"-lease\")\n",
        "if not adv_lease:\n",
        "    adv_lease = reserve(\n",
        "        { \"type\":\"network\", \"name\": adv_name, \"net_name\": adv_name, \"segment_id\": segment_ids['rj45'], \"duration\": { \"days\":7, \"hours\":0 } }\n",
        "    )\n",
        "\n",
        "# advantech router reservation\n",
        "adv_name = \"adv-03\"\n",
        "segment_ids = get_segment_ids(adv_name)\n",
        "adv_lease = show_reservation_byname(adv_name + \"-lease\")\n",
        "if not adv_lease:\n",
        "    adv_lease = reserve(\n",
        "        { \"type\":\"network\", \"name\": adv_name, \"net_name\": adv_name, \"segment_id\": segment_ids['rj45'], \"duration\": { \"days\":7, \"hours\":0 } }\n",
        "    )\n",
        "\n",
        "# advantech router reservation\n",
        "adv_name = \"adv-04\"\n",
        "segment_ids = get_segment_ids(adv_name)\n",
        "adv_lease = show_reservation_byname(adv_name + \"-lease\")\n",
        "if not adv_lease:\n",
        "    adv_lease = reserve(\n",
        "        { \"type\":\"network\", \"name\": adv_name, \"net_name\": adv_name, \"segment_id\": segment_ids['rj45'], \"duration\": { \"days\":7, \"hours\":0 } }\n",
        "    )\n",
        "\n",
        "# advantech router reservation\n",
        "adv_name = \"adv-05\"\n",
        "segment_ids = get_segment_ids(adv_name)\n",
        "adv_lease = show_reservation_byname(adv_name + \"-lease\")\n",
        "if not adv_lease:\n",
        "    adv_lease = reserve(\n",
        "        { \"type\":\"network\", \"name\": adv_name, \"net_name\": adv_name, \"segment_id\": segment_ids['rj45'], \"duration\": { \"days\":7, \"hours\":0 } }\n",
        "    )\n",
        "\n",
        "# advantech router reservation\n",
        "adv_name = \"adv-06\"\n",
        "segment_ids = get_segment_ids(adv_name)\n",
        "adv_lease = show_reservation_byname(adv_name + \"-lease\")\n",
        "if not adv_lease:\n",
        "    adv_lease = reserve(\n",
        "        { \"type\":\"network\", \"name\": adv_name, \"net_name\": adv_name, \"segment_id\": segment_ids['rj45'], \"duration\": { \"days\":7, \"hours\":0 } }\n",
        "    )\n",
        "\n",
        "# advantech router reservation\n",
        "adv_name = \"adv-07\"\n",
        "segment_ids = get_segment_ids(adv_name)\n",
        "adv_lease = show_reservation_byname(adv_name + \"-lease\")\n",
        "if not adv_lease:\n",
        "    adv_lease = reserve(\n",
        "        { \"type\":\"network\", \"name\": adv_name, \"net_name\": adv_name, \"segment_id\": segment_ids['rj45'], \"duration\": { \"days\":7, \"hours\":0 } }\n",
        "    )"
      ],
      "metadata": {
        "colab": {
          "base_uri": "https://localhost:8080/"
        },
        "id": "hXhJv1sN1V0t",
        "outputId": "d1e4c313-39c7-4c4b-b898-80113314b79c"
      },
      "execution_count": null,
      "outputs": [
        {
          "output_type": "stream",
          "name": "stderr",
          "text": [
            "\u001b[32m2025-01-30 15:46:38.971\u001b[0m | \u001b[1mINFO    \u001b[0m | \u001b[36mchi.expeca\u001b[0m:\u001b[36mreserve\u001b[0m:\u001b[36m243\u001b[0m - \u001b[1mreserving adv-05\u001b[0m\n",
            "\u001b[32m2025-01-30 15:46:41.289\u001b[0m | \u001b[1mINFO    \u001b[0m | \u001b[36mchi.expeca\u001b[0m:\u001b[36mwait_until_lease_status\u001b[0m:\u001b[36m138\u001b[0m - \u001b[1mwaiting 120 seconds for adv-05-lease with id 06811893-f40e-4ceb-9098-3c1ee86c005f to become \"ACTIVE\"\u001b[0m\n",
            "\u001b[32m2025-01-30 15:46:46.573\u001b[0m | \u001b[1mINFO    \u001b[0m | \u001b[36mchi.expeca\u001b[0m:\u001b[36mwait_until_lease_status\u001b[0m:\u001b[36m145\u001b[0m - \u001b[1mlease adv-05-lease with id 06811893-f40e-4ceb-9098-3c1ee86c005f is PENDING.\u001b[0m\n",
            "\u001b[32m2025-01-30 15:46:51.846\u001b[0m | \u001b[1mINFO    \u001b[0m | \u001b[36mchi.expeca\u001b[0m:\u001b[36mwait_until_lease_status\u001b[0m:\u001b[36m145\u001b[0m - \u001b[1mlease adv-05-lease with id 06811893-f40e-4ceb-9098-3c1ee86c005f is PENDING.\u001b[0m\n",
            "\u001b[32m2025-01-30 15:46:57.123\u001b[0m | \u001b[1mINFO    \u001b[0m | \u001b[36mchi.expeca\u001b[0m:\u001b[36mwait_until_lease_status\u001b[0m:\u001b[36m145\u001b[0m - \u001b[1mlease adv-05-lease with id 06811893-f40e-4ceb-9098-3c1ee86c005f is PENDING.\u001b[0m\n",
            "\u001b[32m2025-01-30 15:47:02.499\u001b[0m | \u001b[1mINFO    \u001b[0m | \u001b[36mchi.expeca\u001b[0m:\u001b[36mwait_until_lease_status\u001b[0m:\u001b[36m145\u001b[0m - \u001b[1mlease adv-05-lease with id 06811893-f40e-4ceb-9098-3c1ee86c005f is PENDING.\u001b[0m\n",
            "\u001b[32m2025-01-30 15:47:07.784\u001b[0m | \u001b[1mINFO    \u001b[0m | \u001b[36mchi.expeca\u001b[0m:\u001b[36mwait_until_lease_status\u001b[0m:\u001b[36m145\u001b[0m - \u001b[1mlease adv-05-lease with id 06811893-f40e-4ceb-9098-3c1ee86c005f is STARTING.\u001b[0m\n",
            "\u001b[32m2025-01-30 15:47:13.049\u001b[0m | \u001b[1mINFO    \u001b[0m | \u001b[36mchi.expeca\u001b[0m:\u001b[36mwait_until_lease_status\u001b[0m:\u001b[36m145\u001b[0m - \u001b[1mlease adv-05-lease with id 06811893-f40e-4ceb-9098-3c1ee86c005f is STARTING.\u001b[0m\n",
            "\u001b[32m2025-01-30 15:47:18.313\u001b[0m | \u001b[1mINFO    \u001b[0m | \u001b[36mchi.expeca\u001b[0m:\u001b[36mwait_until_lease_status\u001b[0m:\u001b[36m145\u001b[0m - \u001b[1mlease adv-05-lease with id 06811893-f40e-4ceb-9098-3c1ee86c005f is STARTING.\u001b[0m\n",
            "\u001b[32m2025-01-30 15:47:23.572\u001b[0m | \u001b[1mINFO    \u001b[0m | \u001b[36mchi.expeca\u001b[0m:\u001b[36mwait_until_lease_status\u001b[0m:\u001b[36m145\u001b[0m - \u001b[1mlease adv-05-lease with id 06811893-f40e-4ceb-9098-3c1ee86c005f is ACTIVE.\u001b[0m\n",
            "\u001b[32m2025-01-30 15:47:23.574\u001b[0m | \u001b[32m\u001b[1mSUCCESS \u001b[0m | \u001b[36mchi.expeca\u001b[0m:\u001b[36mtry_to_create_lease\u001b[0m:\u001b[36m285\u001b[0m - \u001b[32m\u001b[1mdone\u001b[0m\n",
            "\u001b[32m2025-01-30 15:47:32.827\u001b[0m | \u001b[1mINFO    \u001b[0m | \u001b[36mchi.expeca\u001b[0m:\u001b[36mreserve\u001b[0m:\u001b[36m243\u001b[0m - \u001b[1mreserving adv-06\u001b[0m\n",
            "\u001b[32m2025-01-30 15:47:35.300\u001b[0m | \u001b[1mINFO    \u001b[0m | \u001b[36mchi.expeca\u001b[0m:\u001b[36mwait_until_lease_status\u001b[0m:\u001b[36m138\u001b[0m - \u001b[1mwaiting 120 seconds for adv-06-lease with id 566cd5f2-4e76-4eb4-8b21-2a8f6015da7b to become \"ACTIVE\"\u001b[0m\n",
            "\u001b[32m2025-01-30 15:47:40.590\u001b[0m | \u001b[1mINFO    \u001b[0m | \u001b[36mchi.expeca\u001b[0m:\u001b[36mwait_until_lease_status\u001b[0m:\u001b[36m145\u001b[0m - \u001b[1mlease adv-06-lease with id 566cd5f2-4e76-4eb4-8b21-2a8f6015da7b is PENDING.\u001b[0m\n",
            "\u001b[32m2025-01-30 15:47:45.888\u001b[0m | \u001b[1mINFO    \u001b[0m | \u001b[36mchi.expeca\u001b[0m:\u001b[36mwait_until_lease_status\u001b[0m:\u001b[36m145\u001b[0m - \u001b[1mlease adv-06-lease with id 566cd5f2-4e76-4eb4-8b21-2a8f6015da7b is PENDING.\u001b[0m\n",
            "\u001b[32m2025-01-30 15:47:51.169\u001b[0m | \u001b[1mINFO    \u001b[0m | \u001b[36mchi.expeca\u001b[0m:\u001b[36mwait_until_lease_status\u001b[0m:\u001b[36m145\u001b[0m - \u001b[1mlease adv-06-lease with id 566cd5f2-4e76-4eb4-8b21-2a8f6015da7b is PENDING.\u001b[0m\n",
            "\u001b[32m2025-01-30 15:47:56.464\u001b[0m | \u001b[1mINFO    \u001b[0m | \u001b[36mchi.expeca\u001b[0m:\u001b[36mwait_until_lease_status\u001b[0m:\u001b[36m145\u001b[0m - \u001b[1mlease adv-06-lease with id 566cd5f2-4e76-4eb4-8b21-2a8f6015da7b is PENDING.\u001b[0m\n",
            "\u001b[32m2025-01-30 15:48:01.758\u001b[0m | \u001b[1mINFO    \u001b[0m | \u001b[36mchi.expeca\u001b[0m:\u001b[36mwait_until_lease_status\u001b[0m:\u001b[36m145\u001b[0m - \u001b[1mlease adv-06-lease with id 566cd5f2-4e76-4eb4-8b21-2a8f6015da7b is PENDING.\u001b[0m\n",
            "\u001b[32m2025-01-30 15:48:07.068\u001b[0m | \u001b[1mINFO    \u001b[0m | \u001b[36mchi.expeca\u001b[0m:\u001b[36mwait_until_lease_status\u001b[0m:\u001b[36m145\u001b[0m - \u001b[1mlease adv-06-lease with id 566cd5f2-4e76-4eb4-8b21-2a8f6015da7b is PENDING.\u001b[0m\n",
            "\u001b[32m2025-01-30 15:48:12.358\u001b[0m | \u001b[1mINFO    \u001b[0m | \u001b[36mchi.expeca\u001b[0m:\u001b[36mwait_until_lease_status\u001b[0m:\u001b[36m145\u001b[0m - \u001b[1mlease adv-06-lease with id 566cd5f2-4e76-4eb4-8b21-2a8f6015da7b is STARTING.\u001b[0m\n",
            "\u001b[32m2025-01-30 15:48:17.629\u001b[0m | \u001b[1mINFO    \u001b[0m | \u001b[36mchi.expeca\u001b[0m:\u001b[36mwait_until_lease_status\u001b[0m:\u001b[36m145\u001b[0m - \u001b[1mlease adv-06-lease with id 566cd5f2-4e76-4eb4-8b21-2a8f6015da7b is STARTING.\u001b[0m\n",
            "\u001b[32m2025-01-30 15:48:22.898\u001b[0m | \u001b[1mINFO    \u001b[0m | \u001b[36mchi.expeca\u001b[0m:\u001b[36mwait_until_lease_status\u001b[0m:\u001b[36m145\u001b[0m - \u001b[1mlease adv-06-lease with id 566cd5f2-4e76-4eb4-8b21-2a8f6015da7b is STARTING.\u001b[0m\n",
            "\u001b[32m2025-01-30 15:48:28.180\u001b[0m | \u001b[1mINFO    \u001b[0m | \u001b[36mchi.expeca\u001b[0m:\u001b[36mwait_until_lease_status\u001b[0m:\u001b[36m145\u001b[0m - \u001b[1mlease adv-06-lease with id 566cd5f2-4e76-4eb4-8b21-2a8f6015da7b is ACTIVE.\u001b[0m\n",
            "\u001b[32m2025-01-30 15:48:28.182\u001b[0m | \u001b[32m\u001b[1mSUCCESS \u001b[0m | \u001b[36mchi.expeca\u001b[0m:\u001b[36mtry_to_create_lease\u001b[0m:\u001b[36m285\u001b[0m - \u001b[32m\u001b[1mdone\u001b[0m\n",
            "\u001b[32m2025-01-30 15:48:38.087\u001b[0m | \u001b[1mINFO    \u001b[0m | \u001b[36mchi.expeca\u001b[0m:\u001b[36mreserve\u001b[0m:\u001b[36m243\u001b[0m - \u001b[1mreserving adv-07\u001b[0m\n",
            "\u001b[32m2025-01-30 15:48:40.373\u001b[0m | \u001b[1mINFO    \u001b[0m | \u001b[36mchi.expeca\u001b[0m:\u001b[36mwait_until_lease_status\u001b[0m:\u001b[36m138\u001b[0m - \u001b[1mwaiting 120 seconds for adv-07-lease with id 9224cd10-00c1-4a89-ad35-a2136107e62d to become \"ACTIVE\"\u001b[0m\n",
            "\u001b[32m2025-01-30 15:48:45.649\u001b[0m | \u001b[1mINFO    \u001b[0m | \u001b[36mchi.expeca\u001b[0m:\u001b[36mwait_until_lease_status\u001b[0m:\u001b[36m145\u001b[0m - \u001b[1mlease adv-07-lease with id 9224cd10-00c1-4a89-ad35-a2136107e62d is PENDING.\u001b[0m\n",
            "\u001b[32m2025-01-30 15:48:50.940\u001b[0m | \u001b[1mINFO    \u001b[0m | \u001b[36mchi.expeca\u001b[0m:\u001b[36mwait_until_lease_status\u001b[0m:\u001b[36m145\u001b[0m - \u001b[1mlease adv-07-lease with id 9224cd10-00c1-4a89-ad35-a2136107e62d is PENDING.\u001b[0m\n",
            "\u001b[32m2025-01-30 15:48:56.201\u001b[0m | \u001b[1mINFO    \u001b[0m | \u001b[36mchi.expeca\u001b[0m:\u001b[36mwait_until_lease_status\u001b[0m:\u001b[36m145\u001b[0m - \u001b[1mlease adv-07-lease with id 9224cd10-00c1-4a89-ad35-a2136107e62d is PENDING.\u001b[0m\n",
            "\u001b[32m2025-01-30 15:49:01.509\u001b[0m | \u001b[1mINFO    \u001b[0m | \u001b[36mchi.expeca\u001b[0m:\u001b[36mwait_until_lease_status\u001b[0m:\u001b[36m145\u001b[0m - \u001b[1mlease adv-07-lease with id 9224cd10-00c1-4a89-ad35-a2136107e62d is PENDING.\u001b[0m\n",
            "\u001b[32m2025-01-30 15:49:06.795\u001b[0m | \u001b[1mINFO    \u001b[0m | \u001b[36mchi.expeca\u001b[0m:\u001b[36mwait_until_lease_status\u001b[0m:\u001b[36m145\u001b[0m - \u001b[1mlease adv-07-lease with id 9224cd10-00c1-4a89-ad35-a2136107e62d is STARTING.\u001b[0m\n",
            "\u001b[32m2025-01-30 15:49:12.091\u001b[0m | \u001b[1mINFO    \u001b[0m | \u001b[36mchi.expeca\u001b[0m:\u001b[36mwait_until_lease_status\u001b[0m:\u001b[36m145\u001b[0m - \u001b[1mlease adv-07-lease with id 9224cd10-00c1-4a89-ad35-a2136107e62d is STARTING.\u001b[0m\n",
            "\u001b[32m2025-01-30 15:49:17.377\u001b[0m | \u001b[1mINFO    \u001b[0m | \u001b[36mchi.expeca\u001b[0m:\u001b[36mwait_until_lease_status\u001b[0m:\u001b[36m145\u001b[0m - \u001b[1mlease adv-07-lease with id 9224cd10-00c1-4a89-ad35-a2136107e62d is STARTING.\u001b[0m\n",
            "\u001b[32m2025-01-30 15:49:22.683\u001b[0m | \u001b[1mINFO    \u001b[0m | \u001b[36mchi.expeca\u001b[0m:\u001b[36mwait_until_lease_status\u001b[0m:\u001b[36m145\u001b[0m - \u001b[1mlease adv-07-lease with id 9224cd10-00c1-4a89-ad35-a2136107e62d is ACTIVE.\u001b[0m\n",
            "\u001b[32m2025-01-30 15:49:22.685\u001b[0m | \u001b[32m\u001b[1mSUCCESS \u001b[0m | \u001b[36mchi.expeca\u001b[0m:\u001b[36mtry_to_create_lease\u001b[0m:\u001b[36m285\u001b[0m - \u001b[32m\u001b[1mdone\u001b[0m\n"
          ]
        }
      ]
    },
    {
      "cell_type": "code",
      "source": [
        "# worker reservation\n",
        "worker_name = \"worker-07\"\n",
        "worker_lease = show_reservation_byname(worker_name + \"-lease\")\n",
        "worker_reservation_id = worker_lease[\"reservations\"][0][\"id\"]\n",
        "edgenet = chi.network.get_network(\"edge-net\")\n",
        "container_name = \"ct-server-node\"\n",
        "chi.container.create_container(\n",
        "    name = container_name,\n",
        "    image = \"samiemostafavi/perf-meas\",\n",
        "    reservation_id = worker_reservation_id,\n",
        "    environment = {\"SERVER_DIR\":\"/tmp/\"},\n",
        "    mounts = [],\n",
        "    nets = [\n",
        "        { \"network\" : edgenet['id'] },\n",
        "    ],\n",
        "    labels = {\n",
        "        \"networks.1.interface\":\"ens1\",\n",
        "        \"networks.1.ip\":\"10.70.70.210/24\",\n",
        "        \"networks.1.routes\":\"172.16.0.0/16-10.70.70.1\",\n",
        "    },\n",
        ")\n",
        "chi.container.wait_for_active(container_name)\n",
        "logger.success(f\"created {container_name} container.\")"
      ],
      "metadata": {
        "colab": {
          "base_uri": "https://localhost:8080/"
        },
        "id": "YQNQbmJq95cQ",
        "outputId": "f1b93cdf-2c93-45a6-b946-a39653ac78e7"
      },
      "execution_count": null,
      "outputs": [
        {
          "output_type": "stream",
          "name": "stderr",
          "text": [
            "\u001b[32m2025-01-30 16:08:54.040\u001b[0m | \u001b[32m\u001b[1mSUCCESS \u001b[0m | \u001b[36m__main__\u001b[0m:\u001b[36m<cell line: 0>\u001b[0m:\u001b[36m23\u001b[0m - \u001b[32m\u001b[1mcreated ct-server-node container.\u001b[0m\n"
          ]
        }
      ]
    },
    {
      "cell_type": "code",
      "source": [
        "ports = [\n",
        "    53301,\n",
        "    53302,\n",
        "    53303,\n",
        "    53304,\n",
        "    53305\n",
        "]\n",
        "container_name = \"ct-server-node\"\n",
        "for port in ports:\n",
        "    command = f\"iperf3 -s -p {port}\"\n",
        "    result = chi.container.execute(\n",
        "        container_ref=container_name,\n",
        "        command=\"curl -s -X POST -H \\\"Content-Type: application/json\\\" -d '{\\\"cmd\\\": \\\"\" + command + \"\\\"}' http://localhost:50505/\",\n",
        "    )\n",
        "    logger.info(f\"{result}\")"
      ],
      "metadata": {
        "colab": {
          "base_uri": "https://localhost:8080/"
        },
        "id": "Dww7H0BV-RqD",
        "outputId": "19dc67f6-e170-4c88-8f0e-b7130e3b5f4d"
      },
      "execution_count": null,
      "outputs": [
        {
          "output_type": "stream",
          "name": "stderr",
          "text": [
            "\u001b[32m2025-01-30 16:09:25.643\u001b[0m | \u001b[1mINFO    \u001b[0m | \u001b[36m__main__\u001b[0m:\u001b[36m<cell line: 0>\u001b[0m:\u001b[36m15\u001b[0m - \u001b[1m{'output': 'Command received and started in the background.\\n', 'exit_code': 0, 'exec_id': None, 'proxy_url': None}\u001b[0m\n",
            "\u001b[32m2025-01-30 16:09:25.985\u001b[0m | \u001b[1mINFO    \u001b[0m | \u001b[36m__main__\u001b[0m:\u001b[36m<cell line: 0>\u001b[0m:\u001b[36m15\u001b[0m - \u001b[1m{'output': 'Command received and started in the background.\\n', 'exit_code': 0, 'exec_id': None, 'proxy_url': None}\u001b[0m\n",
            "\u001b[32m2025-01-30 16:09:26.337\u001b[0m | \u001b[1mINFO    \u001b[0m | \u001b[36m__main__\u001b[0m:\u001b[36m<cell line: 0>\u001b[0m:\u001b[36m15\u001b[0m - \u001b[1m{'output': 'Command received and started in the background.\\n', 'exit_code': 0, 'exec_id': None, 'proxy_url': None}\u001b[0m\n",
            "\u001b[32m2025-01-30 16:09:26.696\u001b[0m | \u001b[1mINFO    \u001b[0m | \u001b[36m__main__\u001b[0m:\u001b[36m<cell line: 0>\u001b[0m:\u001b[36m15\u001b[0m - \u001b[1m{'output': 'Command received and started in the background.\\n', 'exit_code': 0, 'exec_id': None, 'proxy_url': None}\u001b[0m\n",
            "\u001b[32m2025-01-30 16:09:27.046\u001b[0m | \u001b[1mINFO    \u001b[0m | \u001b[36m__main__\u001b[0m:\u001b[36m<cell line: 0>\u001b[0m:\u001b[36m15\u001b[0m - \u001b[1m{'output': 'Command received and started in the background.\\n', 'exit_code': 0, 'exec_id': None, 'proxy_url': None}\u001b[0m\n"
          ]
        }
      ]
    },
    {
      "cell_type": "code",
      "source": [
        "advnet = chi.network.get_network(\"adv-02-net\")\n",
        "container_name = \"ct-client-node-01\"\n",
        "chi.container.create_container(\n",
        "    name = container_name,\n",
        "    image = \"samiemostafavi/perf-meas\",\n",
        "    reservation_id = worker_reservation_id,\n",
        "    environment = {\"SERVER_DIR\":\"/tmp/\"},\n",
        "    nets = [\n",
        "        { \"network\" : advnet['id'] },\n",
        "    ],\n",
        "    labels = {\n",
        "        \"networks.1.interface\":\"eno12409\",\n",
        "        \"networks.1.ip\":\"10.42.3.2/24\",\n",
        "        \"networks.1.routes\":\"10.70.70.0/24-10.42.3.1\",\n",
        "    },\n",
        ")\n",
        "chi.container.wait_for_active(container_name)\n",
        "logger.success(f\"created {container_name} container.\")"
      ],
      "metadata": {
        "colab": {
          "base_uri": "https://localhost:8080/"
        },
        "id": "trPanNKl-Zh0",
        "outputId": "9b452a3d-2c02-4efb-dd32-d4ac0c679953"
      },
      "execution_count": null,
      "outputs": [
        {
          "output_type": "stream",
          "name": "stderr",
          "text": [
            "\u001b[32m2025-01-30 16:10:56.314\u001b[0m | \u001b[32m\u001b[1mSUCCESS \u001b[0m | \u001b[36m__main__\u001b[0m:\u001b[36m<cell line: 0>\u001b[0m:\u001b[36m18\u001b[0m - \u001b[32m\u001b[1mcreated ct-client-node-01 container.\u001b[0m\n"
          ]
        }
      ]
    },
    {
      "cell_type": "code",
      "source": [
        "advnet = chi.network.get_network(\"adv-03-net\")\n",
        "container_name = \"ct-client-node-02\"\n",
        "chi.container.create_container(\n",
        "    name = container_name,\n",
        "    image = \"samiemostafavi/perf-meas\",\n",
        "    reservation_id = worker_reservation_id,\n",
        "    environment = {\"SERVER_DIR\":\"/tmp/\"},\n",
        "    nets = [\n",
        "        { \"network\" : advnet['id'] },\n",
        "    ],\n",
        "    labels = {\n",
        "        \"networks.1.interface\":\"eno12419\",\n",
        "        \"networks.1.ip\":\"10.42.3.2/24\",\n",
        "        \"networks.1.routes\":\"10.70.70.0/24-10.42.3.1\",\n",
        "    },\n",
        ")\n",
        "chi.container.wait_for_active(container_name)\n",
        "logger.success(f\"created {container_name} container.\")"
      ],
      "metadata": {
        "colab": {
          "base_uri": "https://localhost:8080/"
        },
        "id": "0r1t2cEM-vJX",
        "outputId": "103f28eb-c79a-4e14-c635-11416a6e12a1"
      },
      "execution_count": null,
      "outputs": [
        {
          "output_type": "stream",
          "name": "stderr",
          "text": [
            "\u001b[32m2025-01-30 16:11:45.042\u001b[0m | \u001b[32m\u001b[1mSUCCESS \u001b[0m | \u001b[36m__main__\u001b[0m:\u001b[36m<cell line: 0>\u001b[0m:\u001b[36m18\u001b[0m - \u001b[32m\u001b[1mcreated ct-client-node-02 container.\u001b[0m\n"
          ]
        }
      ]
    },
    {
      "cell_type": "code",
      "source": [
        "advnet = chi.network.get_network(\"adv-04-net\")\n",
        "container_name = \"ct-client-node-03\"\n",
        "chi.container.create_container(\n",
        "    name = container_name,\n",
        "    image = \"samiemostafavi/perf-meas\",\n",
        "    reservation_id = worker_reservation_id,\n",
        "    environment = {\"SERVER_DIR\":\"/tmp/\"},\n",
        "    nets = [\n",
        "        { \"network\" : advnet['id'] },\n",
        "    ],\n",
        "    labels = {\n",
        "        \"networks.1.interface\":\"eno12429\",\n",
        "        \"networks.1.ip\":\"10.42.3.2/24\",\n",
        "        \"networks.1.routes\":\"10.70.70.0/24-10.42.3.1\",\n",
        "    },\n",
        ")\n",
        "chi.container.wait_for_active(container_name)\n",
        "logger.success(f\"created {container_name} container.\")"
      ],
      "metadata": {
        "colab": {
          "base_uri": "https://localhost:8080/"
        },
        "id": "_2kdUBAh-6Eb",
        "outputId": "8257dbdc-1936-46b6-d60b-6de3858d3902"
      },
      "execution_count": null,
      "outputs": [
        {
          "output_type": "stream",
          "name": "stderr",
          "text": [
            "\u001b[32m2025-01-30 16:12:29.182\u001b[0m | \u001b[32m\u001b[1mSUCCESS \u001b[0m | \u001b[36m__main__\u001b[0m:\u001b[36m<cell line: 0>\u001b[0m:\u001b[36m18\u001b[0m - \u001b[32m\u001b[1mcreated ct-client-node-03 container.\u001b[0m\n"
          ]
        }
      ]
    },
    {
      "cell_type": "code",
      "source": [
        "worker_name = \"worker-08\"\n",
        "worker_lease = show_reservation_byname(worker_name + \"-lease\")\n",
        "worker_reservation_id = worker_lease[\"reservations\"][0][\"id\"]\n",
        "\n",
        "advnet = chi.network.get_network(\"adv-05-net\")\n",
        "container_name = \"ct-client-node-04\"\n",
        "chi.container.create_container(\n",
        "    name = container_name,\n",
        "    image = \"samiemostafavi/perf-meas\",\n",
        "    reservation_id = worker_reservation_id,\n",
        "    environment = {\"SERVER_DIR\":\"/tmp/\"},\n",
        "    nets = [\n",
        "        { \"network\" : advnet['id'] },\n",
        "    ],\n",
        "    labels = {\n",
        "        \"networks.1.interface\":\"ens1\",\n",
        "        \"networks.1.ip\":\"10.42.3.2/24\",\n",
        "        \"networks.1.routes\":\"10.70.70.0/24-10.42.3.1\",\n",
        "    },\n",
        ")\n",
        "chi.container.wait_for_active(container_name)\n",
        "logger.success(f\"created {container_name} container.\")"
      ],
      "metadata": {
        "colab": {
          "base_uri": "https://localhost:8080/"
        },
        "id": "B5l1RJLu_Gjr",
        "outputId": "0cd78511-eece-4c09-a288-6e0ad349e1b3"
      },
      "execution_count": null,
      "outputs": [
        {
          "output_type": "stream",
          "name": "stderr",
          "text": [
            "\u001b[32m2025-01-30 16:13:31.579\u001b[0m | \u001b[32m\u001b[1mSUCCESS \u001b[0m | \u001b[36m__main__\u001b[0m:\u001b[36m<cell line: 0>\u001b[0m:\u001b[36m22\u001b[0m - \u001b[32m\u001b[1mcreated ct-client-node-04 container.\u001b[0m\n"
          ]
        }
      ]
    },
    {
      "cell_type": "code",
      "source": [
        "advnet = chi.network.get_network(\"adv-06-net\")\n",
        "container_name = \"ct-client-node-05\"\n",
        "chi.container.create_container(\n",
        "    name = container_name,\n",
        "    image = \"samiemostafavi/perf-meas\",\n",
        "    reservation_id = worker_reservation_id,\n",
        "    environment = {\"SERVER_DIR\":\"/tmp/\"},\n",
        "    nets = [\n",
        "        { \"network\" : advnet['id'] },\n",
        "    ],\n",
        "    labels = {\n",
        "        \"networks.1.interface\":\"eno12409\",\n",
        "        \"networks.1.ip\":\"10.42.3.2/24\",\n",
        "        \"networks.1.routes\":\"10.70.70.0/24-10.42.3.1\",\n",
        "    },\n",
        ")\n",
        "chi.container.wait_for_active(container_name)\n",
        "logger.success(f\"created {container_name} container.\")"
      ],
      "metadata": {
        "colab": {
          "base_uri": "https://localhost:8080/"
        },
        "id": "6_gVuxyQ_UUE",
        "outputId": "bcf0f9a9-01d4-4b8e-ccb2-d9352ead6fbe"
      },
      "execution_count": null,
      "outputs": [
        {
          "output_type": "stream",
          "name": "stderr",
          "text": [
            "\u001b[32m2025-01-30 16:14:23.508\u001b[0m | \u001b[32m\u001b[1mSUCCESS \u001b[0m | \u001b[36m__main__\u001b[0m:\u001b[36m<cell line: 0>\u001b[0m:\u001b[36m18\u001b[0m - \u001b[32m\u001b[1mcreated ct-client-node-05 container.\u001b[0m\n"
          ]
        }
      ]
    },
    {
      "cell_type": "code",
      "source": [
        "worker_name = \"worker-06\"\n",
        "worker_lease = show_reservation_byname(worker_name + \"-lease\")\n",
        "worker_reservation_id = worker_lease[\"reservations\"][0][\"id\"]\n",
        "\n",
        "publicnet = chi.network.get_network(\"serverpublic\")\n",
        "edgenet = chi.network.get_network(\"edge-net\")\n",
        "container_name = \"ros-latency-server-node\"\n",
        "chi.container.create_container(\n",
        "    name = container_name,\n",
        "    image = \"bryandony/ros:melodic-voxblox-edge-expeca\",\n",
        "    reservation_id = worker_reservation_id,\n",
        "    environment = {\n",
        "        \"DNS_IP\":\"8.8.8.8\",\n",
        "        \"GATEWAY_IP\":\"130.237.11.97\",\n",
        "        \"PASS\":\"expeca\"\n",
        "    },\n",
        "    mounts = [],\n",
        "    nets = [\n",
        "        { \"network\" : publicnet['id'] },\n",
        "        { \"network\" : edgenet['id'] },\n",
        "    ],\n",
        "    labels = {\n",
        "        \"networks.1.interface\":\"ens1f1\",\n",
        "        \"networks.1.ip\":\"130.237.11.122/27\",\n",
        "        \"networks.1.gateway\":\"130.237.11.97\",\n",
        "        \"networks.2.interface\":\"eno12399np0\",\n",
        "        \"networks.2.ip\":\"10.70.70.211/24\",\n",
        "        \"networks.2.routes\":\"172.16.0.0/16-10.70.70.1\",\n",
        "        \"capabilities.privileged\":\"true\",\n",
        "    },\n",
        ")\n",
        "chi.container.wait_for_active(container_name)\n",
        "logger.success(f\"created {container_name} container.\")"
      ],
      "metadata": {
        "colab": {
          "base_uri": "https://localhost:8080/"
        },
        "id": "eLT8rYMK_iEE",
        "outputId": "f9a62d7a-c4a2-437b-b2fb-6f2403c26dcd"
      },
      "execution_count": null,
      "outputs": [
        {
          "output_type": "stream",
          "name": "stderr",
          "text": [
            "\u001b[32m2025-01-30 16:16:33.092\u001b[0m | \u001b[32m\u001b[1mSUCCESS \u001b[0m | \u001b[36m__main__\u001b[0m:\u001b[36m<cell line: 0>\u001b[0m:\u001b[36m33\u001b[0m - \u001b[32m\u001b[1mcreated ros-latency-server-node container.\u001b[0m\n"
          ]
        }
      ]
    },
    {
      "cell_type": "code",
      "source": [
        "worker_name = \"worker-09\"\n",
        "worker_lease = show_reservation_byname(worker_name + \"-lease\")\n",
        "worker_reservation_id = worker_lease[\"reservations\"][0][\"id\"]\n",
        "publicnet = chi.network.get_network(\"serverpublic\")\n",
        "advnet = chi.network.get_network(\"adv-07-net\")\n",
        "name = \"ros-latency-client-node\"\n",
        "chi.container.create_container(\n",
        "    name = name,\n",
        "    image = \"bryandony/ros:melodic-voxblox-edge-expeca\",\n",
        "    reservation_id = worker_reservation_id,\n",
        "    environment = {\"SERVER_DIR\":\"/tmp/\"},\n",
        "    nets = [\n",
        "        { \"network\" : publicnet['id'] },\n",
        "        { \"network\" : advnet['id'] },\n",
        "    ],\n",
        "    labels = {\n",
        "        \"networks.1.interface\":\"ens1\",\n",
        "        \"networks.1.ip\":\"130.237.11.123/27\",\n",
        "        \"networks.1.gateway\":\"130.237.11.97\",\n",
        "        \"networks.2.interface\":\"eno12409\",\n",
        "        \"networks.2.ip\":\"10.42.3.2/24\",\n",
        "        \"networks.2.routes\":\"10.70.70.0/24-10.42.3.1\",\n",
        "        \"capabilities.privileged\":\"true\",\n",
        "    },\n",
        ")\n",
        "chi.container.wait_for_active(name)\n",
        "logger.success(f\"created {name} container.\")"
      ],
      "metadata": {
        "colab": {
          "base_uri": "https://localhost:8080/"
        },
        "id": "spVstzJJABmZ",
        "outputId": "629d0d45-5366-4c97-eb06-fb5d2f22030f"
      },
      "execution_count": null,
      "outputs": [
        {
          "output_type": "stream",
          "name": "stderr",
          "text": [
            "\u001b[32m2025-01-30 16:22:08.861\u001b[0m | \u001b[32m\u001b[1mSUCCESS \u001b[0m | \u001b[36m__main__\u001b[0m:\u001b[36m<cell line: 0>\u001b[0m:\u001b[36m27\u001b[0m - \u001b[32m\u001b[1mcreated ros-latency-client-node container.\u001b[0m\n"
          ]
        }
      ]
    }
  ],
  "metadata": {
    "colab": {
      "provenance": [],
      "include_colab_link": true
    },
    "kernelspec": {
      "display_name": "Python 3",
      "name": "python3"
    },
    "language_info": {
      "name": "python"
    }
  },
  "nbformat": 4,
  "nbformat_minor": 0
}